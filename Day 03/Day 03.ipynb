{
 "cells": [
  {
   "cell_type": "markdown",
   "id": "f8fc5eac-a06c-46c0-8b13-1a62969ef0d2",
   "metadata": {},
   "source": [
    "## Day 03"
   ]
  },
  {
   "cell_type": "markdown",
   "id": "a06bee66-b068-4fc4-833c-6e0beace7392",
   "metadata": {},
   "source": [
    "# Strings"
   ]
  },
  {
   "cell_type": "markdown",
   "id": "5f843e97-d5fc-4f27-bd32-915b91a16d0e",
   "metadata": {},
   "source": [
    "Strings are a sequence of characters which can be stored either as a constant or a different variable.Text is a string data type. Any data type written as text is a string. Any data under single, double or triple quote are strings"
   ]
  },
  {
   "cell_type": "markdown",
   "id": "8a2594da-eb5e-474f-ae89-1cb7e68acbee",
   "metadata": {},
   "source": [
    "### For example, declaring a string in python:"
   ]
  },
  {
   "cell_type": "code",
   "execution_count": 7,
   "id": "37652dc8-5c41-45c4-a50d-c9b3d356f616",
   "metadata": {},
   "outputs": [
    {
     "name": "stdout",
     "output_type": "stream",
     "text": [
      "This is a python string\n"
     ]
    }
   ],
   "source": [
    "# Declaring a string variable\n",
    "string = \"This is a python string\"\n",
    "print(string)"
   ]
  },
  {
   "cell_type": "code",
   "execution_count": 9,
   "id": "dda14171-0e19-4cf7-ab8c-c188470c29cd",
   "metadata": {},
   "outputs": [
    {
     "name": "stdout",
     "output_type": "stream",
     "text": [
      "<class 'str'>\n"
     ]
    }
   ],
   "source": [
    "print(type(string))"
   ]
  },
  {
   "cell_type": "code",
   "execution_count": 13,
   "id": "904130f1-23cf-411e-b356-fd84eed869a7",
   "metadata": {},
   "outputs": [
    {
     "name": "stdout",
     "output_type": "stream",
     "text": [
      "Hello Everyone this is day 03 \n",
      "of 30 days of python learning,\n",
      "\n"
     ]
    }
   ],
   "source": [
    "multiline_string = '''Hello Everyone this is day 03 \n",
    "of 30 days of python learning,\n",
    "'''\n",
    "print(multiline_string)"
   ]
  },
  {
   "cell_type": "markdown",
   "id": "5b4d3f95-715c-490d-97c6-2e4e43a8d35e",
   "metadata": {},
   "source": [
    "## String len()\n"
   ]
  },
  {
   "cell_type": "markdown",
   "id": "c9d5acc9-3574-441b-8ad1-cb345f762e3d",
   "metadata": {},
   "source": [
    "The len() function returns the length of a string, the number of chars in it. It is valid to have a string of zero characters, written just as '', called the \"empty string\". The length of the empty string is 0. The len() function in Python is omnipresent - it's used to retrieve the length of every data type, with string just a first example."
   ]
  },
  {
   "cell_type": "code",
   "execution_count": 17,
   "id": "73888656-d5c3-471c-8ed3-8a2b92384f92",
   "metadata": {},
   "outputs": [
    {
     "data": {
      "text/plain": [
       "6"
      ]
     },
     "execution_count": 17,
     "metadata": {},
     "output_type": "execute_result"
    }
   ],
   "source": [
    "s = 'Python'\n",
    "len(s)"
   ]
  },
  {
   "cell_type": "code",
   "execution_count": 21,
   "id": "23aab2d3-910e-4b66-b2d4-5eb34b751751",
   "metadata": {},
   "outputs": [
    {
     "data": {
      "text/plain": [
       "0"
      ]
     },
     "execution_count": 21,
     "metadata": {},
     "output_type": "execute_result"
    }
   ],
   "source": [
    "len('') # empty string"
   ]
  },
  {
   "cell_type": "markdown",
   "id": "136ae58e-85a7-4182-9047-f5c9bd054094",
   "metadata": {},
   "source": [
    "## Convert Between Int and String\n",
    "The formal name of the string type in Python is \"str\". The str() function serves to convert many values to a string form. This code computes the str form of the number 123:"
   ]
  },
  {
   "cell_type": "code",
   "execution_count": 26,
   "id": "43b238cf-5f0f-422c-8343-c6121d13bb6f",
   "metadata": {},
   "outputs": [
    {
     "data": {
      "text/plain": [
       "'123'"
      ]
     },
     "execution_count": 26,
     "metadata": {},
     "output_type": "execute_result"
    }
   ],
   "source": [
    "str(123)"
   ]
  },
  {
   "cell_type": "markdown",
   "id": "8438ddff-2337-470e-a236-63c647033921",
   "metadata": {},
   "source": [
    "Looking carefully at the values, 123 is a number, while '123' is a string length-3, made of the three chars '1' '2' and '3'."
   ]
  },
  {
   "cell_type": "markdown",
   "id": "bca38764-a2e8-4d37-9e33-24c9dcaafe8b",
   "metadata": {},
   "source": [
    "## String Indexing [ ]\n",
    "Chars in a string are numbered with zero-based indexing, so the first char is at index 0, the next index 1, and the last char is at index len-1. Access the individual characters using square brackets, e.g. s[0] is the first char."
   ]
  },
  {
   "cell_type": "markdown",
   "id": "e93bc4cd-faee-4ea7-8fbc-12d223454ae6",
   "metadata": {},
   "source": [
    "| Index | Letter |\n",
    "|-------|--------|\n",
    "|   0   |   P    |\n",
    "|   1   |   y    |\n",
    "|   2   |   t    |\n",
    "|   3   |   h    |\n",
    "|   4   |   o    |\n",
    "|   5   |   n    |\n"
   ]
  },
  {
   "cell_type": "code",
   "execution_count": 32,
   "id": "047cdabf-a371-4435-9c12-a2824da4a523",
   "metadata": {},
   "outputs": [],
   "source": [
    "s = 'Python'"
   ]
  },
  {
   "cell_type": "code",
   "execution_count": 34,
   "id": "b343b533-46d2-4540-9611-4d177ce3dd9b",
   "metadata": {},
   "outputs": [
    {
     "data": {
      "text/plain": [
       "6"
      ]
     },
     "execution_count": 34,
     "metadata": {},
     "output_type": "execute_result"
    }
   ],
   "source": [
    "len(s)"
   ]
  },
  {
   "cell_type": "code",
   "execution_count": 36,
   "id": "ba981481-f9f3-4c7c-bd68-33294e3ce642",
   "metadata": {},
   "outputs": [
    {
     "data": {
      "text/plain": [
       "'P'"
      ]
     },
     "execution_count": 36,
     "metadata": {},
     "output_type": "execute_result"
    }
   ],
   "source": [
    "s[0]   # access char at index 0"
   ]
  },
  {
   "cell_type": "code",
   "execution_count": 38,
   "id": "29a823fd-ef00-4c8d-901b-fbf57b2139d0",
   "metadata": {},
   "outputs": [
    {
     "data": {
      "text/plain": [
       "'y'"
      ]
     },
     "execution_count": 38,
     "metadata": {},
     "output_type": "execute_result"
    }
   ],
   "source": [
    "s[1]"
   ]
  },
  {
   "cell_type": "code",
   "execution_count": 40,
   "id": "792ef08e-5f31-4170-a029-2aba8ff2d9ea",
   "metadata": {},
   "outputs": [
    {
     "data": {
      "text/plain": [
       "'o'"
      ]
     },
     "execution_count": 40,
     "metadata": {},
     "output_type": "execute_result"
    }
   ],
   "source": [
    "s[4]"
   ]
  },
  {
   "cell_type": "code",
   "execution_count": 44,
   "id": "1cf1175e-9e51-43bc-9497-e83034bfcfd5",
   "metadata": {},
   "outputs": [
    {
     "ename": "IndexError",
     "evalue": "string index out of range",
     "output_type": "error",
     "traceback": [
      "\u001b[1;31m---------------------------------------------------------------------------\u001b[0m",
      "\u001b[1;31mIndexError\u001b[0m                                Traceback (most recent call last)",
      "Cell \u001b[1;32mIn[44], line 1\u001b[0m\n\u001b[1;32m----> 1\u001b[0m \u001b[43ms\u001b[49m\u001b[43m[\u001b[49m\u001b[38;5;241;43m6\u001b[39;49m\u001b[43m]\u001b[49m  \u001b[38;5;66;03m#IndexError: string index out of range\u001b[39;00m\n",
      "\u001b[1;31mIndexError\u001b[0m: string index out of range"
     ]
    }
   ],
   "source": [
    "s[6]  #IndexError: string index out of range"
   ]
  },
  {
   "cell_type": "markdown",
   "id": "aa0f544d-2352-4a7e-9680-bac244df40cd",
   "metadata": {},
   "source": [
    "## String +\n",
    "The + operator combines (aka \"concatenates\") two strings to make a bigger string. This creates a new string to represent the result, leaving the original strings unchanged"
   ]
  },
  {
   "cell_type": "code",
   "execution_count": 47,
   "id": "ab6f661d-a604-478c-85d7-85bf88236c14",
   "metadata": {},
   "outputs": [
    {
     "name": "stdout",
     "output_type": "stream",
     "text": [
      "Hello There\n"
     ]
    }
   ],
   "source": [
    "s1 = 'Hello'\n",
    "s2 = 'There'\n",
    "s3 = s1+' '+s2\n",
    "print(s3)"
   ]
  },
  {
   "cell_type": "code",
   "execution_count": 49,
   "id": "8d0db752-6b0b-47a1-a211-c74a0824c98c",
   "metadata": {},
   "outputs": [
    {
     "name": "stdout",
     "output_type": "stream",
     "text": [
      "Hello\n"
     ]
    }
   ],
   "source": [
    "print(s1)"
   ]
  },
  {
   "cell_type": "markdown",
   "id": "2bfa2fcb-b923-407a-b938-8ca7e8434bbe",
   "metadata": {},
   "source": [
    "Concatenate + only works with 2 or more strings, not for example to concatenate a string and an int. Call the str() function to make a string out of an int, then concatenation works."
   ]
  },
  {
   "cell_type": "code",
   "execution_count": 56,
   "id": "f4c73616-eb93-4552-a6be-0c7bbfebdc2a",
   "metadata": {},
   "outputs": [
    {
     "ename": "TypeError",
     "evalue": "can only concatenate str (not \"int\") to str",
     "output_type": "error",
     "traceback": [
      "\u001b[1;31m---------------------------------------------------------------------------\u001b[0m",
      "\u001b[1;31mTypeError\u001b[0m                                 Traceback (most recent call last)",
      "Cell \u001b[1;32mIn[56], line 1\u001b[0m\n\u001b[1;32m----> 1\u001b[0m \u001b[38;5;124;43m'\u001b[39;49m\u001b[38;5;124;43mNumber:\u001b[39;49m\u001b[38;5;124;43m'\u001b[39;49m\u001b[43m \u001b[49m\u001b[38;5;241;43m+\u001b[39;49m\u001b[43m \u001b[49m\u001b[38;5;241;43m6\u001b[39;49m \n",
      "\u001b[1;31mTypeError\u001b[0m: can only concatenate str (not \"int\") to str"
     ]
    }
   ],
   "source": [
    "'Number:' + 6 "
   ]
  },
  {
   "cell_type": "code",
   "execution_count": 58,
   "id": "fe2c0158-2384-47c4-847a-c7648aee525e",
   "metadata": {},
   "outputs": [
    {
     "data": {
      "text/plain": [
       "'Number:6'"
      ]
     },
     "execution_count": 58,
     "metadata": {},
     "output_type": "execute_result"
    }
   ],
   "source": [
    "'Number:' + str(6)"
   ]
  },
  {
   "cell_type": "markdown",
   "id": "dfa015fb-da61-46cd-9a31-ab883988b118",
   "metadata": {},
   "source": [
    "## String Functions\n",
    "Here are the most commonly used string functions."
   ]
  },
  {
   "cell_type": "markdown",
   "id": "adef89c4-774c-44e3-b421-492b2b8f3ff8",
   "metadata": {},
   "source": [
    "### String in\n",
    "The in operator checks, True or False, if something appears anywhere in a string. In this and other string comparisons, characters much match exactly, so 'a' matches 'a' but does not match 'A'. (Mnemonic: this is the same word \"in\" as used in the for-loop.)\n",
    "\n"
   ]
  },
  {
   "cell_type": "code",
   "execution_count": 64,
   "id": "eb77d3d1-b9fd-4291-b089-b7a27788731b",
   "metadata": {},
   "outputs": [
    {
     "data": {
      "text/plain": [
       "True"
      ]
     },
     "execution_count": 64,
     "metadata": {},
     "output_type": "execute_result"
    }
   ],
   "source": [
    "'b' in 'abcd'"
   ]
  },
  {
   "cell_type": "code",
   "execution_count": 66,
   "id": "99b55fa9-9d20-4b20-a4fb-98313c9aa4ae",
   "metadata": {},
   "outputs": [
    {
     "data": {
      "text/plain": [
       "False"
      ]
     },
     "execution_count": 66,
     "metadata": {},
     "output_type": "execute_result"
    }
   ],
   "source": [
    "'B' in 'abcd'"
   ]
  },
  {
   "cell_type": "code",
   "execution_count": 74,
   "id": "e164d2ed-6799-426f-a94d-cc2de24e4f7b",
   "metadata": {},
   "outputs": [
    {
     "data": {
      "text/plain": [
       "True"
      ]
     },
     "execution_count": 74,
     "metadata": {},
     "output_type": "execute_result"
    }
   ],
   "source": [
    "'aa' in 'iiiaaiibb' # test string can be any length"
   ]
  },
  {
   "cell_type": "code",
   "execution_count": 76,
   "id": "44ac80ba-61ec-4b86-af84-2d8765d086be",
   "metadata": {},
   "outputs": [
    {
     "data": {
      "text/plain": [
       "False"
      ]
     },
     "execution_count": 76,
     "metadata": {},
     "output_type": "execute_result"
    }
   ],
   "source": [
    "'bbb' in 'iiaaabba'"
   ]
  },
  {
   "cell_type": "code",
   "execution_count": 78,
   "id": "6bc49d4a-03b1-4847-a3e6-9024a7bca1ea",
   "metadata": {},
   "outputs": [
    {
     "data": {
      "text/plain": [
       "True"
      ]
     },
     "execution_count": 78,
     "metadata": {},
     "output_type": "execute_result"
    }
   ],
   "source": [
    "'' in 'abcd'  # empty string is always true"
   ]
  },
  {
   "cell_type": "markdown",
   "id": "b6043459-cad2-4b6a-a0c4-d21e55352a44",
   "metadata": {},
   "source": [
    "### Character Tests: s.isalpha() s.isdigit() s.isspace()"
   ]
  },
  {
   "cell_type": "markdown",
   "id": "e8482643-7402-4296-8b84-729b013f5b38",
   "metadata": {
    "scrolled": true
   },
   "source": [
    "The characters that make up a string can be divided into several categories or \"character classes\":"
   ]
  },
  {
   "cell_type": "markdown",
   "id": "b0d2c407-f0e0-490a-a8cc-d9edaf325a36",
   "metadata": {},
   "source": [
    "### Character Classes in Strings\r\n",
    "\r\n",
    "#### Alphabetic Characters\r\n",
    "- **Examples:** `'abcXYZ'`\r\n",
    "- Used to write words.\r\n",
    "- **Divided into:**\r\n",
    "  - Uppercase versions (e.g., `'A'`, `'B'`, `'C'`, etc.).\r\n",
    "  - Lowercase versions (e.g., `'a'`, `'b'`, `'c'`, etc.).\r\n",
    "- The details depend on the particular Unicode alphabet.\r\n",
    "\r\n",
    "#### Digit Characters\r\n",
    "- **Examples:** `'0'`, `'1'`, ..., `'9'`\r\n",
    "- Used to write numbers.\r\n",
    "\r\n",
    "#### Space Characters\r\n",
    "- **Examples:** \r\n",
    "  - Space (`' '`)\r\n",
    "  - Newline (`'\\n'`)\r\n",
    "  - Tab (`'\\t'`)\r\n",
    "\r\n",
    "#### Miscellaneous Characters\r\n",
    "- These are neither alphabetic, digit, nor space characters.\r\n",
    "- **Examples:** `$`, `^`, `<`, etc.\r\n",
    "\r\n",
    "---\r\n",
    "\r\n",
    "### Test Functions for Character Classes\r\n",
    "\r\n",
    "These functions return `True` if all the characters in the string `s` belong to the respective class:\r\n",
    "\r\n",
    "- **`s.isalpha()`**\r\n",
    "  - Returns `True` for alphabetic \"word\" characters like `'abcXYZ'`.\r\n",
    "  - Applies to alphabetic characters in other Unicode alphabets too, e.g., `'Σ'`.\r\n",
    "\r\n",
    "- **`s.isdigit()`**\r\n",
    "  - Returns `True` if all characters in `s` are digits (`'0..9'`).\r\n",
    "\r\n",
    "- **`s.isspace()`**\r\n",
    "  - Returns `True` for whitespace characters, e.g., space, tab, newline.\r\n",
    "\r\n",
    "- **`s.isupper()` / `s.islower()`**\r\n",
    "  - `s.isupper()` - Returns `True` for uppercase alphabetic characters.\r\n",
    "  - `s.islower()` - Returns `True` for lowercase alphabetic characters.\r\n",
    "  - Returns `False` for other characters like `'4'` and `'$'` which do not have uppercase/lowercase versions.\r\n"
   ]
  },
  {
   "cell_type": "markdown",
   "id": "00438a59-d09a-4af6-9c1f-6d4ebde37a05",
   "metadata": {},
   "source": [
    "### Example"
   ]
  },
  {
   "cell_type": "code",
   "execution_count": 100,
   "id": "5a91ddfd-44ae-4757-ad7d-da696738bbef",
   "metadata": {},
   "outputs": [
    {
     "data": {
      "text/plain": [
       "True"
      ]
     },
     "execution_count": 100,
     "metadata": {},
     "output_type": "execute_result"
    }
   ],
   "source": [
    "'a' .isalpha()"
   ]
  },
  {
   "cell_type": "code",
   "execution_count": 102,
   "id": "b99e576d-6138-451b-a975-a1368ff1bbed",
   "metadata": {},
   "outputs": [
    {
     "data": {
      "text/plain": [
       "False"
      ]
     },
     "execution_count": 102,
     "metadata": {},
     "output_type": "execute_result"
    }
   ],
   "source": [
    "'$' .isalpha()"
   ]
  },
  {
   "cell_type": "code",
   "execution_count": 104,
   "id": "e126cd8d-e04d-4f55-968b-6ce88917b9e8",
   "metadata": {},
   "outputs": [
    {
     "data": {
      "text/plain": [
       "True"
      ]
     },
     "execution_count": 104,
     "metadata": {},
     "output_type": "execute_result"
    }
   ],
   "source": [
    "'a' .islower()"
   ]
  },
  {
   "cell_type": "code",
   "execution_count": 106,
   "id": "398f9571-1bfa-48a0-ab24-22fd2ba85a80",
   "metadata": {},
   "outputs": [
    {
     "data": {
      "text/plain": [
       "False"
      ]
     },
     "execution_count": 106,
     "metadata": {},
     "output_type": "execute_result"
    }
   ],
   "source": [
    "'a' .isupper()"
   ]
  },
  {
   "cell_type": "code",
   "execution_count": 108,
   "id": "95db482d-2538-4b01-bb4e-99bbb66d75a3",
   "metadata": {},
   "outputs": [
    {
     "data": {
      "text/plain": [
       "True"
      ]
     },
     "execution_count": 108,
     "metadata": {},
     "output_type": "execute_result"
    }
   ],
   "source": [
    "'7' .isdigit()"
   ]
  },
  {
   "cell_type": "code",
   "execution_count": 110,
   "id": "47f2415b-b9f8-483c-82ee-a1d5bc7d6e61",
   "metadata": {},
   "outputs": [
    {
     "data": {
      "text/plain": [
       "False"
      ]
     },
     "execution_count": 110,
     "metadata": {},
     "output_type": "execute_result"
    }
   ],
   "source": [
    "'a' .isdigit()"
   ]
  },
  {
   "cell_type": "code",
   "execution_count": 112,
   "id": "e54d0913-7422-4f43-8a3c-71743b86ea48",
   "metadata": {},
   "outputs": [
    {
     "data": {
      "text/plain": [
       "True"
      ]
     },
     "execution_count": 112,
     "metadata": {},
     "output_type": "execute_result"
    }
   ],
   "source": [
    "' ' .isspace()"
   ]
  },
  {
   "cell_type": "markdown",
   "id": "b2eeadf1-9cb0-498f-9587-fc9ca296ab7c",
   "metadata": {},
   "source": [
    "## Change Case s.upper() s.lower()"
   ]
  },
  {
   "cell_type": "markdown",
   "id": "7cb63ba1-e0fa-4473-934f-cb4c5cea9653",
   "metadata": {},
   "source": [
    "s.lower() - returns a new version of s where each char is converted to its lowercase form, so 'A' becomes 'a'. Chars like '$' are returned unchanged. The original s is unchanged - a good example of strings being immutable"
   ]
  },
  {
   "cell_type": "code",
   "execution_count": 116,
   "id": "4d459945-6d47-4141-9aa3-00efcacc0edc",
   "metadata": {},
   "outputs": [
    {
     "data": {
      "text/plain": [
       "'python'"
      ]
     },
     "execution_count": 116,
     "metadata": {},
     "output_type": "execute_result"
    }
   ],
   "source": [
    "s = 'Python'\n",
    "s.lower()"
   ]
  },
  {
   "cell_type": "code",
   "execution_count": 118,
   "id": "c51b223d-aa67-44a7-ac24-377eba1e16f2",
   "metadata": {},
   "outputs": [
    {
     "data": {
      "text/plain": [
       "'PYTHON'"
      ]
     },
     "execution_count": 118,
     "metadata": {},
     "output_type": "execute_result"
    }
   ],
   "source": [
    "s.upper()"
   ]
  },
  {
   "cell_type": "code",
   "execution_count": 120,
   "id": "0487805f-1932-450f-9bc6-1e7d825a1de2",
   "metadata": {},
   "outputs": [
    {
     "name": "stdout",
     "output_type": "stream",
     "text": [
      "Python\n"
     ]
    }
   ],
   "source": [
    "print(s)"
   ]
  },
  {
   "cell_type": "markdown",
   "id": "508fe6b2-1c51-40fe-837e-b5db77722768",
   "metadata": {},
   "source": [
    "### Testing String Start and End: `s.startswith()` and `s.endswith()`\n",
    "\n",
    "These convenient functions return `True` or `False` depending on what appears at one end of a string. They are especially useful for checking prefixes or suffixes, such as verifying if a filename ends with `.html`.  \n",
    "\n",
    "**Style Note:** These functions are examples of well-named methods, making the code where they are used highly readable.\n",
    "\n",
    "---\n",
    "\n",
    "#### **`s.startswith(x)`**\n",
    "- **Description:** Returns `True` if the string `s` starts with the substring `x`.\n",
    "- **Example:**\n",
    "  ```python\n",
    "  s = \"example.html\"\n",
    "  print(s.startswith(\"example\"))  # True\n",
    "  print(s.startswith(\"html\"))     # False\n"
   ]
  },
  {
   "cell_type": "code",
   "execution_count": 124,
   "id": "15e25a93-26de-47d5-97fb-20d125eb4cd7",
   "metadata": {},
   "outputs": [
    {
     "name": "stdout",
     "output_type": "stream",
     "text": [
      "True\n",
      "False\n"
     ]
    }
   ],
   "source": [
    "s = \"example.html\"\n",
    "print(s.endswith(\".html\"))  # True\n",
    "print(s.endswith(\"example\")) # False\n"
   ]
  },
  {
   "cell_type": "code",
   "execution_count": 126,
   "id": "c892c8ed-9b80-41ec-a0f7-f21c74a3d36a",
   "metadata": {},
   "outputs": [
    {
     "data": {
      "text/plain": [
       "True"
      ]
     },
     "execution_count": 126,
     "metadata": {},
     "output_type": "execute_result"
    }
   ],
   "source": [
    "'Python' .startswith('Py')"
   ]
  },
  {
   "cell_type": "code",
   "execution_count": 128,
   "id": "568055b0-c2e5-42a2-9792-5d915beac419",
   "metadata": {},
   "outputs": [
    {
     "data": {
      "text/plain": [
       "False"
      ]
     },
     "execution_count": 128,
     "metadata": {},
     "output_type": "execute_result"
    }
   ],
   "source": [
    "'Python' .startswith('Px')"
   ]
  },
  {
   "cell_type": "code",
   "execution_count": 130,
   "id": "e86a2954-85a1-4c3d-8f47-af0bba09afcf",
   "metadata": {},
   "outputs": [
    {
     "data": {
      "text/plain": [
       "True"
      ]
     },
     "execution_count": 130,
     "metadata": {},
     "output_type": "execute_result"
    }
   ],
   "source": [
    "'resume.html'.endswith('.html')"
   ]
  },
  {
   "cell_type": "markdown",
   "id": "65b0142b-334b-4d92-b054-2f8c12fe3636",
   "metadata": {},
   "source": [
    "### Searching Strings with `s.find()` and Related Functions\n",
    "\n",
    "#### **`s.find(x)`**\n",
    "- **Description:** Searches the string `s` from left to right for the substring `x`.  \n",
    "  - Returns the **index** (integer) of the first occurrence of `x`.\n",
    "  - Returns `-1` if `x` is not found.\n",
    "- **Use Case:** Determines where a substring first appears in a string.\n",
    "\n",
    "#### **Examples:**\n",
    "\n"
   ]
  },
  {
   "cell_type": "code",
   "execution_count": 134,
   "id": "3a1399a6-af2d-4ca8-833b-e1e6ac90902e",
   "metadata": {},
   "outputs": [
    {
     "name": "stdout",
     "output_type": "stream",
     "text": [
      "True\n",
      "False\n",
      "1\n",
      "-1\n"
     ]
    }
   ],
   "source": [
    "s = 'Python'\n",
    "\n",
    "# Using `in`\n",
    "print('y' in s)       # Output: True\n",
    "print('xx' in s)      # Output: False\n",
    "\n",
    "# Using `s.find()`\n",
    "print(s.find('y'))    # Output: 1\n",
    "print(s.find('xx'))   # Output: -1\n"
   ]
  },
  {
   "cell_type": "markdown",
   "id": "a0a6948f-47dd-4eb9-b4f8-a00537e670b5",
   "metadata": {},
   "source": [
    "### Removing Whitespace: `s.strip()`\r\n",
    "\r\n",
    "#### **`s.strip()`**\r\n",
    "- **Description:** Returns a version of the string `s` with all leading and trailing **whitespace characters** removed.  \r\n",
    "  - Whitespace includes spaces (`' '`), tabs (`'\\t'`), and newlines (`'\\n'`).\r\n",
    "- **Use Case:** Commonly used to clean up strings read from files, user input, or other sources where unintended leading or trailing whitespace might be present.\r\n",
    "\r\n",
    "---\r\n",
    "\r\n",
    "#### **Example Usage:**\r\n",
    "```python\r\n",
    "# Removing whitespace\r\n",
    "s = '   hi there  \\n'\r\n",
    "print(s.strip())  # Output: 'hi there'\r\n",
    "\r\n",
    "# No leading or trailing whitespace\r\n",
    "s = 'Python'\r\n",
    "print(s.strip())  # Output: 'Python' (unchanged)\r\n"
   ]
  },
  {
   "cell_type": "code",
   "execution_count": 139,
   "id": "3a911d07-ac28-4f4f-8e6c-3306c39f5863",
   "metadata": {},
   "outputs": [
    {
     "data": {
      "text/plain": [
       "'hi there'"
      ]
     },
     "execution_count": 139,
     "metadata": {},
     "output_type": "execute_result"
    }
   ],
   "source": [
    "'  hi there  \\n'.strip()"
   ]
  },
  {
   "cell_type": "code",
   "execution_count": 143,
   "id": "b613e306-efeb-4a64-abe5-55fbaf86490a",
   "metadata": {},
   "outputs": [
    {
     "data": {
      "text/plain": [
       "'hello everyone'"
      ]
     },
     "execution_count": 143,
     "metadata": {},
     "output_type": "execute_result"
    }
   ],
   "source": [
    "hi = '       hello everyone   '\n",
    "hi.strip()"
   ]
  },
  {
   "cell_type": "markdown",
   "id": "479acfb9-16a5-4b81-8aa0-6b6acfff2507",
   "metadata": {},
   "source": [
    "### Replacing Substrings: `s.replace()`\n",
    "\n",
    "#### **`s.replace(old, new)`**\n",
    "- **Description:** Returns a version of the string `s` where all occurrences of the substring `old` are replaced with the substring `new`.\n",
    "  - Replaces **every instance** of `old` in `s`, without considering word boundaries.\n",
    "  - If `new` is an empty string (`''`), all occurrences of `old` are effectively removed from `s`.\n",
    "\n",
    "---\n",
    "\n",
    "#### **Example Usage:**\n",
    "```python\n",
    "# Basic replacement\n",
    "s = 'this is it'\n",
    "print(s.replace('is', 'xxx'))  # Output: 'thxxx xxx it'\n",
    "\n",
    "# Removing a substring\n",
    "print(s.replace('is', ''))     # Output: 'th  it'\n"
   ]
  },
  {
   "cell_type": "code",
   "execution_count": 148,
   "id": "f858f3ca-0d6c-4465-9a2a-2ea150874bba",
   "metadata": {},
   "outputs": [
    {
     "data": {
      "text/plain": [
       "'thwhy why it'"
      ]
     },
     "execution_count": 148,
     "metadata": {},
     "output_type": "execute_result"
    }
   ],
   "source": [
    "'this is it'.replace('is','why')"
   ]
  },
  {
   "cell_type": "code",
   "execution_count": 150,
   "id": "a412edac-30c4-4e91-b252-e23ae9036aa9",
   "metadata": {},
   "outputs": [
    {
     "data": {
      "text/plain": [
       "'th  it'"
      ]
     },
     "execution_count": 150,
     "metadata": {},
     "output_type": "execute_result"
    }
   ],
   "source": [
    "'this is it'.replace('is','')"
   ]
  },
  {
   "cell_type": "code",
   "execution_count": 152,
   "id": "e893db41-5029-4c65-9fed-0389fbf2c0b2",
   "metadata": {},
   "outputs": [
    {
     "data": {
      "text/plain": [
       "\"Hey everyone, What's up there\""
      ]
     },
     "execution_count": 152,
     "metadata": {},
     "output_type": "execute_result"
    }
   ],
   "source": [
    "greet = \"Hello everyone, What's up there\"\n",
    "greet.replace('Hello', 'Hey')"
   ]
  },
  {
   "cell_type": "markdown",
   "id": "f5b48ac0-fe90-4b71-9389-74c973759dc3",
   "metadata": {},
   "source": [
    "### Working with Immutable Strings: `x = change(x)`\r\n",
    "\r\n",
    "Strings in Python are **immutable**, meaning that once a string is created, its characters cannot be changed directly. Instead, any operation that appears to \"modify\" a string actually creates a **new string**. To apply changes, you must **explicitly store the result** in a variable, often following the `x = change(x)` pattern.\r\n",
    "\r\n",
    "---\r\n",
    "\r\n",
    "#### **Understanding Immutability**\r\n",
    "Consider the following example:\r\n",
    "```python\r\n",
    "s = 'Hello'\r\n",
    "print(s.upper())  # Computes the uppercase form of 'Hello'\r\n",
    "# Output: 'HELLO'\r\n",
    "\r\n",
    "print(s)          # The original string is unchanged\r\n",
    "# Output: 'Hello'\r\n"
   ]
  },
  {
   "cell_type": "code",
   "execution_count": 155,
   "id": "49c21fd0-61b6-4759-b061-af43bf2220c7",
   "metadata": {},
   "outputs": [
    {
     "data": {
      "text/plain": [
       "'HELLO EVERYONE'"
      ]
     },
     "execution_count": 155,
     "metadata": {},
     "output_type": "execute_result"
    }
   ],
   "source": [
    "s = 'Hello everyone'\n",
    "s.upper()"
   ]
  },
  {
   "cell_type": "code",
   "execution_count": 157,
   "id": "f80fe85c-f5c0-4434-b7f2-8fe36ae94563",
   "metadata": {},
   "outputs": [
    {
     "data": {
      "text/plain": [
       "'Hello everyone'"
      ]
     },
     "execution_count": 157,
     "metadata": {},
     "output_type": "execute_result"
    }
   ],
   "source": [
    "s"
   ]
  },
  {
   "cell_type": "code",
   "execution_count": 159,
   "id": "e27dc860-797f-4434-85b5-c7593060e986",
   "metadata": {},
   "outputs": [
    {
     "name": "stdout",
     "output_type": "stream",
     "text": [
      "HELLO!\n"
     ]
    }
   ],
   "source": [
    "s = 'Hello'\n",
    "\n",
    "# Step 1: Convert to uppercase\n",
    "s = s.upper()\n",
    "\n",
    "# Step 2: Add an exclamation mark\n",
    "s = s + '!'\n",
    "\n",
    "print(s)\n",
    "# Output: 'HELLO!'\n"
   ]
  },
  {
   "cell_type": "markdown",
   "id": "bb0efecf-944b-4182-9751-20aa59b28b7d",
   "metadata": {},
   "source": [
    "### Backslash Special Characters in Strings\n",
    "\n",
    "In Python, a **backslash (`\\`)** in a string literal \"escapes\" certain special characters, allowing them to be included or interpreted in the string. These escaped characters represent various formatting or control sequences.\n",
    "\n",
    "---\n",
    "\n",
    "#### **Common Backslash Escapes**\n",
    "| Escape Sequence | Description                        | Example Output         |\n",
    "|------------------|------------------------------------|------------------------|\n",
    "| `\\'`            | A single quote                    | `'Hello'`              |\n",
    "| `\\\"`            | A double quote                    | `\"Hello\"`              |\n",
    "| `\\\\`            | A backslash                       | `\\`                    |\n",
    "| `\\n`            | A newline (line break)            | (new line)             |\n",
    "\n",
    "---\n",
    "\n",
    "#### **Example with `\\n` (Newline):**\n",
    "```python\n",
    "a = 'First line\\nSecond line\\nThird line\\n'\n",
    "print(a)\n",
    "# Output:\n",
    "# First line\n",
    "# Second line\n",
    "# Third line\n"
   ]
  },
  {
   "cell_type": "code",
   "execution_count": 167,
   "id": "5a35b93a-14d2-4a8f-82a2-34717fc1cdeb",
   "metadata": {},
   "outputs": [
    {
     "name": "stdout",
     "output_type": "stream",
     "text": [
      "First line\n",
      "Second line\n",
      "Third line\n",
      "\n"
     ]
    }
   ],
   "source": [
    "a = 'First line\\nSecond line\\nThird line\\n'\n",
    "print(a)"
   ]
  },
  {
   "cell_type": "code",
   "execution_count": 171,
   "id": "0a8d159e-77aa-4b85-a009-5f9a87988c77",
   "metadata": {},
   "outputs": [
    {
     "name": "stdout",
     "output_type": "stream",
     "text": [
      "Hello \n",
      "Everyone\n",
      "\n"
     ]
    }
   ],
   "source": [
    "greet = 'Hello \\nEveryone\\n'\n",
    "print(greet)"
   ]
  },
  {
   "cell_type": "markdown",
   "id": "013ae373-70a4-426b-a8a3-76e0b34eb757",
   "metadata": {},
   "source": [
    "### Format Strings in Python\r\n",
    "\r\n",
    "A **format string** is a modern and convenient way to embed variables, expressions, or function calls directly into a string. Format strings are denoted by a leading **`f`** before the opening quote, e.g., `f'...'`.\r\n",
    "\r\n",
    "---\r\n",
    "\r\n",
    "#### **Basic Syntax**\r\n",
    "- Curly braces `{}` hold an expression, such as a variable or function call.\r\n",
    "- The result of evaluating the expression is inserted into the string at that position.\r\n",
    "\r\n",
    "---\r\n",
    "\r\n",
    "#### **Examples:**\r\n",
    "```python\r\n",
    "# Accessing a variable\r\n",
    "name = 'Sally'\r\n",
    "print(f'Name: {name}')\r\n",
    "# Output: 'Name: Sally'\r\n",
    "\r\n",
    "# Calling a function within the format string\r\n",
    "scores = [19, 34, 22]\r\n",
    "print(f'Max score: {max(scores)}')\r\n",
    "# Output: 'Max score: 34'\r\n",
    "\r\n",
    "# Using multiple expressions\r\n",
    "age = 25\r\n",
    "print(f'{name} is {age} years old.')\r\n",
    "# Output: 'Sally is 25 years old.'\r\n"
   ]
  },
  {
   "cell_type": "code",
   "execution_count": 174,
   "id": "93a1dc86-7a4c-4c97-933b-d051363f5b1c",
   "metadata": {},
   "outputs": [
    {
     "name": "stdout",
     "output_type": "stream",
     "text": [
      "A curly brace: {\n"
     ]
    }
   ],
   "source": [
    "print(f'A curly brace: {{')\n",
    "# Output: 'A curly brace: {'\n"
   ]
  },
  {
   "cell_type": "code",
   "execution_count": 178,
   "id": "d987d379-9df8-4ad2-9ba5-513131764679",
   "metadata": {},
   "outputs": [
    {
     "name": "stdout",
     "output_type": "stream",
     "text": [
      "5 + 10 = 15\n",
      "Uppercase: HELLO\n",
      "Sum of scores: 75 and max: 34\n"
     ]
    }
   ],
   "source": [
    "# Arithmetic in format strings\n",
    "x, y = 5, 10\n",
    "print(f'{x} + {y} = {x + y}')\n",
    "# Output: '5 + 10 = 15'\n",
    "\n",
    "# String methods\n",
    "greeting = 'hello'\n",
    "print(f'Uppercase: {greeting.upper()}')\n",
    "# Output: 'Uppercase: HELLO'\n",
    "\n",
    "# Nested function calls\n",
    "scores = [19, 34, 22]  # Define the scores list\n",
    "print(f'Sum of scores: {sum(scores)} and max: {max(scores)}')\n",
    "# Output: 'Sum of scores: 75 and max: 34'\n"
   ]
  },
  {
   "cell_type": "markdown",
   "id": "bd8a638f-1a4d-4e32-9119-834b02dee8b8",
   "metadata": {},
   "source": [
    "### String Formatting: Floating Point Precision\n",
    "\n",
    "When working with floating-point numbers in Python, default formatting often produces more digits than necessary (15+ digits). To make the output more readable, the **format string** syntax allows specifying the desired number of digits.\n",
    "\n",
    "---\n",
    "\n",
    "#### **Basic Syntax for Floating Point Formatting**\n",
    "1. **`:.<digits>`**: Limits the output to approximately the specified number of digits.\n",
    "2. **`:.<digits>f`**: Ensures a fixed number of decimal places.\n",
    "\n",
    "---\n",
    "\n",
    "#### **Examples:**\n",
    "```python\n",
    "# Default floating-point output\n",
    "x = 2 / 3\n",
    "print(f'Default: {x}')\n",
    "# Output: 'Default: 0.6666666666666666'\n",
    "\n",
    "# Limit to approximately 4 digits\n",
    "print(f'Limited to 4 digits: {x:.4}')\n",
    "# Output: 'Limited to 4 digits: 0.6667'\n",
    "\n",
    "# Fixed to exactly 4 decimal places\n",
    "print(f'Fixed to 4 decimal places: {x:.4f}')\n",
    "# Output: 'Fixed to 4 decimal places: 0.6667'\n"
   ]
  },
  {
   "cell_type": "code",
   "execution_count": 181,
   "id": "07137beb-7814-40dd-9440-66d5f2db1e72",
   "metadata": {},
   "outputs": [
    {
     "name": "stdout",
     "output_type": "stream",
     "text": [
      "0.025\n",
      "0.0250\n",
      "Value with 2 decimal places: 123.46\n"
     ]
    }
   ],
   "source": [
    "# Approximately 4 digits (default behavior)\n",
    "print(f'{0.025:.4}')  \n",
    "# Output: '0.025'\n",
    "\n",
    "# Exactly 4 decimal places\n",
    "print(f'{0.025:.4f}')  \n",
    "# Output: '0.0250'\n",
    "\n",
    "# Another example\n",
    "value = 123.45678\n",
    "print(f'Value with 2 decimal places: {value:.2f}')\n",
    "# Output: 'Value with 2 decimal places: 123.46'\n"
   ]
  },
  {
   "cell_type": "markdown",
   "id": "bb3bd74c-db4e-439f-9b4a-50a82f5abcad",
   "metadata": {},
   "source": [
    "### String Formatting: Hexadecimal, Binary, and Thousand Separators\n",
    "\n",
    "Using Python's **format strings**, integers can be formatted in different number systems or with added separators for readability. Here are some common formatting options:\n",
    "\n",
    "---\n",
    "\n",
    "#### **Hexadecimal and Binary Formatting**\n",
    "1. **`:x`**: Converts the integer to **hexadecimal** (base-16).\n",
    "2. **`:b`**: Converts the integer to **binary** (base-2).\n",
    "\n",
    "---\n",
    "\n",
    "#### **Examples:**\n",
    "```python\n",
    "# Define an integer\n",
    "n = 215\n",
    "\n",
    "# Default (decimal) representation\n",
    "print(f'Decimal: {n}')\n",
    "# Output: 'Decimal: 215'\n",
    "\n",
    "# Hexadecimal representation\n",
    "print(f'Hexadecimal: {n:x}')\n",
    "# Output: 'Hexadecimal: d7'\n",
    "\n",
    "# Binary representation\n",
    "print(f'Binary: {n:b}')\n",
    "# Output: 'Binary: 11010111'\n"
   ]
  },
  {
   "cell_type": "code",
   "execution_count": 184,
   "id": "794a4a8c-db24-428e-92e4-c2abd8d04baf",
   "metadata": {},
   "outputs": [
    {
     "name": "stdout",
     "output_type": "stream",
     "text": [
      "With commas: 1,000,000\n"
     ]
    }
   ],
   "source": [
    "n = 1_000_000  # Underscores in numbers are ignored and improve code readability\n",
    "\n",
    "# Add thousand separators\n",
    "print(f'With commas: {n:,}')\n",
    "# Output: 'With commas: 1,000,000'\n"
   ]
  },
  {
   "cell_type": "markdown",
   "id": "7c81d7f8-9573-4b16-bbbe-ee8553506de7",
   "metadata": {},
   "source": [
    "### String Slicing in Python\n",
    "\n",
    "String slicing is a way to extract parts (substrings) of a string using a range of indices. Python strings are **indexed** and support both **positive** and **negative indexing**, enabling flexible slicing options.\n",
    "\n",
    "---\n",
    "\n",
    "#### **Basic Slicing Syntax**\n",
    "```python\n",
    "s[start:end:step]\n"
   ]
  },
  {
   "cell_type": "code",
   "execution_count": 189,
   "id": "54b8589d-20c1-485b-a292-0649a02e039e",
   "metadata": {},
   "outputs": [],
   "source": [
    "# Define a string\n",
    "s = \"Hello, World!\""
   ]
  },
  {
   "cell_type": "code",
   "execution_count": 193,
   "id": "2d600bb0-fa6f-4609-81e4-72e7fcf5fcba",
   "metadata": {},
   "outputs": [
    {
     "name": "stdout",
     "output_type": "stream",
     "text": [
      "Hello\n",
      "Hello\n",
      "World!\n"
     ]
    }
   ],
   "source": [
    "# Slice with positive indices\n",
    "print(s[0:5])   # 'Hello'\n",
    "print(s[:5])    # 'Hello' (start defaults to 0)\n",
    "print(s[7:])    # 'World!' (end defaults to the length of the string)"
   ]
  },
  {
   "cell_type": "code",
   "execution_count": null,
   "id": "b2eb0bbf-8662-43c4-9cfe-751b2ebeadb4",
   "metadata": {},
   "outputs": [],
   "source": []
  }
 ],
 "metadata": {
  "kernelspec": {
   "display_name": "Python 3 (ipykernel)",
   "language": "python",
   "name": "python3"
  },
  "language_info": {
   "codemirror_mode": {
    "name": "ipython",
    "version": 3
   },
   "file_extension": ".py",
   "mimetype": "text/x-python",
   "name": "python",
   "nbconvert_exporter": "python",
   "pygments_lexer": "ipython3",
   "version": "3.12.4"
  }
 },
 "nbformat": 4,
 "nbformat_minor": 5
}
