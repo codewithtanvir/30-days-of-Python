{
 "cells": [
  {
   "cell_type": "markdown",
   "id": "6e905395-304f-4b07-afc8-ff0291dc8052",
   "metadata": {},
   "source": [
    "## Day 04"
   ]
  },
  {
   "cell_type": "markdown",
   "id": "814a6efc-acac-48e4-b686-19b783d2ec70",
   "metadata": {},
   "source": [
    "# List"
   ]
  },
  {
   "cell_type": "markdown",
   "id": "783b2b94-34f7-4253-a102-b358a75b3de5",
   "metadata": {},
   "source": [
    "### Python Lists: Your Digital Backpack\n",
    "\n",
    "Imagine you're preparing for a grand adventure, packing your trusty backpack. In your pack, you have different compartments where you can store your items – some compartments for clothes, others for snacks, and maybe even a hidden pouch for your most precious treasures.\n",
    "\n",
    "Now, think of **Python lists** as your digital backpack. A Python list is like a versatile container, but instead of compartments, it holds various pieces of information called **\"elements.\"** These elements can be anything you want: numbers, words, or even other lists! Just like your backpack, you can rearrange, add, remove, or update these elements as needed.\n",
    "\n",
    "---\n",
    "\n",
    "### Example: Grocery List\n",
    "\n",
    "Suppose you're planning a trip to the grocery store. You can create a Python list called `grocery_list` to keep track of all the items you need to buy. Each item, such as `\"apples\"`, `\"bananas\"`, or `\"milk\"`, is like an element in your list.\n",
    "\n",
    "Here's what a simple grocery list might look like in Python:\n"
   ]
  },
  {
   "cell_type": "code",
   "execution_count": 16,
   "id": "241a5e4b-b2b6-4e5c-b708-804ab364b9e0",
   "metadata": {},
   "outputs": [
    {
     "name": "stdout",
     "output_type": "stream",
     "text": [
      "My grocery list: ['apples', 'bananas', 'milk', 'bread']\n"
     ]
    }
   ],
   "source": [
    "# Create a grocery list\n",
    "grocery_list = [\"apples\", \"bananas\", \"milk\", \"bread\"]\n",
    "\n",
    "# Display the list\n",
    "print(\"My grocery list:\", grocery_list)\n",
    "# Output: My grocery list: ['apples', 'bananas', 'milk', 'bread']"
   ]
  },
  {
   "cell_type": "markdown",
   "id": "82e913d5-db4a-467b-836e-772713c3031c",
   "metadata": {},
   "source": [
    "A Python list is a dynamic, mutable, ordered collection of elements enclosed within square brackets `[]`."
   ]
  },
  {
   "cell_type": "markdown",
   "id": "003d8739-b116-4b2a-b72c-84b5a9ec823e",
   "metadata": {},
   "source": [
    "### How to Create a List in Python\n",
    "Creating lists in Python is as versatile as organizing your belongings in different compartments of your backpack. Depending on what you're packing, you might choose to arrange your items differently for better organization and accessibility."
   ]
  },
  {
   "cell_type": "markdown",
   "id": "eb14ffc9-998a-4f1c-9910-e8a78b6a4971",
   "metadata": {},
   "source": [
    "### Single line list\n"
   ]
  },
  {
   "cell_type": "code",
   "execution_count": 21,
   "id": "434fd169-842c-4612-89a3-482c868587be",
   "metadata": {},
   "outputs": [],
   "source": [
    "fruits = [\"apple\",\"banana\",\"cherry\"]"
   ]
  },
  {
   "cell_type": "code",
   "execution_count": 23,
   "id": "870c3d05-4aee-4549-8b34-d85c6547005b",
   "metadata": {},
   "outputs": [
    {
     "data": {
      "text/plain": [
       "['apple', 'banana', 'cherry']"
      ]
     },
     "execution_count": 23,
     "metadata": {},
     "output_type": "execute_result"
    }
   ],
   "source": [
    "fruits"
   ]
  },
  {
   "cell_type": "markdown",
   "id": "4569deb4-2b32-4de4-92ba-3531dcae9155",
   "metadata": {},
   "source": [
    "### Multi-line list for readability\n"
   ]
  },
  {
   "cell_type": "code",
   "execution_count": 26,
   "id": "765069ed-6b21-4089-bbc8-3ae52b911be3",
   "metadata": {},
   "outputs": [],
   "source": [
    "numbers = [\n",
    "    1,\n",
    "    2,\n",
    "    3,\n",
    "    4,\n",
    "    5,\n",
    "]"
   ]
  },
  {
   "cell_type": "code",
   "execution_count": 28,
   "id": "ac733afb-bef3-4700-a994-d4a836f5835f",
   "metadata": {},
   "outputs": [
    {
     "data": {
      "text/plain": [
       "[1, 2, 3, 4, 5]"
      ]
     },
     "execution_count": 28,
     "metadata": {},
     "output_type": "execute_result"
    }
   ],
   "source": [
    "numbers"
   ]
  },
  {
   "cell_type": "markdown",
   "id": "cd971c5e-70a4-48fb-8ded-5501b28d30f5",
   "metadata": {},
   "source": [
    "### Mixed data type list\n"
   ]
  },
  {
   "cell_type": "code",
   "execution_count": 31,
   "id": "129bd31f-66e9-44c3-b504-1d5241234a8f",
   "metadata": {},
   "outputs": [],
   "source": [
    "mixed_list = [\"hello\", 3.14, True]"
   ]
  },
  {
   "cell_type": "code",
   "execution_count": 33,
   "id": "78ae03c7-8c33-4016-a534-d92a123b085f",
   "metadata": {},
   "outputs": [
    {
     "data": {
      "text/plain": [
       "['hello', 3.14, True]"
      ]
     },
     "execution_count": 33,
     "metadata": {},
     "output_type": "execute_result"
    }
   ],
   "source": [
    "mixed_list"
   ]
  },
  {
   "cell_type": "markdown",
   "id": "c1d2c6fa-31f9-474b-853c-e12b0d576e3f",
   "metadata": {},
   "source": [
    "## How to Access Elements in a List in Python\n",
    "\n",
    "In Python, lists are ordered collections of elements, and you can access specific elements using their **index**. Indexing allows you to retrieve or modify elements in a list.\n",
    "\n",
    "---\n",
    "\n",
    "### **1. Accessing Elements by Index**\n",
    "\n",
    "Python uses **zero-based indexing**, meaning the first element in a list is at index `0`, the second at index `1`, and so on.\n",
    "\n",
    "#### Example:\n"
   ]
  },
  {
   "cell_type": "code",
   "execution_count": 41,
   "id": "4ec4c39b-64ed-44f4-927f-a2707a1ce9b3",
   "metadata": {},
   "outputs": [
    {
     "name": "stdout",
     "output_type": "stream",
     "text": [
      "apple\n",
      "cherry\n"
     ]
    }
   ],
   "source": [
    "# Create a list\n",
    "fruits = [\"apple\", \"banana\", \"cherry\", \"date\"]\n",
    "\n",
    "# Access the first element\n",
    "print(fruits[0])  # Output: apple\n",
    "\n",
    "# Access the third element\n",
    "print(fruits[2])  # Output: cherry\n"
   ]
  },
  {
   "cell_type": "markdown",
   "id": "324b094a-60ee-40d5-9a64-826df25604b5",
   "metadata": {},
   "source": [
    "### **2. Negative Indexing**\n",
    "You can also use **negative indexing** to access elements starting from the end of the list. The last element has an index of` -1`, the second last is `-2`, and so on."
   ]
  },
  {
   "cell_type": "code",
   "execution_count": 45,
   "id": "dd10d8b5-e6fe-4c7e-bfd8-28fab3530241",
   "metadata": {},
   "outputs": [
    {
     "name": "stdout",
     "output_type": "stream",
     "text": [
      "date\n",
      "cherry\n"
     ]
    }
   ],
   "source": [
    "# Access the last element\n",
    "print(fruits[-1])  # Output: date\n",
    "\n",
    "# Access the second-to-last element\n",
    "print(fruits[-2])  # Output: cherry\n"
   ]
  },
  {
   "cell_type": "markdown",
   "id": "cde04eea-38ca-4c39-b94d-51636b4cb899",
   "metadata": {},
   "source": [
    "### **3. Accessing a Range of Elements (Slicing)**\n",
    "You can access a portion of a list using **slicing**. Slicing creates a sublist from the original list using the syntax `list[start:end]`. The `start` index is included, but the `end` index is excluded."
   ]
  },
  {
   "cell_type": "code",
   "execution_count": 48,
   "id": "6bc1e4ae-7395-4f3a-8029-352e1c80a919",
   "metadata": {},
   "outputs": [
    {
     "name": "stdout",
     "output_type": "stream",
     "text": [
      "['banana', 'cherry']\n",
      "['apple', 'banana']\n",
      "['cherry', 'date']\n"
     ]
    }
   ],
   "source": [
    "# Access a slice of elements\n",
    "print(fruits[1:3])  # Output: ['banana', 'cherry']\n",
    "\n",
    "# Access all elements from the start to a specific index\n",
    "print(fruits[:2])   # Output: ['apple', 'banana']\n",
    "\n",
    "# Access all elements from a specific index to the end\n",
    "print(fruits[2:])   # Output: ['cherry', 'date']\n"
   ]
  },
  {
   "cell_type": "markdown",
   "id": "86750b3c-89bf-4e77-a8b2-3a66c18de0cb",
   "metadata": {},
   "source": [
    "## List Operations and Methods\n",
    "### How to Modify a List\n",
    "Unlike strings, lists are mutable. This means you can change their content after you create them."
   ]
  },
  {
   "cell_type": "markdown",
   "id": "3ebc2caf-015e-4226-bca6-929b8038e3d9",
   "metadata": {},
   "source": [
    "### Append an element\n",
    "In Python, you can add an element to the end of a list using the **`append()`** method. This is one of the simplest and most commonly used ways to modify a list.\n",
    "\n",
    "\n",
    "Here's the syntax: `list_name.append(element)`\r\n",
    "\r\n"
   ]
  },
  {
   "cell_type": "code",
   "execution_count": 56,
   "id": "00ed2c32-f51a-4512-a079-396fa07fbdb3",
   "metadata": {},
   "outputs": [
    {
     "name": "stdout",
     "output_type": "stream",
     "text": [
      "['apple', 'banana', 'cherry', 'date']\n"
     ]
    }
   ],
   "source": [
    "# Create a list\n",
    "fruits = [\"apple\", \"banana\", \"cherry\"]\n",
    "\n",
    "# Append a new element\n",
    "fruits.append(\"date\")\n",
    "\n",
    "# Print the updated list\n",
    "print(fruits)  \n",
    "# Output: ['apple', 'banana', 'cherry', 'date']\n"
   ]
  },
  {
   "cell_type": "markdown",
   "id": "6b1cbc6d-032c-433a-ba77-1d80f143cb59",
   "metadata": {},
   "source": [
    "### Insert an element\n",
    "\n",
    "\n",
    "\n",
    "In Python, you can insert an element into a specific position in a list using the **`insert()`** method. This allows you to place the new element at any index of your choice, without replacing the existing elements.\n",
    "\n",
    "---\n",
    "\n",
    "### **Syntax**\n",
    "\n",
    "\n",
    "`list.insert(index, element)`\n"
   ]
  },
  {
   "cell_type": "code",
   "execution_count": 63,
   "id": "6e0af3c4-7c0c-44de-b83a-349127329032",
   "metadata": {},
   "outputs": [
    {
     "name": "stdout",
     "output_type": "stream",
     "text": [
      "['apple', 'blueberry', 'banana', 'cherry']\n"
     ]
    }
   ],
   "source": [
    "# Create a list\n",
    "fruits = [\"apple\", \"banana\", \"cherry\"]\n",
    "\n",
    "# Insert a new element at index 1\n",
    "fruits.insert(1, \"blueberry\")\n",
    "\n",
    "# Print the updated list\n",
    "print(fruits)  \n",
    "# Output: ['apple', 'blueberry', 'banana', 'cherry']\n"
   ]
  },
  {
   "cell_type": "markdown",
   "id": "7468718e-2b58-4a9d-9df7-da5526947aee",
   "metadata": {},
   "source": [
    "## Remove an Element \n",
    "\n",
    "Python provides several ways to remove elements from a list, giving you flexibility based on your requirements. These methods include **`remove()`**, **`pop()`**, and **`del`**.\n",
    "\n",
    "---\n",
    "\n",
    "### **1. Using `remove()`**\n",
    "\n",
    "The **`remove()`** method removes the first occurrence of a specified value from the list.\n",
    "\n",
    "#### **Syntax**\n",
    "\n",
    "`list.remove(element)`\n"
   ]
  },
  {
   "cell_type": "code",
   "execution_count": 68,
   "id": "b917fb8f-6f77-4248-8803-c9697ee8d314",
   "metadata": {},
   "outputs": [
    {
     "name": "stdout",
     "output_type": "stream",
     "text": [
      "['banana', 'cherry', 'apple']\n"
     ]
    }
   ],
   "source": [
    "# Create a list\n",
    "fruits = [\"apple\", \"banana\", \"cherry\", \"apple\"]\n",
    "\n",
    "# Remove the first occurrence of 'apple'\n",
    "fruits.remove(\"apple\")\n",
    "\n",
    "print(fruits)\n",
    "# Output: ['banana', 'cherry', 'apple']\n"
   ]
  },
  {
   "cell_type": "markdown",
   "id": "346298a9-6142-431f-9eb0-b3ea95f76cf9",
   "metadata": {},
   "source": [
    "**Error**: If the element is not found, `remove()` raises a `ValueError`."
   ]
  },
  {
   "cell_type": "code",
   "execution_count": 70,
   "id": "6a2a2b71-080f-4921-85a5-e19772f573b8",
   "metadata": {},
   "outputs": [
    {
     "ename": "ValueError",
     "evalue": "list.remove(x): x not in list",
     "output_type": "error",
     "traceback": [
      "\u001b[1;31m---------------------------------------------------------------------------\u001b[0m",
      "\u001b[1;31mValueError\u001b[0m                                Traceback (most recent call last)",
      "Cell \u001b[1;32mIn[70], line 2\u001b[0m\n\u001b[0;32m      1\u001b[0m \u001b[38;5;66;03m# Attempting to remove an element not in the list\u001b[39;00m\n\u001b[1;32m----> 2\u001b[0m \u001b[43mfruits\u001b[49m\u001b[38;5;241;43m.\u001b[39;49m\u001b[43mremove\u001b[49m\u001b[43m(\u001b[49m\u001b[38;5;124;43m\"\u001b[39;49m\u001b[38;5;124;43mgrape\u001b[39;49m\u001b[38;5;124;43m\"\u001b[39;49m\u001b[43m)\u001b[49m  \u001b[38;5;66;03m# This will raise ValueError\u001b[39;00m\n",
      "\u001b[1;31mValueError\u001b[0m: list.remove(x): x not in list"
     ]
    }
   ],
   "source": [
    "# Attempting to remove an element not in the list\n",
    "fruits.remove(\"grape\")  # This will raise ValueError\n"
   ]
  },
  {
   "cell_type": "markdown",
   "id": "6fb4a406-c88a-4f74-8494-b6b5f5dd2750",
   "metadata": {},
   "source": [
    "### **2. Using `pop()`**\n",
    "The `pop()` method removes and **returns** an element from the list by its index. By default, it removes the last element if no index is provided.\n",
    "\n",
    "**Syntax:**\n",
    "`list.pop(index)`"
   ]
  },
  {
   "cell_type": "code",
   "execution_count": 76,
   "id": "ee240cbe-44ce-4a78-a7cc-369ba8b892cf",
   "metadata": {},
   "outputs": [
    {
     "name": "stdout",
     "output_type": "stream",
     "text": [
      "[10, 20, 40]\n",
      "30\n"
     ]
    }
   ],
   "source": [
    "# Create a list\n",
    "numbers = [10, 20, 30, 40]\n",
    "\n",
    "# Remove the element at index 2\n",
    "removed_element = numbers.pop(2)\n",
    "\n",
    "print(numbers)           # Output: [10, 20, 40]\n",
    "print(removed_element)   # Output: 30\n"
   ]
  },
  {
   "cell_type": "markdown",
   "id": "df7c1a06-1491-4d40-8190-80d428b906c6",
   "metadata": {},
   "source": [
    "### **3. Using `del`**\n",
    "The `del` statement deletes an element or a slice of elements from the list.\n",
    "\n",
    "**Syntax:**\n",
    "\n",
    "\n",
    "`del list[index]`\n",
    "\n",
    "\r",
    "`\n",
    "del list[start:end`]\r\n"
   ]
  },
  {
   "cell_type": "code",
   "execution_count": 81,
   "id": "c5cfbcfe-19b4-4e60-92aa-9e3488e58daf",
   "metadata": {},
   "outputs": [
    {
     "name": "stdout",
     "output_type": "stream",
     "text": [
      "['red', 'green', 'yellow']\n",
      "['red', 'yellow']\n"
     ]
    }
   ],
   "source": [
    "# Create a list\n",
    "colors = [\"red\", \"blue\", \"green\", \"yellow\"]\n",
    "\n",
    "# Delete an element at index 1\n",
    "del colors[1]\n",
    "print(colors)  \n",
    "# Output: ['red', 'green', 'yellow']\n",
    "\n",
    "# Delete a slice of elements (from index 1 to 2, exclusive)\n",
    "del colors[1:2]\n",
    "print(colors)  \n",
    "# Output: ['red', 'yellow']\n"
   ]
  },
  {
   "cell_type": "markdown",
   "id": "735d98f5-9114-4041-a06e-e7afe3c35359",
   "metadata": {},
   "source": [
    "### **4. Using clear()**\n",
    "The `clear()` method removes **all elements** from the list, leaving it empty."
   ]
  },
  {
   "cell_type": "code",
   "execution_count": 84,
   "id": "e886ab82-4d1f-4ac5-bc95-1a719213300a",
   "metadata": {},
   "outputs": [
    {
     "name": "stdout",
     "output_type": "stream",
     "text": [
      "[]\n"
     ]
    }
   ],
   "source": [
    "# Create a list\n",
    "items = [\"a\", \"b\", \"c\"]\n",
    "\n",
    "# Clear the list\n",
    "items.clear()\n",
    "print(items)  \n",
    "# Output: []\n"
   ]
  },
  {
   "cell_type": "markdown",
   "id": "5bc638dd-b0f2-4fe5-8462-300470a0c619",
   "metadata": {},
   "source": [
    "\n",
    "### Comparison of Removal Methods\n",
    "\n",
    "| **Method**   | **Removes by**   | **Removes Multiple?** | **Returns Removed Element?** | **Error on Failure?** |\r\n",
    "|--------------|------------------|------------------------|------------------------------|------------------------|\r\n",
    "| `remove()`   | Value            | No                    | No                           | Yes                    |\r\n",
    "| `pop()`      | Index            | No                    | Yes                          | Yes                    |\r\n",
    "| `del`        | Index/Slice      | Yes (with slice)      | No                           | Yes                    |\r\n",
    "| `clear()`    | N/A              | All Elements          | No                           | No                     |\r\n"
   ]
  },
  {
   "cell_type": "markdown",
   "id": "7b530278-1160-4bf6-af98-f7fc2eb1f542",
   "metadata": {},
   "source": [
    "## Slice a List \n",
    "\n",
    "In Python, slicing is a powerful way to extract a portion of a list. You can define the start, end, and step to create a new list based on your needs.\n",
    "\n",
    "---\n",
    "\n",
    "### **Syntax**\n",
    "\n",
    "\n",
    "`list[start:end:step]`\n"
   ]
  },
  {
   "cell_type": "markdown",
   "id": "5a6cd58e-75d9-47d0-9c32-927a66c717c6",
   "metadata": {},
   "source": [
    "### 1. Slicing with Start and End"
   ]
  },
  {
   "cell_type": "code",
   "execution_count": 94,
   "id": "6c25e3f2-8c3a-4ae2-badc-2089117efd36",
   "metadata": {},
   "outputs": [
    {
     "name": "stdout",
     "output_type": "stream",
     "text": [
      "[2, 3, 4]\n"
     ]
    }
   ],
   "source": [
    "# Original list\n",
    "numbers = [0, 1, 2, 3, 4, 5, 6, 7, 8, 9]\n",
    "\n",
    "# Slice elements from index 2 to 5 (exclusive)\n",
    "subset = numbers[2:5]\n",
    "print(subset)  \n",
    "# Output: [2, 3, 4]\n"
   ]
  },
  {
   "cell_type": "markdown",
   "id": "e3465770-18fb-4dc7-a888-626f7456619c",
   "metadata": {},
   "source": [
    "### 2. Omitting Start or End\n",
    "\n"
   ]
  },
  {
   "cell_type": "code",
   "execution_count": 102,
   "id": "eff0f023-abab-4267-a030-dca355a386de",
   "metadata": {},
   "outputs": [
    {
     "name": "stdout",
     "output_type": "stream",
     "text": [
      "[0, 1, 2, 3]\n",
      "[5, 6, 7, 8, 9]\n"
     ]
    }
   ],
   "source": [
    "# Original list\n",
    "numbers = [0, 1, 2, 3, 4, 5, 6, 7, 8, 9]\n",
    "# Slice from the start to index 4\n",
    "subset = numbers[:4]\n",
    "print(subset)  \n",
    "# Output: [0, 1, 2, 3]\n",
    "\n",
    "# Slice from index 5 to the end\n",
    "subset = numbers[5:]\n",
    "print(subset)  \n",
    "# Output: [5, 6, 7, 8, 9]\n"
   ]
  },
  {
   "cell_type": "markdown",
   "id": "99c2e0d8-1c14-4f37-b28a-6f0e1401b01b",
   "metadata": {},
   "source": [
    "### 3. Using Step\n",
    "\n"
   ]
  },
  {
   "cell_type": "code",
   "execution_count": 106,
   "id": "c248e4fe-c539-4e6c-ad05-f95e3edd53e2",
   "metadata": {},
   "outputs": [
    {
     "name": "stdout",
     "output_type": "stream",
     "text": [
      "[0, 2, 4, 6, 8]\n",
      "[1, 4, 7]\n"
     ]
    }
   ],
   "source": [
    "# Original list\n",
    "numbers = [0, 1, 2, 3, 4, 5, 6, 7, 8, 9]\n",
    "\n",
    "# Slice every second element\n",
    "subset = numbers[::2]\n",
    "print(subset)  \n",
    "# Output: [0, 2, 4, 6, 8]\n",
    "\n",
    "# Slice every third element starting at index 1\n",
    "subset = numbers[1::3]\n",
    "print(subset)  \n",
    "# Output: [1, 4, 7]\n"
   ]
  },
  {
   "cell_type": "markdown",
   "id": "5e1a060e-13f1-465f-b5f4-88ac6b29a154",
   "metadata": {},
   "source": [
    "### Advanced Slicing\n"
   ]
  },
  {
   "cell_type": "markdown",
   "id": "6459e56b-8608-4297-b95f-3a97a9f7dc58",
   "metadata": {},
   "source": [
    "### 1. Negative Indices\n",
    "You can use negative indices to slice from the end of the list."
   ]
  },
  {
   "cell_type": "code",
   "execution_count": 112,
   "id": "bff545a0-fb7a-43b8-affe-bed482674575",
   "metadata": {},
   "outputs": [
    {
     "name": "stdout",
     "output_type": "stream",
     "text": [
      "[7, 8, 9]\n",
      "[0, 1, 2, 3, 4, 5, 6, 7]\n"
     ]
    }
   ],
   "source": [
    "# Original list\n",
    "numbers = [0, 1, 2, 3, 4, 5, 6, 7, 8, 9]\n",
    "\n",
    "# Slice the last 3 elements\n",
    "subset = numbers[-3:]\n",
    "print(subset)  \n",
    "# Output: [7, 8, 9]\n",
    "\n",
    "# Slice all but the last 2 elements\n",
    "subset = numbers[:-2]\n",
    "print(subset)  \n",
    "# Output: [0, 1, 2, 3, 4, 5, 6, 7]\n"
   ]
  },
  {
   "cell_type": "markdown",
   "id": "6fa45853-1e6f-404a-a889-fcb2f8476902",
   "metadata": {},
   "source": [
    "### 2. Reversing a List\n",
    "You can reverse a list by using a negative step value.\n",
    "\n",
    "\n"
   ]
  },
  {
   "cell_type": "code",
   "execution_count": 115,
   "id": "0ff1744a-b817-4e77-a0e6-bc7c22ee7f67",
   "metadata": {},
   "outputs": [
    {
     "name": "stdout",
     "output_type": "stream",
     "text": [
      "[9, 8, 7, 6, 5, 4, 3, 2, 1, 0]\n"
     ]
    }
   ],
   "source": [
    "# Original list\n",
    "numbers = [0, 1, 2, 3, 4, 5, 6, 7, 8, 9]\n",
    "\n",
    "# Reverse the list\n",
    "reversed_list = numbers[::-1]\n",
    "print(reversed_list)  \n",
    "# Output: [9, 8, 7, 6, 5, 4, 3, 2, 1, 0]\n"
   ]
  },
  {
   "cell_type": "markdown",
   "id": "2b2ad674-de89-4cb0-8eea-1466343ab032",
   "metadata": {},
   "source": [
    "### 3. Slice with Negative Step\n",
    "You can combine negative indices and a negative step for advanced slicing.\n",
    "\n"
   ]
  },
  {
   "cell_type": "code",
   "execution_count": 118,
   "id": "abd924d0-ceaa-483d-9e38-165d361875b1",
   "metadata": {},
   "outputs": [
    {
     "name": "stdout",
     "output_type": "stream",
     "text": [
      "[8, 6, 4]\n"
     ]
    }
   ],
   "source": [
    "# Original list\n",
    "numbers = [0, 1, 2, 3, 4, 5, 6, 7, 8, 9]\n",
    "\n",
    "# Slice every second element in reverse\n",
    "subset = numbers[8:2:-2]\n",
    "print(subset)  \n",
    "# Output: [8, 6, 4]\n"
   ]
  },
  {
   "cell_type": "code",
   "execution_count": 120,
   "id": "2a8111ec-6fb4-4ca3-8855-f744574e084c",
   "metadata": {},
   "outputs": [
    {
     "name": "stdout",
     "output_type": "stream",
     "text": [
      "['b', 'c', 'd', 'e']\n",
      "['a', 'b', 'c']\n",
      "['e', 'f', 'g']\n",
      "['a', 'c', 'e', 'g']\n",
      "['g', 'f', 'e', 'd', 'c', 'b', 'a']\n"
     ]
    }
   ],
   "source": [
    "# Original list\n",
    "letters = ['a', 'b', 'c', 'd', 'e', 'f', 'g']\n",
    "\n",
    "# Various slices\n",
    "print(letters[1:5])    # ['b', 'c', 'd', 'e']\n",
    "print(letters[:3])     # ['a', 'b', 'c']\n",
    "print(letters[4:])     # ['e', 'f', 'g']\n",
    "print(letters[::2])    # ['a', 'c', 'e', 'g']\n",
    "print(letters[::-1])   # ['g', 'f', 'e', 'd', 'c', 'b', 'a']\n"
   ]
  },
  {
   "cell_type": "markdown",
   "id": "8edc6daa-abd7-4b3f-815c-3c8860448f69",
   "metadata": {},
   "source": [
    "### Common List Methods\n"
   ]
  },
  {
   "cell_type": "code",
   "execution_count": 125,
   "id": "3c59dc2e-9dd5-4038-9abb-bd226ccdc486",
   "metadata": {},
   "outputs": [
    {
     "data": {
      "text/plain": [
       "7"
      ]
     },
     "execution_count": 125,
     "metadata": {},
     "output_type": "execute_result"
    }
   ],
   "source": [
    "# Original list\n",
    "letters = ['a', 'b', 'c', 'd', 'e', 'f', 'g']\n",
    "len(letters)"
   ]
  },
  {
   "cell_type": "markdown",
   "id": "2be43f83-168f-44f6-bf3c-04f77317532d",
   "metadata": {},
   "source": [
    "## Searching\n",
    "\n",
    "`index(x, start, end)`\n",
    "\n",
    "Returns the index of the first occurrence of `x`. Raises an error if `x` is not found."
   ]
  },
  {
   "cell_type": "code",
   "execution_count": 129,
   "id": "a5edb6e4-1b8e-4374-b495-279c5a70f722",
   "metadata": {},
   "outputs": [
    {
     "name": "stdout",
     "output_type": "stream",
     "text": [
      "1\n"
     ]
    }
   ],
   "source": [
    "fruits = ['apple', 'banana', 'cherry']\n",
    "print(fruits.index('banana'))  \n",
    "# Output: 1\n"
   ]
  },
  {
   "cell_type": "markdown",
   "id": "e0a4f0df-8baf-4aaa-9963-7ebd0c77dc36",
   "metadata": {},
   "source": [
    "### `count(x)`\n",
    "\n",
    "Counts the number of occurrences of x in the list.\n",
    " 3\r\n"
   ]
  },
  {
   "cell_type": "code",
   "execution_count": 135,
   "id": "c4bc425f-32e5-465b-af63-549d28c19066",
   "metadata": {},
   "outputs": [
    {
     "name": "stdout",
     "output_type": "stream",
     "text": [
      "3\n"
     ]
    }
   ],
   "source": [
    "numbers = [1, 2, 2, 3, 4, 2]\n",
    "print(numbers.count(2))  \n",
    "# Output: 3"
   ]
  },
  {
   "cell_type": "markdown",
   "id": "8cabb2ff-d7bc-4518-b857-5724a83913f5",
   "metadata": {},
   "source": [
    "## Copying a List\n"
   ]
  },
  {
   "cell_type": "markdown",
   "id": "b08032b7-f9f6-427b-80c4-8069d35edff4",
   "metadata": {},
   "source": [
    "`copy()`\n",
    "Creates a shallow copy of the list."
   ]
  },
  {
   "cell_type": "code",
   "execution_count": 141,
   "id": "1f54eb57-7232-4796-b2c1-112841444fd6",
   "metadata": {},
   "outputs": [
    {
     "name": "stdout",
     "output_type": "stream",
     "text": [
      "['apple', 'banana', 'cherry']\n"
     ]
    }
   ],
   "source": [
    "fruits = ['apple', 'banana', 'cherry']\n",
    "fruits_copy = fruits.copy()\n",
    "print(fruits_copy)  \n",
    "# Output: ['apple', 'banana', 'cherry']\n"
   ]
  },
  {
   "cell_type": "markdown",
   "id": "885934c5-486e-4f52-bb84-d6d28e25b80b",
   "metadata": {},
   "source": [
    "##  Membership Test\n",
    "`in`\n",
    "\n",
    "Checks if an element exists in the list.\n",
    "\n"
   ]
  },
  {
   "cell_type": "code",
   "execution_count": 144,
   "id": "313cc51d-3e5f-48c6-bcdb-df967612d323",
   "metadata": {},
   "outputs": [
    {
     "name": "stdout",
     "output_type": "stream",
     "text": [
      "True\n"
     ]
    }
   ],
   "source": [
    "fruits = ['apple', 'banana', 'cherry']\n",
    "print('apple' in fruits)  \n",
    "# Output: True\n"
   ]
  },
  {
   "cell_type": "code",
   "execution_count": null,
   "id": "1772d7c3-1624-469d-9aa1-f2a6a005e6a3",
   "metadata": {},
   "outputs": [],
   "source": [
    "not in\n",
    "Checks if an element does not exist in the list.\n",
    "\n",
    "python\n",
    "Copy code\n"
   ]
  }
 ],
 "metadata": {
  "kernelspec": {
   "display_name": "Python 3 (ipykernel)",
   "language": "python",
   "name": "python3"
  },
  "language_info": {
   "codemirror_mode": {
    "name": "ipython",
    "version": 3
   },
   "file_extension": ".py",
   "mimetype": "text/x-python",
   "name": "python",
   "nbconvert_exporter": "python",
   "pygments_lexer": "ipython3",
   "version": "3.12.4"
  }
 },
 "nbformat": 4,
 "nbformat_minor": 5
}
