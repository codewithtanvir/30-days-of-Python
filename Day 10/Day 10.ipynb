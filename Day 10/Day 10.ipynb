{
 "cells": [
  {
   "cell_type": "markdown",
   "id": "8c74706e-cdcc-48b2-8b42-5498cdc5e28e",
   "metadata": {},
   "source": [
    "## Day 10"
   ]
  },
  {
   "cell_type": "markdown",
   "id": "4536e936-bc4c-420a-b9b1-60fc8740ee8e",
   "metadata": {},
   "source": [
    "# Functions\n",
    "\n",
    "Functions are reusable blocks of code designed to perform specific tasks. They help make programs modular, organized, and easier to debug.\n",
    "\n",
    "---\n"
   ]
  },
  {
   "cell_type": "markdown",
   "id": "d5d9e1bc-3798-4f4e-b7cb-35e5dfcc5341",
   "metadata": {},
   "source": [
    "## **1. Defining a Function**\n",
    "A function is defined using the `def` keyword.\n",
    "\n",
    "#### Syntax:\n",
    "```python\n",
    "def function_name(parameters):\n",
    "    # Code block\n",
    "    return value  # (Optional)"
   ]
  },
  {
   "cell_type": "markdown",
   "id": "10d2385f-8d0f-4863-b0d1-1f4fe6820218",
   "metadata": {},
   "source": [
    "## **2. Declaring and Calling a Function**\n",
    "Once a function is defined, it can be called by its name followed by parentheses.\n",
    "\n",
    "#### Example:"
   ]
  },
  {
   "cell_type": "code",
   "execution_count": 11,
   "id": "c802e66d-e70a-456f-9f4f-6bcda3a22f49",
   "metadata": {},
   "outputs": [
    {
     "name": "stdout",
     "output_type": "stream",
     "text": [
      "Hello, World!\n"
     ]
    }
   ],
   "source": [
    "def greet():\n",
    "    print(\"Hello, World!\")\n",
    "\n",
    "# Calling the function\n",
    "greet()"
   ]
  },
  {
   "cell_type": "markdown",
   "id": "4be629db-a436-4114-8bb4-9be8f7903af3",
   "metadata": {},
   "source": [
    "## **3. Function without Parameters**\n",
    "A function may not take any input parameters but can still perform a task.\n",
    "\n",
    "#### Example:"
   ]
  },
  {
   "cell_type": "code",
   "execution_count": 16,
   "id": "291c0733-7a0a-4502-b83c-10efd5ac70fd",
   "metadata": {},
   "outputs": [
    {
     "name": "stdout",
     "output_type": "stream",
     "text": [
      "Today's date is 2024-12-21\n"
     ]
    }
   ],
   "source": [
    "def print_date():\n",
    "    print(\"Today's date is 2024-12-21\")\n",
    "\n",
    "print_date()"
   ]
  },
  {
   "cell_type": "markdown",
   "id": "41f7f95d-e3f8-42b2-8d86-473c63e2769e",
   "metadata": {},
   "source": [
    "## **4. Function Returning a Value - Part 1**\n",
    "A function can return a value using the `return` statement.\n",
    "\n",
    "#### Example:"
   ]
  },
  {
   "cell_type": "code",
   "execution_count": 19,
   "id": "e054b648-7753-45cd-aeb5-89d84d596c0b",
   "metadata": {},
   "outputs": [
    {
     "name": "stdout",
     "output_type": "stream",
     "text": [
      "8\n"
     ]
    }
   ],
   "source": [
    "def add_numbers():\n",
    "    return 5 + 3\n",
    "\n",
    "result = add_numbers()\n",
    "print(result)  # Output: 8"
   ]
  },
  {
   "cell_type": "markdown",
   "id": "15542a1d-093a-467a-833f-fb4631bc9436",
   "metadata": {},
   "source": [
    "## **5. Function with Parameters**\n",
    "Functions can accept inputs (parameters) to work with different values dynamically.\n",
    "\n",
    "#### Example:"
   ]
  },
  {
   "cell_type": "code",
   "execution_count": 22,
   "id": "1801eff3-e20a-4054-9cd7-6b5040a217e5",
   "metadata": {},
   "outputs": [
    {
     "name": "stdout",
     "output_type": "stream",
     "text": [
      "Hello, Alice!\n"
     ]
    }
   ],
   "source": [
    "def greet(name):\n",
    "    print(f\"Hello, {name}!\")\n",
    "\n",
    "greet(\"Alice\")  # Output: Hello, Alice!"
   ]
  },
  {
   "cell_type": "markdown",
   "id": "e69d29bc-98d8-4fac-86e6-0d98fa1da446",
   "metadata": {},
   "source": [
    "## **6. Passing Arguments with Key and Value**\n",
    "Arguments can be passed as key-value pairs (keyword arguments).\n",
    "\n",
    "#### Example:"
   ]
  },
  {
   "cell_type": "code",
   "execution_count": 25,
   "id": "54a60329-34cd-46a8-b1a7-81a6b4aacda4",
   "metadata": {},
   "outputs": [
    {
     "name": "stdout",
     "output_type": "stream",
     "text": [
      "Hello, Bob. You are 25 years old.\n"
     ]
    }
   ],
   "source": [
    "def greet(name, age):\n",
    "    print(f\"Hello, {name}. You are {age} years old.\")\n",
    "\n",
    "greet(age=25, name=\"Bob\")  # Output: Hello, Bob. You are 25 years old."
   ]
  },
  {
   "cell_type": "markdown",
   "id": "fb333970-b4e6-42a6-b964-4e80b2edf282",
   "metadata": {},
   "source": [
    "## **7. Function Returning a Value - Part 2**\n",
    "A function can return multiple values as a tuple.\n",
    "\n",
    "#### Example:"
   ]
  },
  {
   "cell_type": "code",
   "execution_count": 28,
   "id": "98c2d550-48c1-4f85-8cd3-eca1953df2e1",
   "metadata": {},
   "outputs": [
    {
     "name": "stdout",
     "output_type": "stream",
     "text": [
      "Area: 15, Perimeter: 16\n"
     ]
    }
   ],
   "source": [
    "def calculate_area_and_perimeter(length, width):\n",
    "    area = length * width\n",
    "    perimeter = 2 * (length + width)\n",
    "    return area, perimeter\n",
    "\n",
    "area, perimeter = calculate_area_and_perimeter(5, 3)\n",
    "print(f\"Area: {area}, Perimeter: {perimeter}\")"
   ]
  },
  {
   "cell_type": "markdown",
   "id": "627bc3ae-141a-49d0-941b-de526027aa67",
   "metadata": {},
   "source": [
    "## **8. Function with Default Parameters**\n",
    "Default values can be assigned to parameters."
   ]
  },
  {
   "cell_type": "code",
   "execution_count": 31,
   "id": "f94266ce-33ec-432d-a61a-a5232ce207d2",
   "metadata": {},
   "outputs": [
    {
     "name": "stdout",
     "output_type": "stream",
     "text": [
      "Hello, Guest!\n",
      "Hello, Charlie!\n"
     ]
    }
   ],
   "source": [
    "def greet(name=\"Guest\"):\n",
    "    print(f\"Hello, {name}!\")\n",
    "\n",
    "greet()           # Output: Hello, Guest!\n",
    "greet(\"Charlie\")  # Output: Hello, Charlie!"
   ]
  },
  {
   "cell_type": "markdown",
   "id": "25b41c98-36a7-4dad-9820-c4707e54160a",
   "metadata": {},
   "source": [
    "## **9. Arbitrary Number of Arguments**\n",
    "The `*args` syntax allows passing a variable number of arguments to a function.\n",
    "\n",
    "#### Example:"
   ]
  },
  {
   "cell_type": "code",
   "execution_count": 34,
   "id": "7023a533-8ceb-47d0-b121-30dcae162c28",
   "metadata": {},
   "outputs": [
    {
     "name": "stdout",
     "output_type": "stream",
     "text": [
      "Sum: 6\n",
      "Sum: 30\n"
     ]
    }
   ],
   "source": [
    "def add_numbers(*numbers):\n",
    "    total = sum(numbers)\n",
    "    print(f\"Sum: {total}\")\n",
    "\n",
    "add_numbers(1, 2, 3)        # Output: Sum: 6\n",
    "add_numbers(4, 5, 6, 7, 8)  # Output: Sum: 30"
   ]
  },
  {
   "cell_type": "markdown",
   "id": "908024da-f9a4-4b86-8938-f800d73a1625",
   "metadata": {},
   "source": [
    "## **10. Default and Arbitrary Number of Parameters**\n",
    "Combine default parameters and `*args` for flexible functions.\n",
    "\n",
    "#### Example:"
   ]
  },
  {
   "cell_type": "code",
   "execution_count": 37,
   "id": "06506500-15ef-42f0-a6d6-469bd90b2ea0",
   "metadata": {},
   "outputs": [
    {
     "name": "stdout",
     "output_type": "stream",
     "text": [
      "Hi, Alice!\n",
      "Hi, Bob!\n",
      "Hi, Charlie!\n"
     ]
    }
   ],
   "source": [
    "def greet(message=\"Hello\", *names):\n",
    "    for name in names:\n",
    "        print(f\"{message}, {name}!\")\n",
    "\n",
    "greet(\"Hi\", \"Alice\", \"Bob\", \"Charlie\")\n",
    "# Output:\n",
    "# Hi, Alice!\n",
    "# Hi, Bob!\n",
    "# Hi, Charlie!"
   ]
  },
  {
   "cell_type": "markdown",
   "id": "486ea9c7-52fc-4eac-9904-5d67ce0e4e13",
   "metadata": {},
   "source": [
    "## **11. Function as a Parameter of Another Function**\n",
    "Functions can be passed as arguments to other functions.\n",
    "\n",
    "#### Example:"
   ]
  },
  {
   "cell_type": "code",
   "execution_count": 40,
   "id": "e6bff4a1-e061-4c5b-b1b1-46ac806900b9",
   "metadata": {},
   "outputs": [
    {
     "name": "stdout",
     "output_type": "stream",
     "text": [
      "25\n"
     ]
    }
   ],
   "source": [
    "def square(x):\n",
    "    return x * x\n",
    "\n",
    "def apply_function(func, value):\n",
    "    return func(value)\n",
    "\n",
    "result = apply_function(square, 5)\n",
    "print(result)  # Output: 25"
   ]
  }
 ],
 "metadata": {
  "kernelspec": {
   "display_name": "Python 3 (ipykernel)",
   "language": "python",
   "name": "python3"
  },
  "language_info": {
   "codemirror_mode": {
    "name": "ipython",
    "version": 3
   },
   "file_extension": ".py",
   "mimetype": "text/x-python",
   "name": "python",
   "nbconvert_exporter": "python",
   "pygments_lexer": "ipython3",
   "version": "3.12.4"
  }
 },
 "nbformat": 4,
 "nbformat_minor": 5
}
