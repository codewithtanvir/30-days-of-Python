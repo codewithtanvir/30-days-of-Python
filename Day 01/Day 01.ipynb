{
 "cells": [
  {
   "cell_type": "markdown",
   "id": "7c860fd4-b1c9-4c63-b8ca-de627b581205",
   "metadata": {},
   "source": [
    "## Introduction\r\n",
    "\r\n",
    "Python is a high-level programming language for general-purpose programming. It is an open source, interpreted, objected-oriented programming language. Python was created by a Dutch programmer, Guido van Rossum. The name of the Python programming language was derived from a British sketch comedy series, *Monty Python's Flying Circus*.  The first version was released on February 20, 1991. This 30 days of Python challenge will help you learn the latest version of Python, Python 3 step by stes."
   ]
  },
  {
   "cell_type": "markdown",
   "id": "0781be22-a985-4606-b40b-75f9c88b2b28",
   "metadata": {},
   "source": [
    "## Why Python ?\r\n",
    "\r\n",
    "It is a programming language which is very close to human language and because of that, it is easy to learn and use.\r\n",
    "Python is used by various industries and companies (including Google). It has been used to develop web applications, desktop applications, system administration, and machine learning libraries. Python is a highly embraced language in the data science and machine learning community. I hope this is enough to convince you to start learning Python. Python is eating the world and you are killing it before it eats you."
   ]
  },
  {
   "cell_type": "markdown",
   "id": "49e68b3e-150f-4e63-af38-0b18c5f61d66",
   "metadata": {},
   "source": [
    "## Environment Setup\n",
    "\n",
    "### Installing Python\n",
    "\n",
    "To run a python script you need to install python. Let's [download](https://www.python.org/) python.\n",
    "If your are a windows user. Click the button encircled in red."
   ]
  },
  {
   "attachments": {},
   "cell_type": "markdown",
   "id": "767b050f-bdce-4d96-a949-ea006a319f71",
   "metadata": {},
   "source": [
    "### Installing Python\r\n",
    "\r\n",
    "To run a python script you need to install python. Let's [download](https://www.python.org/) python.\r\n",
    "If your are a windows user. Click the button encircled in roo the next section."
   ]
  },
  {
   "cell_type": "markdown",
   "id": "70fbc58c-95d2-4c27-ad9e-2c33f94faccd",
   "metadata": {},
   "source": [
    "## Basic Python\r\n",
    "\r\n",
    "### Python Syntax\r\n",
    "\r\n",
    "A Python script can be written in Python interactive shell or in the code editor. A Python file has an extension .py."
   ]
  },
  {
   "cell_type": "code",
   "execution_count": 11,
   "id": "55e75697-82d7-4152-bf10-208a1e00036e",
   "metadata": {},
   "outputs": [
    {
     "name": "stdout",
     "output_type": "stream",
     "text": [
      "Hello, Python\n"
     ]
    }
   ],
   "source": [
    "print(\"Hello, Python\")"
   ]
  },
  {
   "cell_type": "markdown",
   "id": "1c551e0d-4e28-449d-9027-07ece1eeeb39",
   "metadata": {},
   "source": [
    "### Comments\n",
    "\n",
    "Comments play a crucial role in enhancing code readability and allowing developers to leave notes within their code. In Python, any text preceded by a hash (#) symbol is considered a comment and is not executed when the code runs."
   ]
  },
  {
   "cell_type": "markdown",
   "id": "7b165798-c90f-4bc9-b3cc-6890fdcad617",
   "metadata": {},
   "source": [
    "**Example: Single Line Comment**\r\n",
    "\r\n",
    "```shell\r\n",
    "    # This is the first comment\r\n",
    "    # This is the second comment\r\n",
    "    # Pythoeasy to learnworld\r\n",
    "```"
   ]
  },
  {
   "cell_type": "code",
   "execution_count": 14,
   "id": "5de3907c-8d2d-45ca-a7e2-4945f5ca08fd",
   "metadata": {},
   "outputs": [],
   "source": [
    "    # This is the first comment\n",
    "    # This is the second comment\n",
    "    # Python is easy to learn"
   ]
  },
  {
   "cell_type": "markdown",
   "id": "0f7648f1-77c1-4ae9-83f9-eaee4aeb3a34",
   "metadata": {},
   "source": [
    "**Example: Multiline Comment**\r\n",
    "\r\n",
    "Triple quote can be used for multiline comment if it is not assigned to a variable\r\n",
    "\r\n",
    "```shell\r\n",
    "\"\"\"This is multiline comment\r\n",
    "multiline comment takes multiple le world\r\n",
    "\"\"\""
   ]
  },
  {
   "cell_type": "code",
   "execution_count": 16,
   "id": "e44fe84b-0e29-4167-be04-e681709d0e5b",
   "metadata": {},
   "outputs": [
    {
     "name": "stdout",
     "output_type": "stream",
     "text": [
      "Hello\n"
     ]
    }
   ],
   "source": [
    "\"\"\"This is multiline comment\n",
    "multiline comment takes multiple lines.\n",
    "python is eating the world\n",
    "\"\"\"\n",
    "print(\"Hello\")"
   ]
  },
  {
   "cell_type": "markdown",
   "id": "a2fd1bcd-2814-4c58-be8d-a717add994b8",
   "metadata": {},
   "source": [
    "### Data types\r\n",
    "\r\n",
    "In Python there are several types of data types. Let us get started with the most common ones. Different data types will be covered in detail in other sections. For the time being, let us just go through the different data types and get familiar with them. You do not have to have a clear understanding now.\r\n",
    "\r\n",
    "#### Number\r\n",
    "\r\n",
    "- Integer: Integer(negative, zero and positive) numbers\r\n",
    "    Example:\r\n",
    "    ... -3, -2, -1, 0, 1, 2, 3 ...\r\n",
    "- Float: Decimal number\r\n",
    "    Example\r\n",
    "    ... -3.5, -2.25, -1.0, 0.0, 1.1, 2.2, 3.5 ...\r\n",
    "- Complex\r\n",
    "    Example\r\n",
    "    1 + j, 2 + 4j"
   ]
  },
  {
   "cell_type": "markdown",
   "id": "ce930f39-f03e-4e5f-8479-e4136e3a8059",
   "metadata": {},
   "source": [
    "#### String\r\n",
    "\r\n",
    "A collection of one or more characters under a single or double quote. If a string is more than one sentence then we use a triple quote.\r\n",
    "\r\n",
    "**Example:**\r\n",
    "\r\n",
    "```py\r\n",
    "'Asabeneh'\r\n",
    "'Finland'\r\n",
    "'Python'\r\n",
    "'I love teaching'\r\n",
    "'I hope you are enjoying the first day of 30DaysOfPython Challenge'\r\n",
    "```"
   ]
  },
  {
   "cell_type": "markdown",
   "id": "44bdc1a1-97a1-449e-aa10-4df74023816c",
   "metadata": {},
   "source": [
    "#### Booleans\r\n",
    "\r\n",
    "A boolean data type is either a True or False value. T and F should be always uppercase.\r\n",
    "\r\n",
    "**Example:**\r\n",
    "\r\n",
    "```python\r\n",
    "    True  #  Is the light on? If it is on, then the value is True\r\n",
    "    False # Is the light on? If it is off, then the value is False\r\n",
    "```"
   ]
  },
  {
   "cell_type": "markdown",
   "id": "caa079d6-b6b7-47fe-97f9-070020c66f60",
   "metadata": {},
   "source": [
    "#### List\r\n",
    "\r\n",
    "Python list is an ordered collection which allows to store different data type items. A list is similar to an array in JavaScript.\r\n",
    "\r\n",
    "**Example:**\r\n",
    "\r\n",
    "```py\r\n",
    "[0, 1, 2, 3, 4, 5]  # all are the same data types - a list of numbers\r\n",
    "['Banana', 'Orange', 'Mango', 'Avocado'] # all the same data types - a list of strings (fruits)\r\n",
    "['Finland','Estonia', 'Sweden','Norway'] # all the same data types - a list of strings (countries)\r\n",
    "['Banana', 10, False, 9.81] # different data types in the list - string, integer, boolean and float\r\n",
    "```"
   ]
  },
  {
   "cell_type": "markdown",
   "id": "25108e6e-4b5f-4481-bb89-b18e710a066b",
   "metadata": {},
   "source": [
    "#### Dictionary\n",
    "\n",
    "A Python dictionary object is an unordered collection of data in a key value pair format.\n",
    "\n",
    "**Example:**\n",
    "\n",
    "```py\n",
    "{\n",
    "'first_name':'Tanvir',\n",
    "'last_name':'Rahman',\n",
    "'country':'Bangladesh', \n",
    "'age':22, \n",
    "'is_married': False,\n",
    "'skills':['JS', 'React', 'Node', 'Python']\n",
    "}\n",
    "```"
   ]
  },
  {
   "cell_type": "markdown",
   "id": "4a9f698e-0486-418b-a570-ac9a2bf25aac",
   "metadata": {},
   "source": [
    "#### Tuple\r\n",
    "\r\n",
    "A tuple is an ordered collection of different data types like list but tuples can not be modified once they are created. They are immutable.\r\n",
    "\r\n",
    "**Example:**\r\n",
    "\r\n",
    "```py\r\n",
    "('Asabeneh', 'Pawel', 'Brook', 'Abraham', 'Lidiya') # Names\r\n",
    "```\r\n",
    "\r\n",
    "```py\r\n",
    "('Earth', 'Jupiter', 'Neptune', 'Mars', 'Venus', 'Saturn', 'Uranus', 'Mercury') # planets\r\n",
    "```"
   ]
  },
  {
   "cell_type": "markdown",
   "id": "1dfae313-6615-40d4-b6d8-904431e94cdc",
   "metadata": {},
   "source": [
    "#### Set\n",
    "\n",
    "A set is a collection of data types similar to list and tuple. Unlike list and tuple, set is not an ordered collection of items. Like in Mathematics, set in Python stores only unique items.\n",
    "\n",
    "In later sections, we will go in detail about each and every Python data type.\n",
    "\n",
    "**Example:**\n",
    "\n",
    "```py\n",
    "{2, 4, 3, 5}\n",
    "{3.14, 9.81, 2.7} # order is not important in set\n",
    "```"
   ]
  },
  {
   "cell_type": "markdown",
   "id": "2d86650d-a028-4832-afdc-4f05525bc27b",
   "metadata": {},
   "source": [
    "### Checking Data types\n",
    "\n",
    "To check the data type of certain data/variable we use the **type** function. In the following terminal you will see different python data types:"
   ]
  },
  {
   "cell_type": "code",
   "execution_count": 25,
   "id": "10d8e031-81aa-4d76-8d74-b3747d08d9ca",
   "metadata": {},
   "outputs": [
    {
     "data": {
      "text/plain": [
       "int"
      ]
     },
     "execution_count": 25,
     "metadata": {},
     "output_type": "execute_result"
    }
   ],
   "source": [
    "type(1)"
   ]
  },
  {
   "cell_type": "code",
   "execution_count": 26,
   "id": "5dd77302-643d-4dbe-bd90-a2a2fcf7bb71",
   "metadata": {},
   "outputs": [
    {
     "data": {
      "text/plain": [
       "float"
      ]
     },
     "execution_count": 26,
     "metadata": {},
     "output_type": "execute_result"
    }
   ],
   "source": [
    "type(10.3)"
   ]
  },
  {
   "cell_type": "code",
   "execution_count": 27,
   "id": "0934954a-67bb-4216-9ab7-1c5361f3cb33",
   "metadata": {},
   "outputs": [
    {
     "data": {
      "text/plain": [
       "complex"
      ]
     },
     "execution_count": 27,
     "metadata": {},
     "output_type": "execute_result"
    }
   ],
   "source": [
    "type(1+4j)"
   ]
  },
  {
   "cell_type": "code",
   "execution_count": 28,
   "id": "7319d6f5-9056-4222-a3bb-c415ff6c1a27",
   "metadata": {},
   "outputs": [
    {
     "data": {
      "text/plain": [
       "str"
      ]
     },
     "execution_count": 28,
     "metadata": {},
     "output_type": "execute_result"
    }
   ],
   "source": [
    "type('Tanvir')"
   ]
  },
  {
   "cell_type": "code",
   "execution_count": 29,
   "id": "e05dcaed-520a-4aea-aef0-160aab59f229",
   "metadata": {},
   "outputs": [
    {
     "data": {
      "text/plain": [
       "list"
      ]
     },
     "execution_count": 29,
     "metadata": {},
     "output_type": "execute_result"
    }
   ],
   "source": [
    "type([1,2,3])"
   ]
  },
  {
   "cell_type": "code",
   "execution_count": 30,
   "id": "6feee9e2-c2a0-4c4e-b93f-c8e3b6350478",
   "metadata": {},
   "outputs": [
    {
     "data": {
      "text/plain": [
       "dict"
      ]
     },
     "execution_count": 30,
     "metadata": {},
     "output_type": "execute_result"
    }
   ],
   "source": [
    "type({'name':'Tanvir'})"
   ]
  },
  {
   "cell_type": "code",
   "execution_count": 31,
   "id": "dd059f06-78be-4869-82f1-bd5f48f7ebd0",
   "metadata": {},
   "outputs": [
    {
     "data": {
      "text/plain": [
       "tuple"
      ]
     },
     "execution_count": 31,
     "metadata": {},
     "output_type": "execute_result"
    }
   ],
   "source": [
    "type((1,2,3,4))"
   ]
  },
  {
   "cell_type": "code",
   "execution_count": 32,
   "id": "c5043c47-b518-4dec-a45c-5af93911c253",
   "metadata": {},
   "outputs": [
    {
     "data": {
      "text/plain": [
       "set"
      ]
     },
     "execution_count": 32,
     "metadata": {},
     "output_type": "execute_result"
    }
   ],
   "source": [
    "type({9.2, 4.2, 6.9})"
   ]
  },
  {
   "cell_type": "markdown",
   "id": "6e1aa0e0-2474-40a6-be0e-1e9030d9ca95",
   "metadata": {},
   "source": [
    "### Variables\n",
    "\n",
    "Variables are used to store data in a computer's memory. It is recommended to use mnemonic variable names in most programming languages. A mnemonic variable name is easy to remember and associate with its purpose. A variable refers to a memory address where the data is stored. \n",
    "\n",
    "When naming variables, the following rules apply:\n",
    "- Variable names cannot begin with a number, special character, or hyphen.\n",
    "- A variable name can be short (e.g., `x`, `y`, `z`), but descriptive names (e.g., `first_name`, `last_name`, `age`, `country`) are preferred for clarity.\n",
    "\n",
    "#### Python Variable Naming Rules:\n",
    "1. A variable name must start with a letter or an underscore (`_`).\n",
    "2. A variable name cannot start with a number.\n",
    "3. A variable name can only contain alphanumeric characters and underscores (`A-Z`, `a-z`, `0-9`, `_`).\n",
    "4. Variable names are case-sensitive, meaning `firstname`, `Firstname`, `FirstName`, and `FIRSTNAME` are distinct.\n",
    "\n",
    "#### Examples of Valid Variable Names:\n",
    "```python\n",
    "firstname\n",
    "lastname\n",
    "age\n",
    "country\n",
    "city\n",
    "first_name\n",
    "last_name\n",
    "capital_city\n",
    "_if  # Using reserved words as variable names with an underscore\n",
    "year_2021\n",
    "year2021\n",
    "current_year_2021\n",
    "birth_year\n",
    "num1\n",
    "num2\n",
    "```\n",
    "\n",
    "#### Examples of Invalid Variable Names:\n",
    "```python\n",
    "first-name\n",
    "first@name\n",
    "first$name\n",
    "num-1\n",
    "1num\n",
    "```\n",
    "\n",
    "#### Python Naming Conventions:\n",
    "Python developers follow the **snake_case** naming convention, where underscores separate words in multi-word variable names (e.g., `first_name`, `last_name`, `engine_rotation_speed`). This convention has become a standard among Python developers.\n",
    "\n",
    "#### Variable Declaration:\n",
    "When assigning a data value to a variable, it is called **variable declaration**. For example, assigning a name to the variable `first_name` uses the assignment operator `=`. In Python, the `=` operator signifies assignment, not equality as in mathematics.\n",
    "\n",
    "**Example:**\n",
    "```python\n",
    "# Declaring variables in Python\n",
    "first_name = 'Tanvir'\n",
    "last_name = 'Rahman'\n",
    "country = 'Bangladesh'\n",
    "city = 'Dhaka'\n",
    "age = 22\n",
    "is_married = True\n",
    "skills = ['HTML', 'CSS', 'JS', 'React', 'Python']\n",
    "person_info = {\n",
    "   'firstname': 'Tanvir',\n",
    "   'lastname': 'Rahman',\n",
    "   'country': 'Bangladesh',\n",
    "   'city': 'Dhaka'\n",
    "}\n",
    "```\n",
    "\n",
    "#### Using Built-in Functions:\n",
    "Python provides built-in functions like `print()` and `len()` for working with variables. The `print()` function can take multiple arguments, while `len()` accepts a single argument to calculate its length.\n",
    "\n",
    "**Examples:**\n",
    "```python\n",
    "# Using print() and len() functions\n",
    "print('Hello, World!')  # Output: Hello, World!\n",
    "print('Hello', ',', 'World', '!')  # Output: Hello , World !\n",
    "print(len('Hello, World!'))  # Output: 13\n",
    "```  # Output: Hello , World !\r\n",
    "print(len('Hello, World!'))  # Output: 13\r\n",
    "```"
   ]
  },
  {
   "cell_type": "code",
   "execution_count": 2,
   "id": "c37ad3d1-2896-4c15-ae73-4e7787362ea9",
   "metadata": {},
   "outputs": [
    {
     "name": "stdout",
     "output_type": "stream",
     "text": [
      "Hello, World!\n",
      "Hello , World !\n",
      "13\n"
     ]
    }
   ],
   "source": [
    "# Using print() and len() functions\n",
    "print('Hello, World!')  # Output: Hello, World!\n",
    "print('Hello', ',', 'World', '!')  # Output: Hello , World !\n",
    "print(len('Hello, World!'))  # Output: 13"
   ]
  },
  {
   "cell_type": "markdown",
   "id": "0a31cbc0-3a25-474d-9f7c-5915fbb347a8",
   "metadata": {},
   "source": [
    "Let us print and also find the length of the variables declared at the top:\r\n",
    "\r\n",
    "**Example:**\r\n"
   ]
  },
  {
   "cell_type": "code",
   "execution_count": 19,
   "id": "ed067bbb-b457-4f50-8c8c-68ceb6c5928a",
   "metadata": {},
   "outputs": [],
   "source": [
    "# Variables in Python\n",
    "first_name = 'Tanvir'\n",
    "last_name = 'Rahman'\n",
    "country = 'Bangladesh'\n",
    "city = 'Dhaka'\n",
    "age = 250\n",
    "is_married = True\n",
    "skills = ['HTML', 'CSS', 'JS', 'React', 'Python']\n",
    "person_info = {\n",
    "   'firstname':'Tanvir',\n",
    "   'lastname':'Rahman',\n",
    "   'country':'Bangladesh',\n",
    "   'city':'Dhaka'\n",
    "   }"
   ]
  },
  {
   "cell_type": "code",
   "execution_count": 21,
   "id": "5551149f-0354-43ff-ba6c-5806324f2510",
   "metadata": {},
   "outputs": [
    {
     "name": "stdout",
     "output_type": "stream",
     "text": [
      "First name: Tanvir\n",
      "First name length: 6\n",
      "Last name:  Rahman\n",
      "Last name length:  6\n",
      "Country:  Bangladesh\n",
      "City:  Dhaka\n",
      "Age:  250\n",
      "Married:  True\n",
      "Skills:  ['HTML', 'CSS', 'JS', 'React', 'Python']\n",
      "Person information:  {'firstname': 'Tanvir', 'lastname': 'Rahman', 'country': 'Bangladesh', 'city': 'Dhaka'}\n"
     ]
    }
   ],
   "source": [
    "# Printing the values stored in the variables\n",
    "\n",
    "print('First name:', first_name)\n",
    "print('First name length:', len(first_name))\n",
    "print('Last name: ', last_name)\n",
    "print('Last name length: ', len(last_name))\n",
    "print('Country: ', country)\n",
    "print('City: ', city)\n",
    "print('Age: ', age)\n",
    "print('Married: ', is_married)\n",
    "print('Skills: ', skills)\n",
    "print('Person information: ', person_info)"
   ]
  },
  {
   "cell_type": "markdown",
   "id": "0082de76-3c1a-4bab-ae96-5017429a1990",
   "metadata": {},
   "source": [
    "### Declaring Multiple Variable in a Line\r\n",
    "\r\n",
    "Multiple variables can also be declared in one line:\r\n",
    "\r\n",
    "**Example:**"
   ]
  },
  {
   "cell_type": "code",
   "execution_count": 51,
   "id": "be16fccd-695e-4b14-bc17-208533fd2723",
   "metadata": {},
   "outputs": [
    {
     "name": "stdout",
     "output_type": "stream",
     "text": [
      "Tanvir Rahman Bangladesh 22 False\n",
      "First Name: Tanvir\n",
      "Last Name: Rahman\n",
      "Country: Bangladesh\n",
      "Age: 22\n",
      "Married: False\n"
     ]
    }
   ],
   "source": [
    "first_name, last_name, country, age , is_married = 'Tanvir', 'Rahman', 'Bangladesh', 22, False\n",
    "print(first_name, last_name,country, age, is_married)\n",
    "print('First Name:', first_name)\n",
    "print('Last Name:', last_name)\n",
    "print('Country:',country)\n",
    "print('Age:', age)\n",
    "print('Married:', is_married)"
   ]
  },
  {
   "cell_type": "markdown",
   "id": "996b4c81-f2be-4733-8256-216c4df1caa0",
   "metadata": {},
   "source": [
    "\n",
    "\n",
    "Getting user input using the _input()_ built-in function. Let us assign the data we get from a user into first_name and age variables.\n",
    "\r\n",
    "**Example:**"
   ]
  },
  {
   "cell_type": "code",
   "execution_count": 56,
   "id": "33d49df6-b0af-48ca-8cc6-75236dbd97f6",
   "metadata": {},
   "outputs": [
    {
     "name": "stdin",
     "output_type": "stream",
     "text": [
      "What is your name:  Tanvir\n",
      "How old are you?  22\n"
     ]
    },
    {
     "name": "stdout",
     "output_type": "stream",
     "text": [
      "Tanvir\n",
      "22\n"
     ]
    }
   ],
   "source": [
    "first_name = input('What is your name: ')\n",
    "age = input('How old are you? ')\n",
    "\n",
    "print(first_name)\n",
    "print(age)\n"
   ]
  },
  {
   "cell_type": "markdown",
   "id": "94918142-f7ac-454a-b37c-3f7c7ef7faf6",
   "metadata": {},
   "source": [
    "## Data Types\r\n",
    "\r\n",
    "There are several data types in Python. To identify the data type we use the _type_ built-in function. I would like to ask you to focus on understanding different data types very well. When it comes to programming, it is all about data types."
   ]
  },
  {
   "cell_type": "markdown",
   "id": "b6305558-3513-4bd1-bf61-c2fe2b73dea1",
   "metadata": {},
   "source": [
    "## Checking Data types and Casting\n",
    "\n",
    "- Check Data types: To check the data type of certain data/variable we use the _type_\n",
    "\n",
    "**Examples:**"
   ]
  },
  {
   "cell_type": "code",
   "execution_count": 63,
   "id": "41bc6a58-a379-4c2d-b30e-e48d1088c9ce",
   "metadata": {},
   "outputs": [
    {
     "name": "stdout",
     "output_type": "stream",
     "text": [
      "<class 'str'>\n",
      "<class 'str'>\n",
      "<class 'int'>\n",
      "<class 'float'>\n",
      "<class 'complex'>\n",
      "<class 'bool'>\n",
      "<class 'list'>\n",
      "<class 'dict'>\n",
      "<class 'tuple'>\n",
      "<class 'zip'>\n"
     ]
    }
   ],
   "source": [
    "# Different python data types\n",
    "# Let's declare variables with various data types\n",
    "\n",
    "first_name = 'Tanvir'     # str\n",
    "last_name = 'Rahman'       # str\n",
    "country = 'Bangladesh'         # str\n",
    "city= 'Dhaka'            # str\n",
    "age = 22                  # int, it is not my real age, don't worry about it\n",
    "\n",
    "# Printing out types\n",
    "print(type('Tanvir'))          # str\n",
    "print(type(first_name))          # str\n",
    "print(type(10))                  # int\n",
    "print(type(3.14))                # float\n",
    "print(type(1 + 1j))              # complex\n",
    "print(type(True))                # bool\n",
    "print(type([1, 2, 3, 4]))        # list\n",
    "print(type({'name':'Tanvir'})) # dict\n",
    "print(type((1,2)))               # tuple\n",
    "print(type(zip([1,2],[3,4])))    # zip"
   ]
  },
  {
   "cell_type": "markdown",
   "id": "8ff077a4-4f68-4bb9-aac8-e69a3872b3b1",
   "metadata": {},
   "source": [
    "- Casting: Converting one data type to another data type. We use _int()_, _float()_, _str()_, _list_, _set_\n",
    "  When we do arithmetic operations string numbers should be first converted to int or float otherwise it will return an error. If we concatenate a number with a string, the number should be first converted to a string. We will talk about concatenation in String section.\n",
    "\n",
    "  **Examples:**"
   ]
  },
  {
   "cell_type": "code",
   "execution_count": 66,
   "id": "bec16b5f-e12d-4a3c-8fc5-60b99e376286",
   "metadata": {},
   "outputs": [
    {
     "name": "stdout",
     "output_type": "stream",
     "text": [
      "num_int 10\n",
      "num_float: 10.0\n",
      "9\n",
      "10\n",
      "10\n",
      "num_float 10.6\n",
      "num_int 10\n",
      "Tanvir\n",
      "['T', 'a', 'n', 'v', 'i', 'r']\n"
     ]
    }
   ],
   "source": [
    "# int to float\n",
    "num_int = 10\n",
    "print('num_int',num_int)         # 10\n",
    "num_float = float(num_int)\n",
    "print('num_float:', num_float)   # 10.0\n",
    "\n",
    "# float to int\n",
    "gravity = 9.81\n",
    "print(int(gravity))             # 9\n",
    "\n",
    "# int to str\n",
    "num_int = 10\n",
    "print(num_int)                  # 10\n",
    "num_str = str(num_int)\n",
    "print(num_str)                  # '10'\n",
    "\n",
    "# str to int or float\n",
    "num_str = '10.6'\n",
    "num_float = float(num_str)\n",
    "print('num_float', float(num_str))  # 10.6\n",
    "num_int = int(num_float)\n",
    "print('num_int', int(num_int))      # 10\n",
    "\n",
    "# str to list\n",
    "first_name = 'Tanvir'\n",
    "print(first_name)               # 'Asabeneh'\n",
    "first_name_to_list = list(first_name)\n",
    "print(first_name_to_list)            # ['T','a','n','v','i','r']"
   ]
  }
 ],
 "metadata": {
  "kernelspec": {
   "display_name": "Python 3 (ipykernel)",
   "language": "python",
   "name": "python3"
  },
  "language_info": {
   "codemirror_mode": {
    "name": "ipython",
    "version": 3
   },
   "file_extension": ".py",
   "mimetype": "text/x-python",
   "name": "python",
   "nbconvert_exporter": "python",
   "pygments_lexer": "ipython3",
   "version": "3.12.4"
  }
 },
 "nbformat": 4,
 "nbformat_minor": 5
}
