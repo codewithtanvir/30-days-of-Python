{
 "cells": [
  {
   "cell_type": "markdown",
   "id": "27ea0b08-73de-42ca-81f7-b07509743643",
   "metadata": {},
   "source": [
    "# 📘 Day 2\n",
    "\n",
    "## Boolean\n",
    "\n",
    "A boolean data type represents one of the two values: _True_ or _False_. The use of these data types will be clear once we start using the comparison operator. \n",
    "\n",
    "\n",
    "**Example: Boolean Values**"
   ]
  },
  {
   "cell_type": "code",
   "execution_count": 1,
   "id": "6504752b-3eea-43c8-995f-9cb7ec2e830a",
   "metadata": {},
   "outputs": [
    {
     "name": "stdout",
     "output_type": "stream",
     "text": [
      "True\n",
      "False\n"
     ]
    }
   ],
   "source": [
    "print(True)\n",
    "print(False)"
   ]
  },
  {
   "cell_type": "markdown",
   "id": "38171aa5-b2d8-459f-80db-d82ad3836202",
   "metadata": {},
   "source": [
    "## Operators\n",
    "\n",
    "Python language supports several types of operators. In this section, we will focus on few of them."
   ]
  },
  {
   "cell_type": "markdown",
   "id": "42be2ba4-3987-4e33-aeb4-74ca09e28ade",
   "metadata": {},
   "source": [
    "### Assignment Operators\n",
    "\n",
    "Assignment operators are used to assign values to variables. Let us take = as an example. Equal sign in mathematics shows that two values are equal, however in Python it means we are storing a value in a certain variable and we call it assignment or a assigning value to a variable)."
   ]
  },
  {
   "cell_type": "markdown",
   "id": "5d11f741-96a7-492f-9bae-8d9ff4f35621",
   "metadata": {},
   "source": [
    "| Operator | Description                                  | Example              | Equivalent To       |\n",
    "|----------|----------------------------------------------|----------------------|---------------------|\n",
    "| `=`      | Assigns a value to a variable                | `x = 5`             | `x = 5`            |\n",
    "| `+=`     | Adds and assigns the value to the variable   | `x += 3`            | `x = x + 3`        |\n",
    "| `-=`     | Subtracts and assigns the value              | `x -= 2`            | `x = x - 2`        |\n",
    "| `*=`     | Multiplies and assigns the value             | `x *= 4`            | `x = x * 4`        |\n",
    "| `/=`     | Divides and assigns the value                | `x /= 2`            | `x = x / 2`        |\n",
    "| `//=`    | Performs floor division and assigns the value| `x //= 3`           | `x = x // 3`       |\n",
    "| `%=`     | Takes modulus and assigns the value          | `x %= 2`            | `x = x % 2`        |\n",
    "| `**=`    | Raises to power and assigns the value        | `x **= 3`           | `x = x ** 3`       |\n",
    "| `&=`     | Performs bitwise AND and assigns the value   | `x &= 2`            | `x = x & 2`        |\n",
    "| `|=`     | Performs bitwise OR and assigns the value    | `x |= 3`            | `x = x | 3`        |\n",
    "| `^=`     | Performs bitwise XOR and assigns the value   | `x ^= 1`            | `x = x ^ 1`        |\n",
    "| `>>=`    | Performs right shift and assigns the value   | `x >>= 2`           | `x = x >> 2`       |\n",
    "| `<<=`    | Performs left shift and assigns the value    | `x <<= 3`           | `x = x << 3`       |\n"
   ]
  },
  {
   "cell_type": "markdown",
   "id": "0301851a-d76d-48d1-a339-90c8a8ae5453",
   "metadata": {},
   "source": [
    "### Arithmetic Operators:\n",
    "\n",
    "- Addition(+): a + b\n",
    "- Subtraction(-): a - b\n",
    "- Multiplication(*): a * b\n",
    "- Division(/): a / b\n",
    "- Modulus(%): a % b\n",
    "- Floor division(//): a // b\n",
    "- Exponentiation(**): a ** b"
   ]
  },
  {
   "cell_type": "markdown",
   "id": "426deebb-ed96-4b60-bc3b-ee4fee74c764",
   "metadata": {},
   "source": [
    "| Operator | Description                           | Example     | Result            |\n",
    "|----------|---------------------------------------|-------------|-------------------|\n",
    "| `+`      | Addition                             | `5 + 3`     | `8`               |\n",
    "| `-`      | Subtraction                          | `5 - 3`     | `2`               |\n",
    "| `*`      | Multiplication                       | `5 * 3`     | `15`              |\n",
    "| `/`      | Division (float result)              | `5 / 2`     | `2.5`             |\n",
    "| `//`     | Floor Division (integer result)      | `5 // 2`    | `2`               |\n",
    "| `%`      | Modulus (remainder)                  | `5 % 2`     | `1`               |\n",
    "| `**`     | Exponentiation (power)               | `5 ** 3`    | `125`             |\n"
   ]
  },
  {
   "cell_type": "markdown",
   "id": "969937e1-7cbb-4e53-b3f3-3678e3d2bcfd",
   "metadata": {},
   "source": [
    "**Example:Integers**"
   ]
  },
  {
   "cell_type": "code",
   "execution_count": 2,
   "id": "b1dba85b-fe95-46b3-9132-d471415def0e",
   "metadata": {},
   "outputs": [
    {
     "name": "stdout",
     "output_type": "stream",
     "text": [
      "Addition:  3\n",
      "Substraction:  1\n",
      "Multiplication:  6\n",
      "Division:  2.0\n",
      "Division:  3.0\n",
      "Division without the remainder:  3\n",
      "Modulus:  1\n",
      "Exponentiation:  125\n"
     ]
    }
   ],
   "source": [
    "print('Addition: ', 1+2)  # 3\n",
    "print('Substraction: ', 2-1)  # 1\n",
    "print('Multiplication: ', 2*3)  # 6\n",
    "print('Division: ', 4/2)  # 2.0 Division in Python gives floating number\n",
    "print('Division: ', 6/2)  # 3.0\n",
    "print('Division without the remainder: ', 7//2)  # 3\n",
    "print('Modulus: ', 3%2)  # 1 gives the remainder\n",
    "print('Exponentiation: ', 5**3)  #125"
   ]
  },
  {
   "cell_type": "markdown",
   "id": "47e22907-37f5-40c1-a964-0fa92bc79a2d",
   "metadata": {},
   "source": [
    "**Example:Floats**"
   ]
  },
  {
   "cell_type": "code",
   "execution_count": 3,
   "id": "8ba95ecc-f4ce-4d78-a15c-cd8b2110b6c1",
   "metadata": {},
   "outputs": [
    {
     "name": "stdout",
     "output_type": "stream",
     "text": [
      "Floating Point Number, PI 3.14\n",
      "Floating Point Number, gravity 9.81\n"
     ]
    }
   ],
   "source": [
    "print('Floating Point Number, PI', 3.14)\n",
    "print('Floating Point Number, gravity', 9.81)"
   ]
  },
  {
   "cell_type": "markdown",
   "id": "4f6e3b83-c5e8-49dc-9cea-a2c023843f72",
   "metadata": {},
   "source": [
    "**Example:Complex numbers**\n"
   ]
  },
  {
   "cell_type": "code",
   "execution_count": 4,
   "id": "28b9ea53-4851-4486-b8db-9462e77e001c",
   "metadata": {},
   "outputs": [
    {
     "name": "stdout",
     "output_type": "stream",
     "text": [
      "Complex number:  (1+1j)\n",
      "Multiplying complex numbers:  (2+0j)\n"
     ]
    }
   ],
   "source": [
    "# Complex numbers\n",
    "print('Complex number: ', 1 + 1j)\n",
    "print('Multiplying complex numbers: ',(1 + 1j) * (1 - 1j))"
   ]
  },
  {
   "cell_type": "markdown",
   "id": "0b78ee22-13de-4ae1-b98e-89aa7e9e0ee0",
   "metadata": {},
   "source": [
    "Let's declare a variable and assign a number data type. I am going to use single character variable but remember do not develop a habit of declaring such types of variables. Variable names should be all the time mnemonic.\n",
    "\n",
    "**Example:**"
   ]
  },
  {
   "cell_type": "code",
   "execution_count": 5,
   "id": "657f2643-a9a5-4e1d-9abd-a7b956c3e8e2",
   "metadata": {},
   "outputs": [
    {
     "name": "stdout",
     "output_type": "stream",
     "text": [
      "5\n",
      "a + b =  5\n",
      "a - b =  1\n",
      "a * b =  6\n",
      "a / b =  1.5\n",
      "a % b =  1\n",
      "a // b =  1\n",
      "a ** b =  9\n"
     ]
    }
   ],
   "source": [
    "# Declaring the variable at the top first\n",
    "\n",
    "a = 3 # a is a variable name and 3 is an integer data type\n",
    "b = 2 # b is a variable name and 3 is an integer data type\n",
    "\n",
    "# Arithmetic operations and assigning the result to a variable\n",
    "total = a + b\n",
    "diff = a - b\n",
    "product = a * b\n",
    "division = a / b\n",
    "remainder = a % b\n",
    "floor_division = a // b\n",
    "exponential = a ** b\n",
    "\n",
    "# I should have used sum instead of total but sum is a built-in function - try to avoid overriding built-in functions\n",
    "print(total) # if you do not label your print with some string, you never know where the result is coming from\n",
    "print('a + b = ', total)\n",
    "print('a - b = ', diff)\n",
    "print('a * b = ', product)\n",
    "print('a / b = ', division)\n",
    "print('a % b = ', remainder)\n",
    "print('a // b = ', floor_division)\n",
    "print('a ** b = ', exponential)"
   ]
  },
  {
   "cell_type": "markdown",
   "id": "cfb7013e-d7d8-4fc9-879c-22f03a0b9a27",
   "metadata": {},
   "source": [
    "**Example:**\n"
   ]
  },
  {
   "cell_type": "code",
   "execution_count": 6,
   "id": "24549c5a-1e19-4309-8fdb-2dd95d9dc624",
   "metadata": {},
   "outputs": [
    {
     "name": "stdout",
     "output_type": "stream",
     "text": [
      "== Addition, Substraction, Multiplication, Division, Modulus ==\n",
      "total:  7\n",
      "difference:  1\n",
      "product:  12\n",
      "division:  1.3333333333333333\n",
      "remainder:  1\n"
     ]
    }
   ],
   "source": [
    "print('== Addition, Substraction, Multiplication, Division, Modulus ==')\n",
    "\n",
    "#declaring values and organizing them together\n",
    "num_one =  3\n",
    "num_two =  4\n",
    "\n",
    "#Arithmetic operations \n",
    "total = num_one + num_two\n",
    "diff = num_two - num_one\n",
    "product = num_one * num_two\n",
    "div = num_two / num_one\n",
    "remainder = num_two % num_one\n",
    "\n",
    "#printing values with label \n",
    "print('total: ', total)\n",
    "print('difference: ', diff)\n",
    "print('product: ', product)\n",
    "print('division: ', div)\n",
    "print('remainder: ', remainder)"
   ]
  },
  {
   "cell_type": "markdown",
   "id": "35e672f2-d575-43bb-9f6c-95d022eb6c31",
   "metadata": {},
   "source": [
    "#### Calculate (area, volume,density, weight, perimeter, distance, force)."
   ]
  },
  {
   "cell_type": "code",
   "execution_count": 7,
   "id": "28afa132-847a-45db-a353-a3ad3720656b",
   "metadata": {},
   "outputs": [
    {
     "name": "stdout",
     "output_type": "stream",
     "text": [
      "Area of a circle: 530.66\n",
      "Area of rectangle: 240\n",
      "686.7 N\n"
     ]
    }
   ],
   "source": [
    "# Calculating area of a circle\n",
    "radius = 13                                 # radius of a circle\n",
    "area_of_circle = 3.14 * radius ** 2         # two * sign means exponent or power\n",
    "print('Area of a circle:', area_of_circle)\n",
    "\n",
    "# Calculating area of a rectangle\n",
    "length = 12\n",
    "width = 20\n",
    "area_of_rectangle = length * width\n",
    "print('Area of rectangle:', area_of_rectangle)\n",
    "\n",
    "# Calculating a weight of an object\n",
    "mass = 70\n",
    "gravity = 9.81\n",
    "weight = mass * gravity\n",
    "print(weight, 'N')                         # Adding unit to the weight\n",
    "\n",
    "# Calculate the density of a liquid\n",
    "mass = 70 # in Kg\n",
    "volume = 0.075 # in cubic meter\n",
    "density = mass / volume # 1000 Kg/m^"
   ]
  },
  {
   "cell_type": "markdown",
   "id": "8b3ac5f3-3589-418d-b5ee-c77109f2d08e",
   "metadata": {},
   "source": [
    "### Comparison Operators\n",
    "\n",
    "In programming we compare values, we use comparison operators to compare two values. We check if a value is greater or less or equal to other value."
   ]
  },
  {
   "cell_type": "markdown",
   "id": "0473203f-ec8a-4190-8f64-a2d91a5dc00e",
   "metadata": {},
   "source": [
    "| Operator | Description                         | Example        | Result   |\n",
    "|----------|-------------------------------------|----------------|----------|\n",
    "| `==`     | Equal to                           | `5 == 3`       | `False`  |\n",
    "| `!=`     | Not equal to                       | `5 != 3`       | `True`   |\n",
    "| `>`      | Greater than                       | `5 > 3`        | `True`   |\n",
    "| `<`      | Less than                          | `5 < 3`        | `False`  |\n",
    "| `>=`     | Greater than or equal to           | `5 >= 3`       | `True`   |\n",
    "| `<=`     | Less than or equal to              | `5 <= 3`       | `False`  |\n"
   ]
  },
  {
   "cell_type": "markdown",
   "id": "5e3b750b-d188-4926-93ed-f75fd18d6c0d",
   "metadata": {},
   "source": [
    "**Example: Comparison Operators**\n"
   ]
  },
  {
   "cell_type": "code",
   "execution_count": 8,
   "id": "381b1043-9ad1-4cd7-aa80-3bc289b343cf",
   "metadata": {},
   "outputs": [
    {
     "name": "stdout",
     "output_type": "stream",
     "text": [
      "True\n",
      "True\n",
      "False\n",
      "True\n",
      "True\n",
      "False\n",
      "True\n",
      "False\n",
      "True\n",
      "True\n",
      "False\n",
      "True\n",
      "True\n",
      "False\n",
      "True == True:  True\n",
      "True == False:  False\n",
      "False == False: True\n"
     ]
    }
   ],
   "source": [
    "print(3 > 2)     # True, because 3 is greater than 2\n",
    "print(3 >= 2)    # True, because 3 is greater than 2\n",
    "print(3 < 2)     # False,  because 3 is greater than 2\n",
    "print(2 < 3)     # True, because 2 is less than 3\n",
    "print(2 <= 3)    # True, because 2 is less than 3\n",
    "print(3 == 2)    # False, because 3 is not equal to 2\n",
    "print(3 != 2)    # True, because 3 is not equal to 2\n",
    "print(len('mango') == len('avocado'))  # False\n",
    "print(len('mango') != len('avocado'))  # True\n",
    "print(len('mango') < len('avocado'))   # True\n",
    "print(len('milk') != len('meat'))      # False\n",
    "print(len('milk') == len('meat'))      # True\n",
    "print(len('tomato') == len('potato'))  # True\n",
    "print(len('python') > len('dragon'))   # False\n",
    "\n",
    "\n",
    "# Comparing something gives either a True or False\n",
    "\n",
    "print('True == True: ', True == True)\n",
    "print('True == False: ', True == False)\n",
    "print('False == False:', False == False)"
   ]
  },
  {
   "cell_type": "markdown",
   "id": "8bea544f-537d-48a9-ad31-5a8b4ac49633",
   "metadata": {},
   "source": [
    "### Logical Operators\n",
    "\n",
    "Unlike other programming languages python uses keywords _and_, _or_ and _not_ for logical operators. Logical operators are used to combine conditional statements:"
   ]
  },
  {
   "cell_type": "markdown",
   "id": "4c98f782-9bed-4b34-b53e-3fb9053e9fe6",
   "metadata": {},
   "source": [
    "### Logical Operators in Python\n",
    "\n",
    "| Operator  | Description                                         | Example                     | Result  |\n",
    "|-----------|-----------------------------------------------------|-----------------------------|---------|\n",
    "| `and`     | Returns `True` if both conditions are `True`        | `(5 > 3) and (3 < 8)`       | `True`  |\n",
    "| `or`      | Returns `True` if at least one condition is `True`  | `(5 > 3) or (3 > 8)`        | `True`  |\n",
    "| `not`     | Reverses the Boolean value of the condition          | `not (5 > 3)`               | `False` |\n",
    "\n",
    "\n"
   ]
  },
  {
   "cell_type": "code",
   "execution_count": 9,
   "id": "91c1af27-3ab0-4975-9d32-5960779f8305",
   "metadata": {},
   "outputs": [
    {
     "name": "stdout",
     "output_type": "stream",
     "text": [
      "(5 > 3) and (3 < 8): True\n",
      "(5 > 3) and (3 > 8): False\n",
      "(5 > 3) or (3 > 8): True\n",
      "(5 < 3) or (3 > 8): False\n",
      "not (5 > 3): False\n",
      "not (5 < 3): True\n"
     ]
    }
   ],
   "source": [
    "# Logical AND\n",
    "print('(5 > 3) and (3 < 8):', (5 > 3) and (3 < 8))  # True - Both conditions are True\n",
    "print('(5 > 3) and (3 > 8):', (5 > 3) and (3 > 8))  # False - One condition is False\n",
    "\n",
    "# Logical OR\n",
    "print('(5 > 3) or (3 > 8):', (5 > 3) or (3 > 8))    # True - At least one condition is True\n",
    "print('(5 < 3) or (3 > 8):', (5 < 3) or (3 > 8))    # False - Both conditions are False\n",
    "\n",
    "# Logical NOT\n",
    "print('not (5 > 3):', not (5 > 3))                  # False - Reverses True to False\n",
    "print('not (5 < 3):', not (5 < 3))                  # True - Reverses False to True"
   ]
  },
  {
   "cell_type": "code",
   "execution_count": 10,
   "id": "f9b30045-e757-4158-a4b9-51547fb84dd1",
   "metadata": {},
   "outputs": [
    {
     "name": "stdout",
     "output_type": "stream",
     "text": [
      "True\n",
      "False\n",
      "False\n",
      "True and True:  True\n",
      "True\n",
      "True\n",
      "False\n",
      "True or False: True\n",
      "False\n",
      "False\n",
      "True\n",
      "True\n",
      "False\n"
     ]
    }
   ],
   "source": [
    "print(3 > 2 and 4 > 3) # True - because both statements are true\n",
    "print(3 > 2 and 4 < 3) # False - because the second statement is false\n",
    "print(3 < 2 and 4 < 3) # False - because both statements are false\n",
    "print('True and True: ', True and True)\n",
    "print(3 > 2 or 4 > 3)  # True - because both statements are true\n",
    "print(3 > 2 or 4 < 3)  # True - because one of the statements is true\n",
    "print(3 < 2 or 4 < 3)  # False - because both statements are false\n",
    "print('True or False:', True or False)\n",
    "print(not 3 > 2)     # False - because 3 > 2 is true, then not True gives False\n",
    "print(not True)      # False - Negation, the not operator turns true to false\n",
    "print(not False)     # True\n",
    "print(not not True)  # True\n",
    "print(not not False) # False"
   ]
  }
 ],
 "metadata": {
  "kernelspec": {
   "display_name": "Python 3",
   "language": "python",
   "name": "python3"
  },
  "language_info": {
   "codemirror_mode": {
    "name": "ipython",
    "version": 3
   },
   "file_extension": ".py",
   "mimetype": "text/x-python",
   "name": "python",
   "nbconvert_exporter": "python",
   "pygments_lexer": "ipython3",
   "version": "3.12.5"
  }
 },
 "nbformat": 4,
 "nbformat_minor": 5
}
