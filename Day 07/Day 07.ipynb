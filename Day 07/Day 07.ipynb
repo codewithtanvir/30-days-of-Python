{
 "cells": [
  {
   "cell_type": "markdown",
   "id": "7faf8947-6cf6-480a-8ee6-6e1cdc13a74e",
   "metadata": {},
   "source": [
    "## Day 07"
   ]
  },
  {
   "cell_type": "markdown",
   "id": "4bb119e5-50ff-4ff6-aca6-9183b0e36c23",
   "metadata": {},
   "source": [
    "# Dictionaries in Python\n",
    "\n",
    "A **dictionary** is a collection of **key-value pairs**, where each key is unique, and values can be of any data type. Dictionaries are **mutable** and allow efficient data retrieval.\n",
    "\n",
    "---"
   ]
  },
  {
   "cell_type": "markdown",
   "id": "f7d4bfd3-562a-4ae5-8051-2a7df833dc6a",
   "metadata": {},
   "source": [
    "## **Creating a Dictionary**\n",
    "\n",
    "You can create a dictionary using curly braces `{}` with key-value pairs or the `dict()` function."
   ]
  },
  {
   "cell_type": "code",
   "execution_count": 10,
   "id": "a6a535fa-8989-41e1-b1f1-d6ab5a849b4e",
   "metadata": {},
   "outputs": [
    {
     "name": "stdout",
     "output_type": "stream",
     "text": [
      "{'name': 'Alice', 'age': 25, 'city': 'New York'}\n"
     ]
    }
   ],
   "source": [
    "# Using curly braces\n",
    "my_dict = {'name': 'Alice', 'age': 25, 'city': 'New York'}\n",
    "print(my_dict)"
   ]
  },
  {
   "cell_type": "code",
   "execution_count": 12,
   "id": "bc79a069-614f-42fa-af6e-d115197554da",
   "metadata": {},
   "outputs": [
    {
     "name": "stdout",
     "output_type": "stream",
     "text": [
      "{'name': 'Bob', 'age': 30, 'city': 'Chicago'}\n"
     ]
    }
   ],
   "source": [
    "# Using dict() function\n",
    "another_dict = dict(name='Bob', age=30, city='Chicago')\n",
    "print(another_dict)"
   ]
  },
  {
   "cell_type": "code",
   "execution_count": 14,
   "id": "6dd211cd-6247-4e48-a516-aa65104eb28f",
   "metadata": {},
   "outputs": [
    {
     "name": "stdout",
     "output_type": "stream",
     "text": [
      "{}\n"
     ]
    }
   ],
   "source": [
    "# Empty dictionary\n",
    "empty_dict = {}\n",
    "print(empty_dict)"
   ]
  },
  {
   "cell_type": "markdown",
   "id": "39d267f5-d27f-4b69-a27c-32e8bb723d95",
   "metadata": {},
   "source": [
    "## Dictionary Length\n",
    "Use the `len()` function to determine the number of key-value pairs in a dictionary."
   ]
  },
  {
   "cell_type": "code",
   "execution_count": 17,
   "id": "5c0c8ba8-f32f-42fa-a79c-8ac69dd799bd",
   "metadata": {},
   "outputs": [
    {
     "name": "stdout",
     "output_type": "stream",
     "text": [
      "3\n"
     ]
    }
   ],
   "source": [
    "my_dict = {'name': 'Alice', 'age': 25, 'city': 'New York'}\n",
    "print(len(my_dict))  # Output: 3"
   ]
  },
  {
   "cell_type": "markdown",
   "id": "eb22831f-4a2a-4cae-952a-14b2eaec060b",
   "metadata": {},
   "source": [
    "## Accessing Dictionary Items\n",
    "Use the key inside square brackets `[]` or the `get()` method to access a value."
   ]
  },
  {
   "cell_type": "code",
   "execution_count": 22,
   "id": "2f9b35d5-394f-428f-8e47-f4a8ee9322d3",
   "metadata": {},
   "outputs": [
    {
     "name": "stdout",
     "output_type": "stream",
     "text": [
      "Alice\n"
     ]
    }
   ],
   "source": [
    "my_dict = {'name': 'Alice', 'age': 25, 'city': 'New York'}\n",
    "\n",
    "# Using square brackets\n",
    "print(my_dict['name'])  # Output: Alice"
   ]
  },
  {
   "cell_type": "code",
   "execution_count": 24,
   "id": "a17b59e0-c6f1-40a0-92d3-d2cf66e8103d",
   "metadata": {},
   "outputs": [
    {
     "name": "stdout",
     "output_type": "stream",
     "text": [
      "25\n"
     ]
    }
   ],
   "source": [
    "# Using get() method\n",
    "print(my_dict.get('age'))  # Output: 25"
   ]
  },
  {
   "cell_type": "code",
   "execution_count": 26,
   "id": "3bbc15fe-5f12-4ecc-9931-16e68993e1ea",
   "metadata": {},
   "outputs": [
    {
     "name": "stdout",
     "output_type": "stream",
     "text": [
      "None\n"
     ]
    }
   ],
   "source": [
    "# Key not found (get() returns None, [] raises KeyError)\n",
    "print(my_dict.get('country'))  # Output: None"
   ]
  },
  {
   "cell_type": "markdown",
   "id": "9c2f42c8-b7e1-4f3f-8152-29c6370e8ca9",
   "metadata": {},
   "source": [
    "## Adding Items to a Dictionary\n",
    "Add a new key-value pair by assigning a value to a new key."
   ]
  },
  {
   "cell_type": "code",
   "execution_count": 29,
   "id": "bd5bc423-4301-4147-ac10-03faf11871bc",
   "metadata": {},
   "outputs": [
    {
     "name": "stdout",
     "output_type": "stream",
     "text": [
      "{'name': 'Alice', 'age': 25, 'city': 'New York'}\n"
     ]
    }
   ],
   "source": [
    "my_dict = {'name': 'Alice', 'age': 25}\n",
    "my_dict['city'] = 'New York'\n",
    "print(my_dict)  # Output: {'name': 'Alice', 'age': 25, 'city': 'New York'}"
   ]
  },
  {
   "cell_type": "markdown",
   "id": "d2a5ec14-68a5-4f38-a010-33a4198f048b",
   "metadata": {},
   "source": [
    "## Modifying Items in a Dictionary\n",
    "Assign a new value to an existing key to update its value."
   ]
  },
  {
   "cell_type": "code",
   "execution_count": 32,
   "id": "a6435d5a-1478-4426-b7ec-925050aa284d",
   "metadata": {},
   "outputs": [
    {
     "name": "stdout",
     "output_type": "stream",
     "text": [
      "{'name': 'Alice', 'age': 26}\n"
     ]
    }
   ],
   "source": [
    "my_dict = {'name': 'Alice', 'age': 25}\n",
    "my_dict['age'] = 26\n",
    "print(my_dict)  # Output: {'name': 'Alice', 'age': 26}"
   ]
  },
  {
   "cell_type": "markdown",
   "id": "d76bbaea-dcae-4d0b-ae2b-96ddb41e8306",
   "metadata": {},
   "source": [
    "## Checking Keys in a Dictionary\n",
    "Use the `in` keyword to check if a key exists in a dictionary."
   ]
  },
  {
   "cell_type": "code",
   "execution_count": 35,
   "id": "6a20931a-e0e7-4098-afee-c3840b02ee4b",
   "metadata": {},
   "outputs": [
    {
     "name": "stdout",
     "output_type": "stream",
     "text": [
      "True\n",
      "False\n"
     ]
    }
   ],
   "source": [
    "my_dict = {'name': 'Alice', 'age': 25}\n",
    "print('name' in my_dict)  # Output: True\n",
    "print('city' in my_dict)  # Output: False"
   ]
  },
  {
   "cell_type": "markdown",
   "id": "148862a4-9d04-4c7e-9d27-c1d8c970ee9a",
   "metadata": {},
   "source": [
    "## Removing Key and Value Pairs from a Dictionary\n",
    "- Use `pop()` to remove a key and get its value.\n",
    "- Use `popitem()` to remove the last inserted key-value pair.\n",
    "- Use `del` to remove a key-value pair or the entire dictionary."
   ]
  },
  {
   "cell_type": "code",
   "execution_count": 38,
   "id": "edeab385-3bcb-4daf-9d8f-745900ef288b",
   "metadata": {},
   "outputs": [
    {
     "name": "stdout",
     "output_type": "stream",
     "text": [
      "25\n"
     ]
    }
   ],
   "source": [
    "my_dict = {'name': 'Alice', 'age': 25, 'city': 'New York'}\n",
    "\n",
    "# Remove a key and get its value\n",
    "removed_value = my_dict.pop('age')\n",
    "print(removed_value)  # Output: 25"
   ]
  },
  {
   "cell_type": "code",
   "execution_count": 40,
   "id": "368408ea-28dd-423e-ac6c-29e0eb136768",
   "metadata": {},
   "outputs": [
    {
     "name": "stdout",
     "output_type": "stream",
     "text": [
      "('city', 'New York')\n"
     ]
    }
   ],
   "source": [
    "# Remove the last inserted key-value pair\n",
    "last_item = my_dict.popitem()\n",
    "print(last_item)  # Output: ('city', 'New York')"
   ]
  },
  {
   "cell_type": "code",
   "execution_count": 42,
   "id": "3068dad6-eecd-4cb5-a047-694fb4edde17",
   "metadata": {},
   "outputs": [
    {
     "name": "stdout",
     "output_type": "stream",
     "text": [
      "{}\n"
     ]
    }
   ],
   "source": [
    "# Remove a specific key\n",
    "del my_dict['name']\n",
    "print(my_dict)  # Output: {}"
   ]
  },
  {
   "cell_type": "code",
   "execution_count": 44,
   "id": "6ecae77e-7c43-4745-8b6d-777a9c120811",
   "metadata": {},
   "outputs": [],
   "source": [
    "# Delete entire dictionary\n",
    "del my_dict"
   ]
  },
  {
   "cell_type": "markdown",
   "id": "4f5e130e-bd3e-48b7-8c58-79ac5ba81d8f",
   "metadata": {},
   "source": [
    "## Changing Dictionary to a List of Items\n",
    "Use the `items()` method to get a list-like view of the dictionary’s key-value pairs."
   ]
  },
  {
   "cell_type": "code",
   "execution_count": 47,
   "id": "dabf0216-5bb6-47df-a428-47eb05835277",
   "metadata": {},
   "outputs": [
    {
     "name": "stdout",
     "output_type": "stream",
     "text": [
      "[('name', 'Alice'), ('age', 25)]\n"
     ]
    }
   ],
   "source": [
    "my_dict = {'name': 'Alice', 'age': 25}\n",
    "items = list(my_dict.items())\n",
    "print(items)  # Output: [('name', 'Alice'), ('age', 25)]"
   ]
  },
  {
   "cell_type": "markdown",
   "id": "751e5b2f-46e4-4745-be2c-8de61186c7a6",
   "metadata": {},
   "source": [
    "## Clearing a Dictionary\n",
    "Use the `clear()` method to remove all key-value pairs."
   ]
  },
  {
   "cell_type": "code",
   "execution_count": 50,
   "id": "7188fcae-49ce-4adc-bd50-c16d3b0aca5a",
   "metadata": {},
   "outputs": [
    {
     "name": "stdout",
     "output_type": "stream",
     "text": [
      "{}\n"
     ]
    }
   ],
   "source": [
    "my_dict = {'name': 'Alice', 'age': 25}\n",
    "my_dict.clear()\n",
    "print(my_dict)  # Output: {}"
   ]
  },
  {
   "cell_type": "markdown",
   "id": "ab1667db-0464-45c2-bd2e-8c0160c8cdd8",
   "metadata": {},
   "source": [
    "## Deleting a Dictionary\n",
    "Use the `del` keyword to delete the entire dictionary."
   ]
  },
  {
   "cell_type": "code",
   "execution_count": 53,
   "id": "83b07814-271d-477c-9b66-2ae337cc4d9f",
   "metadata": {},
   "outputs": [],
   "source": [
    "my_dict = {'name': 'Alice', 'age': 25}\n",
    "del my_dict"
   ]
  },
  {
   "cell_type": "markdown",
   "id": "5d057140-4f3e-43da-8591-2e2ae40fe563",
   "metadata": {},
   "source": [
    "## Copy a Dictionary\n",
    "Use the `copy()` method to create a shallow copy of a dictionary."
   ]
  },
  {
   "cell_type": "code",
   "execution_count": 56,
   "id": "ce2e3b21-ecce-4da3-8641-8b9cb6929a63",
   "metadata": {},
   "outputs": [
    {
     "name": "stdout",
     "output_type": "stream",
     "text": [
      "{'name': 'Alice', 'age': 25}\n"
     ]
    }
   ],
   "source": [
    "original_dict = {'name': 'Alice', 'age': 25}\n",
    "copied_dict = original_dict.copy()\n",
    "print(copied_dict)  # Output: {'name': 'Alice', 'age': 25}"
   ]
  },
  {
   "cell_type": "markdown",
   "id": "06b3868b-4ad8-4f5e-b231-91e3f284c3ed",
   "metadata": {},
   "source": [
    "## Getting Dictionary Keys as a List\n",
    "Use the `keys()` method to get a list-like view of dictionary keys."
   ]
  },
  {
   "cell_type": "code",
   "execution_count": 59,
   "id": "c12b3c4d-3431-4135-84a0-87c141673f43",
   "metadata": {},
   "outputs": [
    {
     "name": "stdout",
     "output_type": "stream",
     "text": [
      "['name', 'age']\n"
     ]
    }
   ],
   "source": [
    "my_dict = {'name': 'Alice', 'age': 25}\n",
    "keys = list(my_dict.keys())\n",
    "print(keys)  # Output: ['name', 'age']"
   ]
  },
  {
   "cell_type": "markdown",
   "id": "4fe50db6-dfe4-4f3d-8440-9f91e613307e",
   "metadata": {},
   "source": [
    "## Getting Dictionary Values as a List\n",
    "Use the `values()` method to get a list-like view of dictionary values."
   ]
  },
  {
   "cell_type": "code",
   "execution_count": 62,
   "id": "cef5f213-493d-404a-899c-4ee263d71736",
   "metadata": {},
   "outputs": [
    {
     "name": "stdout",
     "output_type": "stream",
     "text": [
      "['Alice', 25]\n"
     ]
    }
   ],
   "source": [
    "my_dict = {'name': 'Alice', 'age': 25}\n",
    "values = list(my_dict.values())\n",
    "print(values)  # Output: ['Alice', 25]"
   ]
  },
  {
   "cell_type": "markdown",
   "id": "09047574-9467-46c8-89a6-8ce6e0fef04e",
   "metadata": {},
   "source": [
    "# Dictionary Operations Summary Table\r\n",
    "\r\n",
    "| **Operation**                         | **Method**                  | **Example**                                    |\r\n",
    "|---------------------------------------|-----------------------------|-----------------------------------------------|\r\n",
    "| **Create a Dictionary**               | `{}` or `dict()`            | `my_dict = {'key': 'value'}`                  |\r\n",
    "| **Get Length**                        | `len()`                     | `len(my_dict)`                                |\r\n",
    "| **Access Value**                      | `[]` or `get()`             | `my_dict['key']` or `my_dict.get('key')`      |\r\n",
    "| **Add Key-Value Pair**                | `my_dict[key] = value`      | `my_dict['new_key'] = 'new_value'`           |\r\n",
    "| **Modify Value**                      | `my_dict[key] = new_value`  | `my_dict['key'] = 'updated_value'`           |\r\n",
    "| **Check Key Existence**               | `in`                        | `'key' in my_dict`                            |\r\n",
    "| **Remove Key (Get Value)**            | `pop()`                     | `my_dict.pop('key')`                          |\r\n",
    "| **Remove Last Pair**                  | `popitem()`                 | `my_dict.popitem()`                           |\r\n",
    "| **Remove Specific Key**               | `del`                       | `del my_dict['key']`                          |\r\n",
    "| **Clear All Pairs**                   | `clear()`                   | `my_dict.clear()`                             |\r\n",
    "| **Delete Dictionary**                 | `del`                       | `del my_dict`                                 |\r\n",
    "| **Copy Dictionary**                   | `copy()`                    | `copied_dict = my_dict.copy()`                |\r\n",
    "| **Get Keys**                          | `keys()`                    | `list(my_dict.keys())`                        |\r\n",
    "| **Get Values**                        | `values()`                  | `list(my_dict.values())`                      |\r\n",
    "| **Get Items as List**                 | `items()`                   | `list(my_dict.items())`                       |\r\n"
   ]
  }
 ],
 "metadata": {
  "kernelspec": {
   "display_name": "Python 3 (ipykernel)",
   "language": "python",
   "name": "python3"
  },
  "language_info": {
   "codemirror_mode": {
    "name": "ipython",
    "version": 3
   },
   "file_extension": ".py",
   "mimetype": "text/x-python",
   "name": "python",
   "nbconvert_exporter": "python",
   "pygments_lexer": "ipython3",
   "version": "3.12.4"
  }
 },
 "nbformat": 4,
 "nbformat_minor": 5
}
