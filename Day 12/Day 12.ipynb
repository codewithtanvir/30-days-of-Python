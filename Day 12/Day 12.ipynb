{
 "cells": [
  {
   "cell_type": "markdown",
   "id": "e9ea0b1e-deb4-405a-9603-424611c84b41",
   "metadata": {},
   "source": [
    "# Day 12"
   ]
  },
  {
   "cell_type": "markdown",
   "id": "3eab715e-8543-41cb-a837-71b45a582c22",
   "metadata": {},
   "source": [
    "# Python: List Comprehensions \n",
    "\n",
    "---\n",
    "\n",
    "## **1. List Comprehension**\n",
    "\n",
    "List comprehensions provide a concise way to create lists in Python. They are often used to simplify loops that append elements to a list.\n",
    "\n",
    "### **Syntax:**\n",
    "```python\n",
    "[expression for item in iterable if condition]\n"
   ]
  },
  {
   "cell_type": "markdown",
   "id": "1a2f6911-dac5-4636-8df4-99646639daca",
   "metadata": {},
   "source": [
    "#### Examples:\n",
    "## Basic List Comprehension:"
   ]
  },
  {
   "cell_type": "code",
   "execution_count": 6,
   "id": "e2e0585c-ea12-4f56-abe7-6c6247177b80",
   "metadata": {},
   "outputs": [
    {
     "name": "stdout",
     "output_type": "stream",
     "text": [
      "[0, 1, 4, 9, 16]\n"
     ]
    }
   ],
   "source": [
    "# Generate a list of squares\n",
    "squares = [x**2 for x in range(5)]\n",
    "print(squares)  # Output: [0, 1, 4, 9, 16]"
   ]
  },
  {
   "cell_type": "markdown",
   "id": "0160eb2d-2f05-4374-ad6f-8917682c416c",
   "metadata": {},
   "source": [
    "### With a Condition:"
   ]
  },
  {
   "cell_type": "code",
   "execution_count": 9,
   "id": "b1979c82-2811-4914-a019-28a13fb16312",
   "metadata": {},
   "outputs": [
    {
     "name": "stdout",
     "output_type": "stream",
     "text": [
      "[0, 2, 4, 6, 8]\n"
     ]
    }
   ],
   "source": [
    "# Generate a list of even numbers\n",
    "evens = [x for x in range(10) if x % 2 == 0]\n",
    "print(evens)  # Output: [0, 2, 4, 6, 8]"
   ]
  },
  {
   "cell_type": "markdown",
   "id": "01d361f8-1b45-4dc2-9e15-44e420a339b6",
   "metadata": {},
   "source": [
    "### Nested Loops in List Comprehension:"
   ]
  },
  {
   "cell_type": "code",
   "execution_count": 14,
   "id": "746674d5-eba6-4caf-83c5-c507a53e97f7",
   "metadata": {},
   "outputs": [
    {
     "name": "stdout",
     "output_type": "stream",
     "text": [
      "[(0, 0), (0, 1), (0, 2), (1, 0), (1, 1), (1, 2), (2, 0), (2, 1), (2, 2)]\n"
     ]
    }
   ],
   "source": [
    "# Create pairs (i, j) where i and j are from different ranges\n",
    "pairs = [(i, j) for i in range(3) for j in range(3)]\n",
    "print(pairs)  # Output: [(0, 0), (0, 1), (0, 2), (1, 0), (1, 1), (1, 2), (2, 0), (2, 1), (2, 2)]"
   ]
  },
  {
   "cell_type": "markdown",
   "id": "49daa84c-ddd2-4a0c-a068-8c7ff244278c",
   "metadata": {},
   "source": [
    "### Using a Function in List Comprehension:"
   ]
  },
  {
   "cell_type": "code",
   "execution_count": 17,
   "id": "b8e76b8b-3234-4fd7-b90e-13be0dc5c61b",
   "metadata": {},
   "outputs": [
    {
     "name": "stdout",
     "output_type": "stream",
     "text": [
      "[0, 2, 4, 6, 8]\n"
     ]
    }
   ],
   "source": [
    "# Apply a function to each element\n",
    "def double(x):\n",
    "    return x * 2\n",
    "\n",
    "doubled = [double(x) for x in range(5)]\n",
    "print(doubled)  # Output: [0, 2, 4, 6, 8]"
   ]
  },
  {
   "cell_type": "markdown",
   "id": "c86442ae-317e-4669-a416-0146e2d0b94b",
   "metadata": {},
   "source": [
    "## 2. Lambda Functions\n",
    "A **lambda function** is **an anonymous function** in Python, defined using the `lambda` keyword. It is often used for short, throwaway functions.\n",
    "\n",
    "**Syntax:**\n",
    "```python\n",
    "lambda arguments: expression"
   ]
  },
  {
   "cell_type": "markdown",
   "id": "0e8263fb-eadd-4462-91aa-77fd8eaba4b5",
   "metadata": {},
   "source": [
    "## 3. Creating a Lambda Function\n",
    "Lambda functions are typically used where a small, one-time, or inline function is required.\n",
    "\n",
    "Examples:\n",
    "### Basic Lambda:"
   ]
  },
  {
   "cell_type": "code",
   "execution_count": 23,
   "id": "cf47f446-abcd-4241-9802-f4d412440965",
   "metadata": {},
   "outputs": [
    {
     "name": "stdout",
     "output_type": "stream",
     "text": [
      "8\n"
     ]
    }
   ],
   "source": [
    "# Add two numbers\n",
    "add = lambda x, y: x + y\n",
    "print(add(3, 5))  # Output: 8"
   ]
  },
  {
   "cell_type": "markdown",
   "id": "229bfecd-d163-45e8-a1fd-6ccfc011b448",
   "metadata": {},
   "source": [
    "### Using Lambda with Built-In Functions:"
   ]
  },
  {
   "cell_type": "code",
   "execution_count": 26,
   "id": "a2ef52bf-ecda-4c73-906b-3d1f803c7b45",
   "metadata": {},
   "outputs": [
    {
     "name": "stdout",
     "output_type": "stream",
     "text": [
      "[(5, 0), (3, 1), (1, 2)]\n"
     ]
    }
   ],
   "source": [
    "# Sort a list of tuples by the second element\n",
    "pairs = [(1, 2), (3, 1), (5, 0)]\n",
    "sorted_pairs = sorted(pairs, key=lambda x: x[1])\n",
    "print(sorted_pairs)  # Output: [(5, 0), (3, 1), (1, 2)]"
   ]
  },
  {
   "cell_type": "markdown",
   "id": "e8c8a1d7-dfc8-41b0-a6da-f8217c829773",
   "metadata": {},
   "source": [
    "### Lambda in Map:"
   ]
  },
  {
   "cell_type": "code",
   "execution_count": 29,
   "id": "c0b39dac-8912-460e-a803-681822bb65d8",
   "metadata": {},
   "outputs": [
    {
     "name": "stdout",
     "output_type": "stream",
     "text": [
      "[2, 4, 6, 8]\n"
     ]
    }
   ],
   "source": [
    "# Double each element in a list\n",
    "numbers = [1, 2, 3, 4]\n",
    "doubled = list(map(lambda x: x * 2, numbers))\n",
    "print(doubled)  # Output: [2, 4, 6, 8]"
   ]
  },
  {
   "cell_type": "markdown",
   "id": "8224b2e6-1965-4876-bd4b-69d487df3659",
   "metadata": {},
   "source": [
    "### Lambda in Filter:"
   ]
  },
  {
   "cell_type": "code",
   "execution_count": 32,
   "id": "4d58c9e1-7eda-48c8-8026-1970addcaa34",
   "metadata": {},
   "outputs": [
    {
     "name": "stdout",
     "output_type": "stream",
     "text": [
      "[2, 4, 6]\n"
     ]
    }
   ],
   "source": [
    "# Filter even numbers\n",
    "numbers = [1, 2, 3, 4, 5, 6]\n",
    "evens = list(filter(lambda x: x % 2 == 0, numbers))\n",
    "print(evens)  # Output: [2, 4, 6]"
   ]
  },
  {
   "cell_type": "markdown",
   "id": "dbcbf37b-0403-4308-bcfc-1af3aa6780f0",
   "metadata": {},
   "source": [
    "## 4. Lambda Function Inside Another Function\n",
    "Lambda functions can be defined and used inside other functions.\n",
    "\n",
    "Example:"
   ]
  },
  {
   "cell_type": "code",
   "execution_count": 35,
   "id": "b629efae-0d03-4755-8d25-8ce555ea5ba0",
   "metadata": {},
   "outputs": [
    {
     "name": "stdout",
     "output_type": "stream",
     "text": [
      "10\n",
      "15\n"
     ]
    }
   ],
   "source": [
    "def multiplier(n):\n",
    "    return lambda x: x * n\n",
    "\n",
    "double = multiplier(2)  # Creates a lambda that multiplies by 2\n",
    "triple = multiplier(3)  # Creates a lambda that multiplies by 3\n",
    "\n",
    "print(double(5))  # Output: 10\n",
    "print(triple(5))  # Output: 15"
   ]
  },
  {
   "cell_type": "markdown",
   "id": "213cb006-c284-4cbe-a45c-beac6b0ba151",
   "metadata": {},
   "source": [
    "## List Comprehension and Lambda Combined\n",
    "You can combine list comprehensions and lambda functions for more powerful operations.\n",
    "\n",
    "Example:"
   ]
  },
  {
   "cell_type": "code",
   "execution_count": 38,
   "id": "aafc544f-0340-444d-989b-08f51ec3bf48",
   "metadata": {},
   "outputs": [
    {
     "name": "stdout",
     "output_type": "stream",
     "text": [
      "[2, 4, 6, 8]\n"
     ]
    }
   ],
   "source": [
    "# Apply a lambda to double each number in a list comprehension\n",
    "numbers = [1, 2, 3, 4]\n",
    "doubled = [(lambda x: x * 2)(x) for x in numbers]\n",
    "print(doubled)  # Output: [2, 4, 6, 8]"
   ]
  },
  {
   "cell_type": "markdown",
   "id": "d7f5b185-5645-43a1-b39e-51dbe46e1602",
   "metadata": {},
   "source": [
    "# Summary Table: List Comprehension and Lambda Functions\r\n",
    "\r\n",
    "| **Feature**                     | **Description**                                        | **Example**                                         |\r\n",
    "|----------------------------------|-------------------------------------------------------|---------------------------------------------------|\r\n",
    "| **List Comprehension**           | Create lists in a concise way                        | `[x**2 for x in range(5)]`                       |\r\n",
    "| **Conditional List Comprehension** | Add conditions to filter items in the list           | `[x for x in range(10) if x % 2 == 0]`           |\r\n",
    "| **Nested List Comprehension**    | Use nested loops within a list comprehension         | `[(i, j) for i in range(3) for j in range(3)]`   |\r\n",
    "| **Lambda Function**              | Define anonymous, inline functions                   | `lambda x, y: x + y`                             |\r\n",
    "| **Lambda with Map**              | Apply a function to all items in an iterable         | `map(lambda x: x*2, numbers)`                   |\r\n",
    "| **Lambda with Filter**           | Filter items based on a condition                   | `filter(lambda x: x%2==0, numbers)`             |\r\n",
    "| **Lambda with Sorted**           | Sort items using a lambda as a key                  | `sorted(pairs, key=lambda x: x[1])`             |\r\n",
    "| **Lambda Inside Another Function** | Create higher-order functions using lambda            | `multiplier(n) -> lambda x: x * n`              |\r\n",
    "| **List Comprehension + Lambda**  | Combine lambda functions with list comprehension    | `[(lambda x: x*2)(x) for x in numbers]`         |\r\n"
   ]
  }
 ],
 "metadata": {
  "kernelspec": {
   "display_name": "Python 3 (ipykernel)",
   "language": "python",
   "name": "python3"
  },
  "language_info": {
   "codemirror_mode": {
    "name": "ipython",
    "version": 3
   },
   "file_extension": ".py",
   "mimetype": "text/x-python",
   "name": "python",
   "nbconvert_exporter": "python",
   "pygments_lexer": "ipython3",
   "version": "3.12.4"
  }
 },
 "nbformat": 4,
 "nbformat_minor": 5
}
