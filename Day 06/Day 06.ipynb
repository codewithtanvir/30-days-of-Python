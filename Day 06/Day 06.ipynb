{
 "cells": [
  {
   "cell_type": "markdown",
   "id": "646f6924-c8c7-4968-9808-d8de97b0f163",
   "metadata": {},
   "source": [
    "## Day 06"
   ]
  },
  {
   "cell_type": "markdown",
   "id": "9f74d60c-cd77-4721-8d7a-f68c28fcf25d",
   "metadata": {},
   "source": [
    "# Sets in Python\n",
    "\n",
    "A **set** in Python is a collection of unique, unordered elements. Sets are particularly useful when you want to store data without duplicates and perform mathematical set operations like union, intersection, and difference.\n",
    "\n",
    "---\n",
    "\n",
    "## **Key Characteristics of Sets**\n",
    "- **Unordered**: The elements in a set do not maintain any specific order.\n",
    "- **Unique Elements**: A set does not allow duplicate elements.\n",
    "- **Mutable**: You can add or remove elements from a set.\n",
    "- **No Indexing**: Since sets are unordered, they do not support indexing or slicing.\n",
    "\n",
    "---\n",
    "\n",
    "## **Creating a Set**\n",
    "\n",
    "You can create a set using the `set()` constructor or curly braces `{}`."
   ]
  },
  {
   "cell_type": "markdown",
   "id": "8d0589e3-784c-45e9-80dd-fcee1dafb4dc",
   "metadata": {},
   "source": [
    "### **Example**\n"
   ]
  },
  {
   "cell_type": "code",
   "execution_count": 6,
   "id": "6816b750-f692-4bb3-b989-39258154b077",
   "metadata": {},
   "outputs": [
    {
     "name": "stdout",
     "output_type": "stream",
     "text": [
      "{1, 2, 3, 4}\n"
     ]
    }
   ],
   "source": [
    "# Using curly braces\n",
    "my_set = {1, 2, 3, 4}\n",
    "print(my_set)  # Output: {1, 2, 3, 4}"
   ]
  },
  {
   "cell_type": "code",
   "execution_count": 8,
   "id": "8ddbff17-2208-485f-a96a-50705b01471f",
   "metadata": {},
   "outputs": [
    {
     "name": "stdout",
     "output_type": "stream",
     "text": [
      "{1, 2, 3}\n"
     ]
    }
   ],
   "source": [
    "# Using the set() constructor\n",
    "another_set = set([1, 2, 2, 3])\n",
    "print(another_set)  # Output: {1, 2, 3} (duplicates removed)"
   ]
  },
  {
   "cell_type": "code",
   "execution_count": 10,
   "id": "0312c940-1bca-432b-b1e6-ae78fbfdaf1e",
   "metadata": {},
   "outputs": [
    {
     "name": "stdout",
     "output_type": "stream",
     "text": [
      "set()\n"
     ]
    }
   ],
   "source": [
    "# Creating an empty set\n",
    "empty_set = set()\n",
    "print(empty_set)  # Output: set()"
   ]
  },
  {
   "cell_type": "markdown",
   "id": "6080642e-c1be-48c3-b853-99ace87c106a",
   "metadata": {},
   "source": [
    "## **Getting Set's Length**\n",
    "Use the `len()` function to determine how many items are in a set."
   ]
  },
  {
   "cell_type": "code",
   "execution_count": 14,
   "id": "ef532334-8066-48d2-b6fc-a9d7cb755926",
   "metadata": {},
   "outputs": [
    {
     "name": "stdout",
     "output_type": "stream",
     "text": [
      "4\n"
     ]
    }
   ],
   "source": [
    "my_set = {1, 2, 3, 4}\n",
    "print(len(my_set))  # Output: 4"
   ]
  },
  {
   "cell_type": "markdown",
   "id": "a469beea-65d1-4cab-a7d4-1a9da26d86fe",
   "metadata": {},
   "source": [
    "## **Accessing Items in a Set**\n",
    "Since sets are unordered, you cannot access items by index. However, you can loop through the set. \n",
    "We use loops to access items. We will see this in loop section"
   ]
  },
  {
   "cell_type": "code",
   "execution_count": 17,
   "id": "ae2124b3-7112-4380-9154-72be11a2f3af",
   "metadata": {},
   "outputs": [
    {
     "name": "stdout",
     "output_type": "stream",
     "text": [
      "apple\n",
      "cherry\n",
      "banana\n"
     ]
    }
   ],
   "source": [
    "my_set = {'apple', 'banana', 'cherry'}\n",
    "\n",
    "# Loop through the set\n",
    "for item in my_set:\n",
    "    print(item)"
   ]
  },
  {
   "cell_type": "markdown",
   "id": "c101f510-ee90-4c16-916a-fdc094b6a5ed",
   "metadata": {},
   "source": [
    "## **Checking an Item**\n",
    "Use the `in` keyword to check if an item exists in a set."
   ]
  },
  {
   "cell_type": "code",
   "execution_count": 22,
   "id": "d0490761-63bf-4eef-b3c2-476781d5304a",
   "metadata": {},
   "outputs": [
    {
     "name": "stdout",
     "output_type": "stream",
     "text": [
      "True\n",
      "False\n"
     ]
    }
   ],
   "source": [
    "my_set = {1, 2, 3, 4}\n",
    "print(2 in my_set)   # Output: True\n",
    "print(5 in my_set)   # Output: False"
   ]
  },
  {
   "cell_type": "markdown",
   "id": "c2982ce2-74c6-48a3-a047-f7713304c461",
   "metadata": {},
   "source": [
    "## **Adding Items to a Set**\n",
    "Use the `add()` method to add a single item or the `update()` method to add multiple items."
   ]
  },
  {
   "cell_type": "code",
   "execution_count": 25,
   "id": "a9b486af-c74a-4bdb-a0d6-27a0fef4581e",
   "metadata": {},
   "outputs": [
    {
     "name": "stdout",
     "output_type": "stream",
     "text": [
      "{1, 2, 3, 4}\n",
      "{1, 2, 3, 4, 5, 6}\n"
     ]
    }
   ],
   "source": [
    "# Add a single item\n",
    "my_set = {1, 2, 3}\n",
    "my_set.add(4)\n",
    "print(my_set)  # Output: {1, 2, 3, 4}\n",
    "\n",
    "# Add multiple items\n",
    "my_set.update([5, 6])\n",
    "print(my_set)  # Output: {1, 2, 3, 4, 5, 6}"
   ]
  },
  {
   "cell_type": "markdown",
   "id": "46222d5b-79db-49ab-a419-5fe914d59b0c",
   "metadata": {},
   "source": [
    "## **Removing Items from a Set**\n",
    "- Use `remove()` to remove a specific item (raises an error if the item doesn't exist).\n",
    "- Use `discard()` to remove a specific item (does not raise an error if the item doesn't exist).\n",
    "- Use `pop()` to remove a random item."
   ]
  },
  {
   "cell_type": "code",
   "execution_count": 29,
   "id": "c87e7d1a-0dbe-4845-b364-e339d93a50ca",
   "metadata": {},
   "outputs": [
    {
     "name": "stdout",
     "output_type": "stream",
     "text": [
      "{1, 3, 4}\n",
      "1\n"
     ]
    }
   ],
   "source": [
    "my_set = {1, 2, 3, 4}\n",
    "\n",
    "# Remove a specific item\n",
    "my_set.remove(2)\n",
    "print(my_set)  # Output: {1, 3, 4}\n",
    "\n",
    "# Discard an item\n",
    "my_set.discard(5)  # Does not raise an error\n",
    "\n",
    "# Pop a random item\n",
    "removed_item = my_set.pop()\n",
    "print(removed_item)  # Randomly removed item"
   ]
  },
  {
   "cell_type": "markdown",
   "id": "0db69c40-edc1-4ad4-aa08-d860322cb860",
   "metadata": {},
   "source": [
    "## **Clearing Items in a Set**\n",
    "Use `clear()` to remove all elements from the set."
   ]
  },
  {
   "cell_type": "code",
   "execution_count": 32,
   "id": "b810d250-10ad-4a39-bac6-c9b156d64b28",
   "metadata": {},
   "outputs": [
    {
     "name": "stdout",
     "output_type": "stream",
     "text": [
      "set()\n"
     ]
    }
   ],
   "source": [
    "my_set = {1, 2, 3}\n",
    "my_set.clear()\n",
    "print(my_set)  # Output: set()"
   ]
  },
  {
   "cell_type": "markdown",
   "id": "b6fd309a-3b3c-4f4b-a173-49c7f9677626",
   "metadata": {},
   "source": [
    "## **Deleting a Set**\n",
    "Use the `del` keyword to delete the entire set."
   ]
  },
  {
   "cell_type": "code",
   "execution_count": 39,
   "id": "ecf3462f-c0ed-488b-8ae6-99901d0b4831",
   "metadata": {},
   "outputs": [
    {
     "ename": "NameError",
     "evalue": "name 'my_set' is not defined",
     "output_type": "error",
     "traceback": [
      "\u001b[1;31m---------------------------------------------------------------------------\u001b[0m",
      "\u001b[1;31mNameError\u001b[0m                                 Traceback (most recent call last)",
      "Cell \u001b[1;32mIn[39], line 3\u001b[0m\n\u001b[0;32m      1\u001b[0m my_set \u001b[38;5;241m=\u001b[39m {\u001b[38;5;241m1\u001b[39m, \u001b[38;5;241m2\u001b[39m, \u001b[38;5;241m3\u001b[39m}\n\u001b[0;32m      2\u001b[0m \u001b[38;5;28;01mdel\u001b[39;00m my_set\n\u001b[1;32m----> 3\u001b[0m \u001b[38;5;28mprint\u001b[39m(\u001b[43mmy_set\u001b[49m)  \u001b[38;5;66;03m# Raises NameError: name 'my_set' is not defined\u001b[39;00m\n",
      "\u001b[1;31mNameError\u001b[0m: name 'my_set' is not defined"
     ]
    }
   ],
   "source": [
    "my_set = {1, 2, 3}\n",
    "del my_set\n",
    "print(my_set)  # Raises NameError: name 'my_set' is not defined"
   ]
  },
  {
   "cell_type": "markdown",
   "id": "a7b79f68-0109-48d4-b19b-093ba3f2e438",
   "metadata": {},
   "source": [
    "## **Converting List to Set**\n",
    "Use the `set()` function to convert a list to a set (removes duplicates)."
   ]
  },
  {
   "cell_type": "code",
   "execution_count": 42,
   "id": "335aa8a9-2858-4f62-b320-743269d5f68b",
   "metadata": {},
   "outputs": [
    {
     "name": "stdout",
     "output_type": "stream",
     "text": [
      "{1, 2, 3, 4}\n"
     ]
    }
   ],
   "source": [
    "my_list = [1, 2, 2, 3, 4]\n",
    "my_set = set(my_list)\n",
    "print(my_set)  # Output: {1, 2, 3, 4}"
   ]
  },
  {
   "cell_type": "markdown",
   "id": "fed99479-4dd5-4c61-9f79-67364b5fca38",
   "metadata": {},
   "source": [
    "## **Joining Sets**\n",
    "Use the `union()` or `update()` methods to combine sets."
   ]
  },
  {
   "cell_type": "code",
   "execution_count": 46,
   "id": "b1d24cf4-65ad-4e18-82d7-6e4f289791ec",
   "metadata": {},
   "outputs": [
    {
     "name": "stdout",
     "output_type": "stream",
     "text": [
      "{1, 2, 3, 4, 5}\n",
      "{1, 2, 3, 4, 5}\n"
     ]
    }
   ],
   "source": [
    "set1 = {1, 2, 3}\n",
    "set2 = {3, 4, 5}\n",
    "\n",
    "# Using union() (creates a new set)\n",
    "new_set = set1.union(set2)\n",
    "print(new_set)  # Output: {1, 2, 3, 4, 5}\n",
    "\n",
    "# Using update() (modifies the original set)\n",
    "set1.update(set2)\n",
    "print(set1)  # Output: {1, 2, 3, 4, 5}"
   ]
  },
  {
   "attachments": {
    "12dc5876-0b1d-4a25-838f-76a13fc5aacd.png": {
     "image/png": "[encoded data removed]"
    }
   },
   "cell_type": "markdown",
   "id": "659b55ce-c371-4e2f-a340-41f1181baa9e",
   "metadata": {},
   "source": [
    "![1_p_tVVeiut8GNxGKoSZa6cw.png](attachment:12dc5876-0b1d-4a25-838f-76a13fc5aacd.png)"
   ]
  },
  {
   "cell_type": "markdown",
   "id": "0d0ce2c8-fcfe-45ee-b591-23d14a85970a",
   "metadata": {},
   "source": [
    "## **Finding Intersection Items**\n",
    "Use `intersection()` to get common items between two sets."
   ]
  },
  {
   "cell_type": "code",
   "execution_count": 50,
   "id": "113256bd-b557-4446-a64e-0084604dd617",
   "metadata": {},
   "outputs": [
    {
     "name": "stdout",
     "output_type": "stream",
     "text": [
      "{2, 3}\n"
     ]
    }
   ],
   "source": [
    "set1 = {1, 2, 3}\n",
    "set2 = {2, 3, 4}\n",
    "\n",
    "common_items = set1.intersection(set2)\n",
    "print(common_items)  # Output: {2, 3}"
   ]
  },
  {
   "cell_type": "markdown",
   "id": "685fc02d-52b7-4f40-b529-6b2325d5f8ca",
   "metadata": {},
   "source": [
    "## **Checking Subset and Superset**\n",
    "- Use `issubset()` to check if one set is a subset of another.\n",
    "- Use `issuperset()` to check if one set is a superset of another."
   ]
  },
  {
   "cell_type": "code",
   "execution_count": 53,
   "id": "91c47d3e-a08d-44b5-a1eb-78d46bbd959e",
   "metadata": {},
   "outputs": [
    {
     "name": "stdout",
     "output_type": "stream",
     "text": [
      "True\n",
      "True\n"
     ]
    }
   ],
   "source": [
    "set1 = {1, 2}\n",
    "set2 = {1, 2, 3}\n",
    "\n",
    "print(set1.issubset(set2))  # Output: True\n",
    "print(set2.issuperset(set1))  # Output: True"
   ]
  },
  {
   "cell_type": "markdown",
   "id": "1cac590a-8091-4d00-b6f6-657e97d25cb1",
   "metadata": {},
   "source": [
    "## **Checking the Difference Between Two Sets**\n",
    "Use `difference()` to find elements in one set that are not in another."
   ]
  },
  {
   "cell_type": "code",
   "execution_count": 56,
   "id": "3338d181-717e-4e50-a744-982be53919cc",
   "metadata": {},
   "outputs": [
    {
     "name": "stdout",
     "output_type": "stream",
     "text": [
      "{1, 2}\n"
     ]
    }
   ],
   "source": [
    "set1 = {1, 2, 3}\n",
    "set2 = {3, 4, 5}\n",
    "\n",
    "diff = set1.difference(set2)\n",
    "print(diff)  # Output: {1, 2}"
   ]
  },
  {
   "cell_type": "markdown",
   "id": "d1aeba5b-74d9-479a-997f-f25b3d0c2e89",
   "metadata": {},
   "source": [
    "## **Finding Symmetric Difference Between Two Sets**\n",
    "Use `symmetric_difference()` to find elements in either set but not in both."
   ]
  },
  {
   "cell_type": "code",
   "execution_count": 59,
   "id": "f17e8a55-8e6c-47b7-9e8e-27a9ee2c2cda",
   "metadata": {},
   "outputs": [
    {
     "name": "stdout",
     "output_type": "stream",
     "text": [
      "{1, 2, 4, 5}\n"
     ]
    }
   ],
   "source": [
    "set1 = {1, 2, 3}\n",
    "set2 = {3, 4, 5}\n",
    "\n",
    "sym_diff = set1.symmetric_difference(set2)\n",
    "print(sym_diff)  # Output: {1, 2, 4, 5}"
   ]
  },
  {
   "cell_type": "markdown",
   "id": "cb1b1b12-cb57-4bb6-b87a-bf6b0bf35f09",
   "metadata": {},
   "source": [
    "# **Sets in Python: Summary Table**\n",
    "\n",
    "| **Operation**                     | **Method**                     | **Description**                              | **Example**                                  |\n",
    "|-----------------------------------|--------------------------------|---------------------------------------------|---------------------------------------------|\n",
    "| **Create a Set**                  | `{}` or `set()`               | Create a set with elements or empty set.    | `my_set = {1, 2, 3}`                        |\n",
    "| **Get Set Length**                | `len()`                       | Get the number of elements in the set.      | `len(my_set)`                               |\n",
    "| **Check Item in Set**             | `in`                          | Check if an item exists in the set.         | `2 in my_set`                               |\n",
    "| **Add an Item**                   | `add()`                       | Add a single item to the set.               | `my_set.add(4)`                             |\n",
    "| **Add Multiple Items**            | `update()`                    | Add multiple items to the set.              | `my_set.update([5, 6])`                     |\n",
    "| **Remove an Item (Error on Fail)**| `remove()`                    | Remove a specific item, raises error if absent. | `my_set.remove(2)`                          |\n",
    "| **Remove an Item (No Error)**     | `discard()`                   | Remove a specific item, no error if absent. | `my_set.discard(5)`                         |\n",
    "| **Remove Random Item**            | `pop()`                       | Removes a random item and returns it.       | `removed = my_set.pop()`                    |\n",
    "| **Clear Set**                     | `clear()`                     | Remove all elements from the set.           | `my_set.clear()`                            |\n",
    "| **Delete Set**                    | `del`                         | Delete the entire set.                      | `del my_set`                                |\n",
    "| **Union (Join Sets)**             | `union()` or `update()`       | Combine two sets into one.                  | `set1.union(set2)`                          |\n",
    "| **Intersection**                  | `intersection()`              | Get common items between sets.              | `set1.intersection(set2)`                   |\n",
    "| **Difference**                    | `difference()`                | Get items in one set but not in the other.  | `set1.difference(set2)`                     |\n",
    "| **Symmetric Difference**          | `symmetric_difference()`      | Get items in either set but not in both.    | `set1.symmetric_difference(set2)`           |\n",
    "| **Subset Check**                  | `issubset()`                  | Check if one set is a subset of another.    | `set1.issubset(set2)`                       |\n",
    "| **Superset Check**                | `issuperset()`                | Check if one set is a superset of another.  | `set1.issuperset(set2)`                     |\n",
    "| **Convert List to Set**           | `set()`                       | Convert a list into a set (removes duplicates). | `set(my_list)`                              |\n"
   ]
  }
 ],
 "metadata": {
  "kernelspec": {
   "display_name": "Python 3 (ipykernel)",
   "language": "python",
   "name": "python3"
  },
  "language_info": {
   "codemirror_mode": {
    "name": "ipython",
    "version": 3
   },
   "file_extension": ".py",
   "mimetype": "text/x-python",
   "name": "python",
   "nbconvert_exporter": "python",
   "pygments_lexer": "ipython3",
   "version": "3.12.4"
  }
 },
 "nbformat": 4,
 "nbformat_minor": 5
}
