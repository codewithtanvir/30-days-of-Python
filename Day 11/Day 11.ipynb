{
 "cells": [
  {
   "cell_type": "markdown",
   "id": "ad017adf-671e-46ad-8c8b-04dd1c314ead",
   "metadata": {},
   "source": [
    "# Day 11"
   ]
  },
  {
   "cell_type": "markdown",
   "id": "abc9b935-5709-4db6-a867-bbe5f5de17c7",
   "metadata": {},
   "source": [
    "# Python Modules\n",
    "\n",
    "---\n",
    "\n",
    "## **1. What is a Module?**\n",
    "\n",
    "A **module** is a file containing Python code (functions, classes, or variables) that you can reuse in other Python programs. Modules allow you to organize and reuse code efficiently.\n"
   ]
  },
  {
   "cell_type": "markdown",
   "id": "5ee584dd-2dd7-4b52-867f-9363121ec8b8",
   "metadata": {},
   "source": [
    "## 2. Creating a Module\n",
    "Create a Python file (e.g., my_module.py).\n",
    "Define functions, classes, or variables inside it.\n",
    "Example:\n",
    "```python\n",
    "# my_module.py\n",
    "def add(a, b):\n",
    "    return a + b\n",
    "\n",
    "def subtract(a, b):\n",
    "    return a - b"
   ]
  },
  {
   "cell_type": "markdown",
   "id": "3de77dee-e108-42bf-abf8-aeae28612963",
   "metadata": {},
   "source": [
    "## 3. Importing a Module\n",
    "Use the import keyword to include a module in your program.\n",
    "\n",
    "Example:\n",
    "```python\n",
    "\n",
    "# main.py\n",
    "import my_module\n",
    "\n",
    "result = my_module.add(5, 3)\n",
    "print(result)  # Output: 8"
   ]
  },
  {
   "cell_type": "markdown",
   "id": "67c2ea19-cc36-4438-88d6-f470d3800496",
   "metadata": {},
   "source": [
    "## 4. Import Functions from a Module\n",
    "You can import specific functions from a module using the `from ... import` syntax.\n",
    "\n",
    "Example:\n",
    "```python\n",
    "\n",
    "from my_module import add\n",
    "\n",
    "result = add(5, 3)\n",
    "print(result)  # Output: 8"
   ]
  },
  {
   "cell_type": "markdown",
   "id": "a5327a19-8af9-4a94-8cc4-a79468cdcea5",
   "metadata": {},
   "source": [
    "## 5. Import Functions from a Module and Renaming\n",
    "Use the as keyword to rename a function or module.\n",
    "\n",
    "Example:\n",
    "```python\n",
    "from my_module import add as addition\n",
    "\n",
    "result = addition(5, 3)\n",
    "print(result)  # Output: 8"
   ]
  },
  {
   "cell_type": "markdown",
   "id": "00128060-f207-423b-8828-5d06e171033c",
   "metadata": {},
   "source": [
    "## 6. Import Built-in Modules\n",
    "Python comes with many built-in modules like `os`, `sys`, `math`, `random`, etc. Use the `import` statement to include them.\n",
    "\n",
    "Example:"
   ]
  },
  {
   "cell_type": "code",
   "execution_count": 18,
   "id": "5cdcde2d-3e18-4203-ad32-c94941c5d64b",
   "metadata": {},
   "outputs": [
    {
     "name": "stdout",
     "output_type": "stream",
     "text": [
      "4.0\n"
     ]
    }
   ],
   "source": [
    "import math\n",
    "\n",
    "print(math.sqrt(16))  # Output: 4.0"
   ]
  },
  {
   "cell_type": "markdown",
   "id": "d66afb3a-26ff-4b8c-afaf-b56d4a1da363",
   "metadata": {},
   "source": [
    "## 7. OS Module\n",
    "The `os` module provides functions to interact with the operating system.\n",
    "\n",
    "Example:\n",
    "\n"
   ]
  },
  {
   "cell_type": "code",
   "execution_count": 21,
   "id": "d33c0f5c-2705-4088-a52c-c0ecb6ec6ef3",
   "metadata": {},
   "outputs": [
    {
     "name": "stdout",
     "output_type": "stream",
     "text": [
      "C:\\Users\\Asus\\Desktop\\30 Days of Python\n",
      "['.ipynb_checkpoints', 'Day 01.ipynb', 'Day 02.ipynb', 'Day 03.ipynb', 'Day 04.ipynb', 'Day 05.ipynb', 'Day 06.ipynb', 'Day 07.ipynb', 'Day 08.ipynb', 'Day 09.ipynb', 'Day 10.ipynb', 'Day 11.ipynb', 'readme.md']\n"
     ]
    }
   ],
   "source": [
    "import os\n",
    "\n",
    "# Get the current working directory\n",
    "print(os.getcwd())\n",
    "\n",
    "# List files in the current directory\n",
    "print(os.listdir())\n",
    "\n",
    "# Create a new directory\n",
    "os.mkdir(\"new_folder\")"
   ]
  },
  {
   "cell_type": "markdown",
   "id": "3854c4f4-9b50-4695-af5b-1b0e6234c994",
   "metadata": {},
   "source": [
    "## 8. Sys Module\n",
    "The `sys` module provides system-specific parameters and functions.\n",
    "\n",
    "Example:"
   ]
  },
  {
   "cell_type": "code",
   "execution_count": 24,
   "id": "6b723024-34e5-4411-8aee-3033437c84c9",
   "metadata": {},
   "outputs": [
    {
     "name": "stdout",
     "output_type": "stream",
     "text": [
      "3.12.4 | packaged by Anaconda, Inc. | (main, Jun 18 2024, 15:03:56) [MSC v.1929 64 bit (AMD64)]\n",
      "['C:\\\\Users\\\\Asus\\\\AppData\\\\Roaming\\\\Python\\\\Python312\\\\site-packages\\\\ipykernel_launcher.py', '-f', 'C:\\\\Users\\\\Asus\\\\AppData\\\\Roaming\\\\jupyter\\\\runtime\\\\kernel-dd74153f-8910-4a8f-a445-5d7db884fb3a.json']\n"
     ]
    }
   ],
   "source": [
    "import sys\n",
    "\n",
    "# Get Python version\n",
    "print(sys.version)\n",
    "\n",
    "# Get command-line arguments\n",
    "print(sys.argv)\n",
    "\n",
    "# Exit the program\n",
    "# sys.exit()"
   ]
  },
  {
   "cell_type": "markdown",
   "id": "160c7c04-396b-4cfd-909c-a83d9de9afc4",
   "metadata": {},
   "source": [
    "## 9. Statistics Module\n",
    "The `statistics` module provides functions for statistical operations.\n",
    "\n",
    "Example:"
   ]
  },
  {
   "cell_type": "code",
   "execution_count": 28,
   "id": "f109892a-57ef-48c3-b0f1-a900e689bb55",
   "metadata": {},
   "outputs": [
    {
     "name": "stdout",
     "output_type": "stream",
     "text": [
      "3\n",
      "3\n",
      "1.5811388300841898\n"
     ]
    }
   ],
   "source": [
    "import statistics\n",
    "\n",
    "data = [1, 2, 3, 4, 5]\n",
    "\n",
    "# Mean\n",
    "print(statistics.mean(data))  # Output: 3\n",
    "\n",
    "# Median\n",
    "print(statistics.median(data))  # Output: 3\n",
    "\n",
    "# Standard Deviation\n",
    "print(statistics.stdev(data))  # Output: 1.5811388300841898"
   ]
  },
  {
   "cell_type": "markdown",
   "id": "d8dad6c0-781f-4215-ba76-45eab8f7f54c",
   "metadata": {},
   "source": [
    "## 10. Math Module\n",
    "The `math` module provides mathematical functions and constants.\n",
    "\n",
    "Example:"
   ]
  },
  {
   "cell_type": "code",
   "execution_count": 31,
   "id": "32351742-29ef-491f-abd3-d5b18ef4989d",
   "metadata": {},
   "outputs": [
    {
     "name": "stdout",
     "output_type": "stream",
     "text": [
      "3.141592653589793\n",
      "2.718281828459045\n",
      "120\n",
      "2.0\n"
     ]
    }
   ],
   "source": [
    "import math\n",
    "\n",
    "# Constants\n",
    "print(math.pi)  # Output: 3.141592653589793\n",
    "print(math.e)   # Output: 2.718281828459045\n",
    "\n",
    "# Functions\n",
    "print(math.factorial(5))  # Output: 120\n",
    "print(math.log(100, 10))  # Output: 2.0"
   ]
  },
  {
   "cell_type": "markdown",
   "id": "bef4a218-2820-48c7-a07e-965cb1e2451c",
   "metadata": {},
   "source": [
    "## 11. String Module\n",
    "The `string` module provides functions and constants for string manipulation.\n",
    "\n",
    "Example:"
   ]
  },
  {
   "cell_type": "code",
   "execution_count": 34,
   "id": "8a321714-6897-4683-a4a4-c9c02fef76a0",
   "metadata": {},
   "outputs": [
    {
     "name": "stdout",
     "output_type": "stream",
     "text": [
      "abcdefghijklmnopqrstuvwxyzABCDEFGHIJKLMNOPQRSTUVWXYZ\n",
      "0123456789\n",
      "Hello, Alice!\n"
     ]
    }
   ],
   "source": [
    "import string\n",
    "\n",
    "# Constants\n",
    "print(string.ascii_letters)  # Output: 'abcdefghijklmnopqrstuvwxyzABCDEFGHIJKLMNOPQRSTUVWXYZ'\n",
    "print(string.digits)         # Output: '0123456789'\n",
    "\n",
    "# Template strings\n",
    "template = string.Template(\"Hello, $name!\")\n",
    "print(template.substitute(name=\"Alice\"))  # Output: Hello, Alice!"
   ]
  },
  {
   "cell_type": "markdown",
   "id": "fc36033c-ddac-4423-8325-b9d4f3e4e723",
   "metadata": {},
   "source": [
    "## 12. Random Module\n",
    "The `random` module generates random numbers and performs random operations.\n",
    "\n",
    "Example:"
   ]
  },
  {
   "cell_type": "code",
   "execution_count": 39,
   "id": "1e938cbc-98a4-4e83-9874-15b9f20d054b",
   "metadata": {},
   "outputs": [
    {
     "name": "stdout",
     "output_type": "stream",
     "text": [
      "5\n",
      "red\n",
      "['red', 'green', 'blue']\n"
     ]
    }
   ],
   "source": [
    "import random\n",
    "\n",
    "# Generate a random number between 1 and 10\n",
    "print(random.randint(1, 10))\n",
    "\n",
    "# Choose a random element from a list\n",
    "colors = [\"red\", \"green\", \"blue\"]\n",
    "print(random.choice(colors))\n",
    "\n",
    "# Shuffle a list\n",
    "random.shuffle(colors)\n",
    "print(colors)"
   ]
  }
 ],
 "metadata": {
  "kernelspec": {
   "display_name": "Python 3 (ipykernel)",
   "language": "python",
   "name": "python3"
  },
  "language_info": {
   "codemirror_mode": {
    "name": "ipython",
    "version": 3
   },
   "file_extension": ".py",
   "mimetype": "text/x-python",
   "name": "python",
   "nbconvert_exporter": "python",
   "pygments_lexer": "ipython3",
   "version": "3.12.4"
  }
 },
 "nbformat": 4,
 "nbformat_minor": 5
}
