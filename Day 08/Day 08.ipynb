{
 "cells": [
  {
   "cell_type": "markdown",
   "id": "c257b598-2775-4bf2-be58-a5c473dc91e9",
   "metadata": {},
   "source": [
    "# Python Conditionals\r\n",
    "\r\n",
    "## What are Conditionals?\r\n",
    "Conditionals in Python allow you to execute code based on whether a condition is `True` or `False`. These are implemented using `if`, `elif`, and `else`.\r\n",
    "\r\n",
    "---\r\n",
    "\r\n",
    "## Basic Syntax\r\n",
    "\r\n",
    "```python\r\n",
    "if condition:\r\n",
    "    # Code to execute if condition is True\r\n",
    "elif another_condition:\r\n",
    "    # Code to execute if another_condition is True\r\n",
    "else:\r\n",
    "    # Code to execute if no conditions are True\r\n",
    "\n"
   ]
  },
  {
   "cell_type": "markdown",
   "id": "a27afd4e-54ce-4274-9407-2fdebff63a60",
   "metadata": {},
   "source": [
    "## 1. Basic If Statement\n",
    "The simplest form of a conditional executes code if the condition is `True`."
   ]
  },
  {
   "cell_type": "code",
   "execution_count": 7,
   "id": "65bfb9f8-869e-48dd-a8f4-f3c623cf54b1",
   "metadata": {},
   "outputs": [
    {
     "name": "stdout",
     "output_type": "stream",
     "text": [
      "x is greater than 5\n"
     ]
    }
   ],
   "source": [
    "x = 10\n",
    "if x > 5:\n",
    "    print(\"x is greater than 5\")"
   ]
  },
  {
   "cell_type": "markdown",
   "id": "5fe85f39-321e-43e7-99a7-56bed11490a8",
   "metadata": {},
   "source": [
    "## 2. If-Else Statement\n",
    "Adds an `else` block to execute code when the condition is `False`."
   ]
  },
  {
   "cell_type": "code",
   "execution_count": 10,
   "id": "4251e226-2d1b-40a8-8562-2d993c6411e9",
   "metadata": {},
   "outputs": [
    {
     "name": "stdout",
     "output_type": "stream",
     "text": [
      "x is less than or equal to 5\n"
     ]
    }
   ],
   "source": [
    "x = 3\n",
    "if x > 5:\n",
    "    print(\"x is greater than 5\")\n",
    "else:\n",
    "    print(\"x is less than or equal to 5\")"
   ]
  },
  {
   "cell_type": "markdown",
   "id": "29dfc295-e934-416b-a9ca-dd7235eafdee",
   "metadata": {},
   "source": [
    "## 3. If-Elif-Else Statement\n",
    "Allows multiple conditions to be checked in sequence."
   ]
  },
  {
   "cell_type": "code",
   "execution_count": 13,
   "id": "8681bbc9-a3c5-4998-bda9-5262d3d7b99c",
   "metadata": {},
   "outputs": [
    {
     "name": "stdout",
     "output_type": "stream",
     "text": [
      "x is greater than 5\n"
     ]
    }
   ],
   "source": [
    "x = 7\n",
    "if x < 5:\n",
    "    print(\"x is less than 5\")\n",
    "elif x == 5:\n",
    "    print(\"x is equal to 5\")\n",
    "else:\n",
    "    print(\"x is greater than 5\")"
   ]
  },
  {
   "cell_type": "markdown",
   "id": "2e934020-67ae-40d9-893f-b880a8b86937",
   "metadata": {},
   "source": [
    "## 4. Nested Conditionals\n",
    "Conditionals inside conditionals, useful for complex checks."
   ]
  },
  {
   "cell_type": "code",
   "execution_count": 16,
   "id": "e5880863-d817-42ea-851b-91f219b3f980",
   "metadata": {},
   "outputs": [
    {
     "name": "stdout",
     "output_type": "stream",
     "text": [
      "x is between 10 and 20\n"
     ]
    }
   ],
   "source": [
    "x = 15\n",
    "if x > 10:\n",
    "    if x < 20:\n",
    "        print(\"x is between 10 and 20\")\n",
    "    else:\n",
    "        print(\"x is greater than or equal to 20\")\n",
    "else:\n",
    "    print(\"x is 10 or less\")"
   ]
  },
  {
   "cell_type": "markdown",
   "id": "f1da0dd8-c675-49ea-afc4-fe980a091b5a",
   "metadata": {},
   "source": [
    "## 5. Logical Operators\n",
    "Combine multiple conditions using `and`, `or`, and `not`."
   ]
  },
  {
   "cell_type": "code",
   "execution_count": 21,
   "id": "77d7d2c8-00a1-4556-8f40-05190ebfd50a",
   "metadata": {},
   "outputs": [
    {
     "name": "stdout",
     "output_type": "stream",
     "text": [
      "x is between 5 and 10\n"
     ]
    }
   ],
   "source": [
    "x = 8\n",
    "\n",
    "# Using `and` operator\n",
    "if x > 5 and x < 10:\n",
    "    print(\"x is between 5 and 10\")"
   ]
  },
  {
   "cell_type": "code",
   "execution_count": 23,
   "id": "11330833-0694-4aa9-a966-3fe5d920a78d",
   "metadata": {},
   "outputs": [],
   "source": [
    "# Using `or` operator\n",
    "if x < 5 or x > 10:\n",
    "    print(\"x is either less than 5 or greater than 10\")"
   ]
  },
  {
   "cell_type": "code",
   "execution_count": 25,
   "id": "ada54464-15b9-4292-90d7-5ef4692e2e3b",
   "metadata": {},
   "outputs": [
    {
     "name": "stdout",
     "output_type": "stream",
     "text": [
      "x is not equal to 5\n"
     ]
    }
   ],
   "source": [
    "# Using `not` operator\n",
    "if not (x == 5):\n",
    "    print(\"x is not equal to 5\")"
   ]
  },
  {
   "cell_type": "markdown",
   "id": "3ed77e66-81b8-4a71-aab9-c873e69c2deb",
   "metadata": {},
   "source": [
    "## 6. Ternary (One-Line) Conditionals\n",
    "A compact way to write simple conditionals."
   ]
  },
  {
   "cell_type": "code",
   "execution_count": 28,
   "id": "5798f894-1baa-4ce6-ab0e-d9a910438dc0",
   "metadata": {},
   "outputs": [
    {
     "name": "stdout",
     "output_type": "stream",
     "text": [
      "Positive\n"
     ]
    }
   ],
   "source": [
    "x = 10\n",
    "result = \"Positive\" if x > 0 else \"Non-Positive\"\n",
    "print(result)  # Output: Positive"
   ]
  },
  {
   "cell_type": "markdown",
   "id": "71f95dc0-21d0-4609-96d8-f0435c96033b",
   "metadata": {},
   "source": [
    "## 7. Short-Circuit Evaluation\n",
    "Logical operators stop evaluating as soon as the result is known."
   ]
  },
  {
   "cell_type": "code",
   "execution_count": 31,
   "id": "5888d5db-f884-42ef-ac1d-df4a3fd75be2",
   "metadata": {},
   "outputs": [
    {
     "name": "stdout",
     "output_type": "stream",
     "text": [
      "Condition not met\n"
     ]
    }
   ],
   "source": [
    "x = 0\n",
    "if x != 0 and (10 / x > 1):  # Avoids division by zero\n",
    "    print(\"Condition met\")\n",
    "else:\n",
    "    print(\"Condition not met\")"
   ]
  },
  {
   "cell_type": "markdown",
   "id": "12e0f2c6-a72f-48bf-8eef-6d5d3b8ecd54",
   "metadata": {},
   "source": [
    "## 8. Using `in` and `not in` to Check Membership\n",
    "Check if a value exists in a sequence (list, tuple, string, etc.)."
   ]
  },
  {
   "cell_type": "code",
   "execution_count": 36,
   "id": "4d45ff8d-1eed-4d3c-9ee2-6bbf1f38c983",
   "metadata": {},
   "outputs": [
    {
     "name": "stdout",
     "output_type": "stream",
     "text": [
      "Apple is in the list\n"
     ]
    }
   ],
   "source": [
    "fruits = [\"apple\", \"banana\", \"cherry\"]\n",
    "if \"apple\" in fruits:\n",
    "    print(\"Apple is in the list\")"
   ]
  },
  {
   "cell_type": "markdown",
   "id": "61453767-e8eb-49ed-9417-9482f6d6f94f",
   "metadata": {},
   "source": [
    "## 9. Pass Statement\n",
    "Use `pass` as a placeholder when you need to define a block but leave it empty for now."
   ]
  },
  {
   "cell_type": "code",
   "execution_count": 39,
   "id": "f9fc723f-467a-402e-a6ce-3ee7abc43322",
   "metadata": {},
   "outputs": [],
   "source": [
    "x = 10\n",
    "if x > 5:\n",
    "    pass  # Placeholder for future code"
   ]
  },
  {
   "cell_type": "markdown",
   "id": "4a6ee5bb-f505-4368-855c-ce2ec8e99432",
   "metadata": {},
   "source": [
    "## 10. Match-Case (Python 3.10+)\n",
    "A cleaner alternative to a chain of `if-elif` conditions."
   ]
  },
  {
   "cell_type": "code",
   "execution_count": 42,
   "id": "d2be203d-8f3d-4b46-b9e3-ac01514f4bda",
   "metadata": {},
   "outputs": [
    {
     "name": "stdout",
     "output_type": "stream",
     "text": [
      "Not Found\n"
     ]
    }
   ],
   "source": [
    "status = 404\n",
    "match status:\n",
    "    case 200:\n",
    "        print(\"OK\")\n",
    "    case 404:\n",
    "        print(\"Not Found\")\n",
    "    case _:\n",
    "        print(\"Unknown status\")"
   ]
  },
  {
   "cell_type": "markdown",
   "id": "f784ab1c-f2f8-4c9d-a958-7c756a644da3",
   "metadata": {},
   "source": [
    "## 11. Combining Comparison Operators\n",
    "Python allows chaining of comparison operators for cleaner code."
   ]
  },
  {
   "cell_type": "code",
   "execution_count": 45,
   "id": "a975ced2-787b-4471-864a-007289cf99b9",
   "metadata": {},
   "outputs": [
    {
     "name": "stdout",
     "output_type": "stream",
     "text": [
      "x is between 10 and 20\n"
     ]
    }
   ],
   "source": [
    "x = 15\n",
    "if 10 < x <= 20:\n",
    "    print(\"x is between 10 and 20\")"
   ]
  },
  {
   "cell_type": "markdown",
   "id": "cb5f8bcc-8163-47f2-a344-5848964e7738",
   "metadata": {},
   "source": [
    "## 12. Checking Multiple Conditions in a List\n",
    "Check multiple conditions in one step using `all()` or `any()`.\n",
    "\n"
   ]
  },
  {
   "cell_type": "code",
   "execution_count": 48,
   "id": "31328dc5-0cd9-4d21-98b1-c26c3c8a88d8",
   "metadata": {},
   "outputs": [
    {
     "name": "stdout",
     "output_type": "stream",
     "text": [
      "All numbers are positive\n",
      "There's an even number\n"
     ]
    }
   ],
   "source": [
    "numbers = [4, 7, 9]\n",
    "if all(n > 0 for n in numbers):  # All elements must be greater than 0\n",
    "    print(\"All numbers are positive\")\n",
    "if any(n % 2 == 0 for n in numbers):  # At least one is even\n",
    "    print(\"There's an even number\")"
   ]
  },
  {
   "cell_type": "markdown",
   "id": "87d6390d-f013-4dc9-86a4-074a7dce3dfe",
   "metadata": {},
   "source": [
    "## 3. Advanced Nested Conditionals with Logical Operators\n",
    "Combine nested conditionals and logical operators for complex checks.\n",
    "\n"
   ]
  },
  {
   "cell_type": "code",
   "execution_count": 52,
   "id": "c2e8221d-089e-4031-b3fe-f0aaed30abc6",
   "metadata": {},
   "outputs": [
    {
     "name": "stdout",
     "output_type": "stream",
     "text": [
      "Eligible for the loan\n"
     ]
    }
   ],
   "source": [
    "age = 25\n",
    "income = 50000\n",
    "if age > 18:\n",
    "    if income > 30000:\n",
    "        print(\"Eligible for the loan\")\n",
    "    else:\n",
    "        print(\"Income too low\")\n",
    "else:\n",
    "    print(\"Age too low\")\n"
   ]
  },
  {
   "cell_type": "markdown",
   "id": "064766df-88e1-4dc8-8e44-200fc7fee3fb",
   "metadata": {},
   "source": [
    "## 14. Exception Handling in Conditionals\n",
    "Use `try` and `except` blocks with conditionals for robust code.\n",
    "\n"
   ]
  },
  {
   "cell_type": "raw",
   "id": "acb0845e-1b93-4c77-88c0-e6a8dc3539cf",
   "metadata": {},
   "source": [
    "x = \"5\"\n",
    "try:\n",
    "    num = int(x)\n",
    "    if num > 0:\n",
    "        print(\"Positive number\")\n",
    "except ValueError:\n",
    "    print(\"Invalid input\")"
   ]
  },
  {
   "cell_type": "markdown",
   "id": "1fe71fb8-9802-4c51-b1d2-a8c108411e97",
   "metadata": {},
   "source": [
    "## 15. Lambda and Conditionals\n",
    "Combine lambda functions with conditionals for concise one-liners."
   ]
  },
  {
   "cell_type": "code",
   "execution_count": 58,
   "id": "2528d658-0274-4f28-8ca9-1f00580a158b",
   "metadata": {},
   "outputs": [
    {
     "name": "stdout",
     "output_type": "stream",
     "text": [
      "Odd\n"
     ]
    }
   ],
   "source": [
    "check_even = lambda x: \"Even\" if x % 2 == 0 else \"Odd\"\n",
    "print(check_even(5))  # Output: Odd"
   ]
  },
  {
   "cell_type": "markdown",
   "id": "8af84aad-0dce-4d67-bc46-1560a4472187",
   "metadata": {},
   "source": [
    "## 16. Conditionals with Loops\n",
    "Use conditionals inside loops to filter or perform specific actions.\n"
   ]
  },
  {
   "cell_type": "code",
   "execution_count": 61,
   "id": "d5f2a34c-82f2-41b2-a08d-8c8c8ba37402",
   "metadata": {},
   "outputs": [
    {
     "name": "stdout",
     "output_type": "stream",
     "text": [
      "2 is even\n",
      "4 is even\n"
     ]
    }
   ],
   "source": [
    "numbers = [1, 2, 3, 4, 5]\n",
    "for num in numbers:\n",
    "    if num % 2 == 0:\n",
    "        print(f\"{num} is even\")\n"
   ]
  },
  {
   "cell_type": "raw",
   "id": "f87ba7ab-0a49-4889-9e8e-65c86be011ad",
   "metadata": {},
   "source": [
    "We will cover it later"
   ]
  }
 ],
 "metadata": {
  "kernelspec": {
   "display_name": "Python 3 (ipykernel)",
   "language": "python",
   "name": "python3"
  },
  "language_info": {
   "codemirror_mode": {
    "name": "ipython",
    "version": 3
   },
   "file_extension": ".py",
   "mimetype": "text/x-python",
   "name": "python",
   "nbconvert_exporter": "python",
   "pygments_lexer": "ipython3",
   "version": "3.12.4"
  }
 },
 "nbformat": 4,
 "nbformat_minor": 5
}
